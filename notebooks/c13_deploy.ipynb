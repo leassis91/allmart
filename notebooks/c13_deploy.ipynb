{
 "cells": [
  {
   "cell_type": "markdown",
   "id": "5629a549",
   "metadata": {
    "heading_collapsed": true,
    "tags": [],
    "toc-hr-collapsed": true
   },
   "source": [
    "# All Mart - High Value Customer Identification\n",
    "\n",
    "Identificação de clientes mais valiosos de uma empresa e projecção de um programa de fidelidade para os mesmos."
   ]
  },
  {
   "cell_type": "code",
   "execution_count": 21,
   "id": "25c31882-7bab-4a71-bc45-f04923c0aa6f",
   "metadata": {
    "ExecuteTime": {
     "end_time": "2023-05-07T17:56:25.049352Z",
     "start_time": "2023-05-07T17:56:20.324293Z"
    }
   },
   "outputs": [],
   "source": [
    "import pandas as pd\n",
    "import numpy as np\n",
    "import matplotlib.pyplot as plt\n",
    "import seaborn as sns\n",
    "import re\n",
    "\n",
    "from scipy import stats\n",
    "import random, os\n",
    "from IPython.display import HTML, Image\n",
    "\n",
    "\n",
    "\n",
    "# Preprocessing\n",
    "from sklearn.preprocessing import StandardScaler, MinMaxScaler, RobustScaler, OneHotEncoder\n",
    "\n",
    "# Models\n",
    "from sklearn.cluster import KMeans, DBSCAN, MiniBatchKMeans\n",
    "from sklearn.ensemble import RandomForestRegressor\n",
    "from sklearn.neighbors import NearestNeighbors\n",
    "from sklearn.mixture import GaussianMixture\n",
    "\n",
    "# Visualização de clusters\n",
    "from sklearn.metrics import silhouette_score, silhouette_samples\n",
    "import umap.umap_ as umap\n",
    "\n",
    "from scipy.cluster import hierarchy as hc\n",
    "\n",
    "\n",
    "# Dimensionality Reduction\n",
    "from sklearn.decomposition import PCA\n",
    "from sklearn.manifold import TSNE\n",
    "\n",
    "# Warnings\n",
    "import warnings\n",
    "warnings.filterwarnings('ignore')"
   ]
  },
  {
   "cell_type": "markdown",
   "id": "429de105",
   "metadata": {
    "heading_collapsed": true,
    "tags": [],
    "toc-hr-collapsed": true
   },
   "source": [
    "# 1.0 Data Reading"
   ]
  },
  {
   "cell_type": "markdown",
   "id": "5e57dc6c",
   "metadata": {
    "hidden": true
   },
   "source": [
    "## 1.1 Data Loading"
   ]
  },
  {
   "cell_type": "code",
   "execution_count": 2,
   "id": "665331de",
   "metadata": {
    "ExecuteTime": {
     "end_time": "2023-05-07T17:56:25.508814Z",
     "start_time": "2023-05-07T17:56:25.074516Z"
    },
    "hidden": true
   },
   "outputs": [
    {
     "data": {
      "text/html": [
       "<div>\n",
       "<style scoped>\n",
       "    .dataframe tbody tr th:only-of-type {\n",
       "        vertical-align: middle;\n",
       "    }\n",
       "\n",
       "    .dataframe tbody tr th {\n",
       "        vertical-align: top;\n",
       "    }\n",
       "\n",
       "    .dataframe thead th {\n",
       "        text-align: right;\n",
       "    }\n",
       "</style>\n",
       "<table border=\"1\" class=\"dataframe\">\n",
       "  <thead>\n",
       "    <tr style=\"text-align: right;\">\n",
       "      <th></th>\n",
       "      <th>InvoiceNo</th>\n",
       "      <th>StockCode</th>\n",
       "      <th>Description</th>\n",
       "      <th>Quantity</th>\n",
       "      <th>InvoiceDate</th>\n",
       "      <th>UnitPrice</th>\n",
       "      <th>CustomerID</th>\n",
       "      <th>Country</th>\n",
       "    </tr>\n",
       "  </thead>\n",
       "  <tbody>\n",
       "    <tr>\n",
       "      <th>0</th>\n",
       "      <td>536365</td>\n",
       "      <td>85123A</td>\n",
       "      <td>WHITE HANGING HEART T-LIGHT HOLDER</td>\n",
       "      <td>6</td>\n",
       "      <td>29-Nov-16</td>\n",
       "      <td>2.55</td>\n",
       "      <td>17850.0</td>\n",
       "      <td>United Kingdom</td>\n",
       "    </tr>\n",
       "    <tr>\n",
       "      <th>1</th>\n",
       "      <td>536365</td>\n",
       "      <td>71053</td>\n",
       "      <td>WHITE METAL LANTERN</td>\n",
       "      <td>6</td>\n",
       "      <td>29-Nov-16</td>\n",
       "      <td>3.39</td>\n",
       "      <td>17850.0</td>\n",
       "      <td>United Kingdom</td>\n",
       "    </tr>\n",
       "    <tr>\n",
       "      <th>2</th>\n",
       "      <td>536365</td>\n",
       "      <td>84406B</td>\n",
       "      <td>CREAM CUPID HEARTS COAT HANGER</td>\n",
       "      <td>8</td>\n",
       "      <td>29-Nov-16</td>\n",
       "      <td>2.75</td>\n",
       "      <td>17850.0</td>\n",
       "      <td>United Kingdom</td>\n",
       "    </tr>\n",
       "    <tr>\n",
       "      <th>3</th>\n",
       "      <td>536365</td>\n",
       "      <td>84029G</td>\n",
       "      <td>KNITTED UNION FLAG HOT WATER BOTTLE</td>\n",
       "      <td>6</td>\n",
       "      <td>29-Nov-16</td>\n",
       "      <td>3.39</td>\n",
       "      <td>17850.0</td>\n",
       "      <td>United Kingdom</td>\n",
       "    </tr>\n",
       "    <tr>\n",
       "      <th>4</th>\n",
       "      <td>536365</td>\n",
       "      <td>84029E</td>\n",
       "      <td>RED WOOLLY HOTTIE WHITE HEART.</td>\n",
       "      <td>6</td>\n",
       "      <td>29-Nov-16</td>\n",
       "      <td>3.39</td>\n",
       "      <td>17850.0</td>\n",
       "      <td>United Kingdom</td>\n",
       "    </tr>\n",
       "  </tbody>\n",
       "</table>\n",
       "</div>"
      ],
      "text/plain": [
       "  InvoiceNo StockCode                          Description  Quantity  \\\n",
       "0    536365    85123A   WHITE HANGING HEART T-LIGHT HOLDER         6   \n",
       "1    536365     71053                  WHITE METAL LANTERN         6   \n",
       "2    536365    84406B       CREAM CUPID HEARTS COAT HANGER         8   \n",
       "3    536365    84029G  KNITTED UNION FLAG HOT WATER BOTTLE         6   \n",
       "4    536365    84029E       RED WOOLLY HOTTIE WHITE HEART.         6   \n",
       "\n",
       "  InvoiceDate  UnitPrice  CustomerID         Country  \n",
       "0   29-Nov-16       2.55     17850.0  United Kingdom  \n",
       "1   29-Nov-16       3.39     17850.0  United Kingdom  \n",
       "2   29-Nov-16       2.75     17850.0  United Kingdom  \n",
       "3   29-Nov-16       3.39     17850.0  United Kingdom  \n",
       "4   29-Nov-16       3.39     17850.0  United Kingdom  "
      ]
     },
     "execution_count": 2,
     "metadata": {},
     "output_type": "execute_result"
    }
   ],
   "source": [
    "df1 = pd.read_csv('../data/01_raw/Ecommerce.csv', encoding='unicode_escape')\n",
    "df1.drop(columns=['Unnamed: 8'], axis=1, inplace=True)\n",
    "df1.head()"
   ]
  },
  {
   "cell_type": "markdown",
   "id": "063373e0",
   "metadata": {
    "hidden": true
   },
   "source": [
    "## 1.2 Data Dimensions"
   ]
  },
  {
   "cell_type": "code",
   "execution_count": 3,
   "id": "f2f680cf",
   "metadata": {
    "ExecuteTime": {
     "end_time": "2023-05-07T17:56:25.513249Z",
     "start_time": "2023-05-07T17:56:25.510506Z"
    },
    "hidden": true
   },
   "outputs": [
    {
     "name": "stdout",
     "output_type": "stream",
     "text": [
      "Number of rows: 541909\n",
      "Number of columns: 8\n"
     ]
    }
   ],
   "source": [
    "print(f'Number of rows: {df1.shape[0]}')\n",
    "print(f'Number of columns: {df1.shape[1]}')"
   ]
  },
  {
   "cell_type": "markdown",
   "id": "f37c55eb",
   "metadata": {
    "hidden": true
   },
   "source": [
    "## 1.3 Data Dtypes"
   ]
  },
  {
   "cell_type": "code",
   "execution_count": 4,
   "id": "7bb12726",
   "metadata": {
    "ExecuteTime": {
     "end_time": "2023-05-07T17:56:25.859693Z",
     "start_time": "2023-05-07T17:56:25.855520Z"
    },
    "hidden": true
   },
   "outputs": [
    {
     "data": {
      "text/plain": [
       "InvoiceNo       object\n",
       "StockCode       object\n",
       "Description     object\n",
       "Quantity         int64\n",
       "InvoiceDate     object\n",
       "UnitPrice      float64\n",
       "CustomerID     float64\n",
       "Country         object\n",
       "dtype: object"
      ]
     },
     "execution_count": 4,
     "metadata": {},
     "output_type": "execute_result"
    }
   ],
   "source": [
    "df1.dtypes"
   ]
  },
  {
   "cell_type": "markdown",
   "id": "6efcc785",
   "metadata": {
    "hidden": true
   },
   "source": [
    "## 1.4 Checking NA"
   ]
  },
  {
   "cell_type": "code",
   "execution_count": 5,
   "id": "08a2c572",
   "metadata": {
    "ExecuteTime": {
     "end_time": "2023-05-07T17:56:26.958670Z",
     "start_time": "2023-05-07T17:56:26.732070Z"
    },
    "hidden": true
   },
   "outputs": [
    {
     "data": {
      "text/plain": [
       "InvoiceNo           0\n",
       "StockCode           0\n",
       "Description      1454\n",
       "Quantity            0\n",
       "InvoiceDate         0\n",
       "UnitPrice           0\n",
       "CustomerID     135080\n",
       "Country             0\n",
       "dtype: int64"
      ]
     },
     "execution_count": 5,
     "metadata": {},
     "output_type": "execute_result"
    }
   ],
   "source": [
    "df1.isna().sum()"
   ]
  },
  {
   "cell_type": "markdown",
   "id": "68903286",
   "metadata": {
    "heading_collapsed": true,
    "tags": [],
    "toc-hr-collapsed": true
   },
   "source": [
    "# 2.0 Data Wrangling"
   ]
  },
  {
   "cell_type": "code",
   "execution_count": 6,
   "id": "7c5f2aad",
   "metadata": {
    "ExecuteTime": {
     "end_time": "2023-05-07T17:56:27.311497Z",
     "start_time": "2023-05-07T17:56:27.291185Z"
    },
    "hidden": true
   },
   "outputs": [],
   "source": [
    "df2 = df1.copy()"
   ]
  },
  {
   "cell_type": "markdown",
   "id": "eeadf0c2",
   "metadata": {
    "hidden": true
   },
   "source": [
    "## 2.1 Rename Columns"
   ]
  },
  {
   "cell_type": "code",
   "execution_count": 7,
   "id": "cedefc51",
   "metadata": {
    "ExecuteTime": {
     "end_time": "2023-05-07T17:56:27.651402Z",
     "start_time": "2023-05-07T17:56:27.648588Z"
    },
    "hidden": true
   },
   "outputs": [],
   "source": [
    "cols_new = ['invoice_no', 'stock_code', 'description', 'quantity', 'invoice_date', 'unit_price', 'customer_id', 'country']\n",
    "df2.columns = cols_new"
   ]
  },
  {
   "cell_type": "markdown",
   "id": "e576e208",
   "metadata": {
    "hidden": true
   },
   "source": [
    "## 2.2 Replacing NAs"
   ]
  },
  {
   "cell_type": "code",
   "execution_count": 8,
   "id": "229d0a4e",
   "metadata": {
    "ExecuteTime": {
     "end_time": "2023-05-07T17:56:28.421252Z",
     "start_time": "2023-05-07T17:56:28.383895Z"
    },
    "hidden": true
   },
   "outputs": [],
   "source": [
    "df_missing = df2.loc[df2['customer_id'].isna(), :]\n",
    "df_not_missing = df2.loc[~df2['customer_id'].isna(), :]"
   ]
  },
  {
   "cell_type": "code",
   "execution_count": 9,
   "id": "0214051c",
   "metadata": {
    "ExecuteTime": {
     "end_time": "2023-05-07T17:56:28.546506Z",
     "start_time": "2023-05-07T17:56:28.428538Z"
    },
    "hidden": true
   },
   "outputs": [],
   "source": [
    "# create reference\n",
    "df_backup = pd.DataFrame(df_missing['invoice_no'].drop_duplicates())\n",
    "df_backup['customer_id'] = np.arange(19000, 19000+len(df_backup), 1)\n",
    "\n",
    "\n",
    "# merge original with reference dataframe\n",
    "df2 = pd.merge(df2, df_backup, on='invoice_no', how='left')\n",
    "\n",
    "# coalesce\n",
    "df2['customer_id'] = df2['customer_id_x'].combine_first(df2['customer_id_y'])\n",
    "\n",
    "# drop extra columns\n",
    "df2 = df2.drop(columns=['customer_id_x', 'customer_id_y'], axis=1)"
   ]
  },
  {
   "cell_type": "code",
   "execution_count": 10,
   "id": "7b642c22",
   "metadata": {
    "ExecuteTime": {
     "end_time": "2023-05-07T17:56:28.765781Z",
     "start_time": "2023-05-07T17:56:28.548314Z"
    },
    "hidden": true,
    "scrolled": true
   },
   "outputs": [
    {
     "data": {
      "text/plain": [
       "invoice_no         0\n",
       "stock_code         0\n",
       "description     1454\n",
       "quantity           0\n",
       "invoice_date       0\n",
       "unit_price         0\n",
       "country            0\n",
       "customer_id        0\n",
       "dtype: int64"
      ]
     },
     "execution_count": 10,
     "metadata": {},
     "output_type": "execute_result"
    }
   ],
   "source": [
    "df2.isna().sum()"
   ]
  },
  {
   "cell_type": "code",
   "execution_count": 13,
   "id": "e532ef49",
   "metadata": {
    "ExecuteTime": {
     "end_time": "2023-05-07T17:56:29.248451Z",
     "start_time": "2023-05-07T17:56:29.141201Z"
    },
    "hidden": true
   },
   "outputs": [
    {
     "name": "stdout",
     "output_type": "stream",
     "text": [
      "Removed data: 0.00\n"
     ]
    }
   ],
   "source": [
    "df2.dropna(subset=['description', 'customer_id'], inplace=True)\n",
    "print(f'Removed data: {1-(df2.shape[0]/df1.shape[0]):.2f}')"
   ]
  },
  {
   "cell_type": "markdown",
   "id": "a12d0ff3",
   "metadata": {
    "hidden": true
   },
   "source": [
    "## 2.3 Changing Dtypes"
   ]
  },
  {
   "cell_type": "code",
   "execution_count": 15,
   "id": "f6d46868",
   "metadata": {
    "ExecuteTime": {
     "end_time": "2023-05-07T17:56:30.238186Z",
     "start_time": "2023-05-07T17:56:30.200290Z"
    },
    "hidden": true
   },
   "outputs": [],
   "source": [
    "# Invoice Date\n",
    "df2['invoice_date'] = pd.to_datetime(df2['invoice_date'], format='%d-%b-%y')\n",
    "\n",
    "# Customer ID\n",
    "df2['customer_id'] = df2['customer_id'].astype(int)"
   ]
  },
  {
   "cell_type": "code",
   "execution_count": 16,
   "id": "ea77b61d",
   "metadata": {
    "ExecuteTime": {
     "end_time": "2023-05-07T17:56:30.385127Z",
     "start_time": "2023-05-07T17:56:30.381117Z"
    },
    "hidden": true
   },
   "outputs": [
    {
     "data": {
      "text/plain": [
       "invoice_no              object\n",
       "stock_code              object\n",
       "description             object\n",
       "quantity                 int64\n",
       "invoice_date    datetime64[ns]\n",
       "unit_price             float64\n",
       "country                 object\n",
       "customer_id              int64\n",
       "dtype: object"
      ]
     },
     "execution_count": 16,
     "metadata": {},
     "output_type": "execute_result"
    }
   ],
   "source": [
    "df2.dtypes"
   ]
  },
  {
   "cell_type": "markdown",
   "id": "b3e4a523",
   "metadata": {
    "hidden": true
   },
   "source": [
    "## 2.4 Drop Duplicates"
   ]
  },
  {
   "cell_type": "code",
   "execution_count": 17,
   "id": "248831f6",
   "metadata": {
    "ExecuteTime": {
     "end_time": "2023-05-07T17:56:30.767654Z",
     "start_time": "2023-05-07T17:56:30.758685Z"
    },
    "hidden": true
   },
   "outputs": [
    {
     "data": {
      "text/html": [
       "<div>\n",
       "<style scoped>\n",
       "    .dataframe tbody tr th:only-of-type {\n",
       "        vertical-align: middle;\n",
       "    }\n",
       "\n",
       "    .dataframe tbody tr th {\n",
       "        vertical-align: top;\n",
       "    }\n",
       "\n",
       "    .dataframe thead th {\n",
       "        text-align: right;\n",
       "    }\n",
       "</style>\n",
       "<table border=\"1\" class=\"dataframe\">\n",
       "  <thead>\n",
       "    <tr style=\"text-align: right;\">\n",
       "      <th></th>\n",
       "      <th>customer_id</th>\n",
       "    </tr>\n",
       "  </thead>\n",
       "  <tbody>\n",
       "    <tr>\n",
       "      <th>0</th>\n",
       "      <td>17850</td>\n",
       "    </tr>\n",
       "    <tr>\n",
       "      <th>1</th>\n",
       "      <td>13047</td>\n",
       "    </tr>\n",
       "    <tr>\n",
       "      <th>2</th>\n",
       "      <td>12583</td>\n",
       "    </tr>\n",
       "    <tr>\n",
       "      <th>3</th>\n",
       "      <td>13748</td>\n",
       "    </tr>\n",
       "    <tr>\n",
       "      <th>4</th>\n",
       "      <td>15100</td>\n",
       "    </tr>\n",
       "  </tbody>\n",
       "</table>\n",
       "</div>"
      ],
      "text/plain": [
       "   customer_id\n",
       "0        17850\n",
       "1        13047\n",
       "2        12583\n",
       "3        13748\n",
       "4        15100"
      ]
     },
     "execution_count": 17,
     "metadata": {},
     "output_type": "execute_result"
    }
   ],
   "source": [
    "# Create DataFrame Reference\n",
    "\n",
    "df_ref = df2.drop(['invoice_no', 'stock_code', 'description', \n",
    "                   'quantity', 'invoice_date', 'unit_price', \n",
    "                   'country'], axis=1).drop_duplicates(ignore_index=True)\n",
    "df_ref.head()"
   ]
  },
  {
   "cell_type": "markdown",
   "id": "49397b5e",
   "metadata": {
    "hidden": true
   },
   "source": [
    "## 2.5 Descriptive Statistics"
   ]
  },
  {
   "cell_type": "markdown",
   "id": "bf95cd23",
   "metadata": {
    "hidden": true
   },
   "source": [
    "### 2.5.1. Numerical Features"
   ]
  },
  {
   "cell_type": "code",
   "execution_count": 18,
   "id": "bf9a9e16",
   "metadata": {
    "ExecuteTime": {
     "end_time": "2023-05-07T17:56:31.343178Z",
     "start_time": "2023-05-07T17:56:31.333802Z"
    },
    "hidden": true,
    "hide_input": true
   },
   "outputs": [],
   "source": [
    "num_cols = df2.select_dtypes(include=['number'])\n",
    "cat_cols = df2.select_dtypes(exclude=['number', 'datetime64[ns]'])"
   ]
  },
  {
   "cell_type": "code",
   "execution_count": 19,
   "id": "7d9ab7f4",
   "metadata": {
    "ExecuteTime": {
     "end_time": "2023-05-07T17:56:31.588211Z",
     "start_time": "2023-05-07T17:56:31.547000Z"
    },
    "hidden": true,
    "hide_input": true
   },
   "outputs": [
    {
     "data": {
      "text/html": [
       "<div>\n",
       "<style scoped>\n",
       "    .dataframe tbody tr th:only-of-type {\n",
       "        vertical-align: middle;\n",
       "    }\n",
       "\n",
       "    .dataframe tbody tr th {\n",
       "        vertical-align: top;\n",
       "    }\n",
       "\n",
       "    .dataframe thead th {\n",
       "        text-align: right;\n",
       "    }\n",
       "</style>\n",
       "<table border=\"1\" class=\"dataframe\">\n",
       "  <thead>\n",
       "    <tr style=\"text-align: right;\">\n",
       "      <th></th>\n",
       "      <th>attributes</th>\n",
       "      <th>min</th>\n",
       "      <th>max</th>\n",
       "      <th>range</th>\n",
       "      <th>mean</th>\n",
       "      <th>median</th>\n",
       "      <th>std</th>\n",
       "      <th>skew</th>\n",
       "      <th>kurtosis</th>\n",
       "    </tr>\n",
       "  </thead>\n",
       "  <tbody>\n",
       "    <tr>\n",
       "      <th>0</th>\n",
       "      <td>quantity</td>\n",
       "      <td>-80995.00</td>\n",
       "      <td>80995.0</td>\n",
       "      <td>161990.00</td>\n",
       "      <td>9.603129</td>\n",
       "      <td>3.00</td>\n",
       "      <td>218.007397</td>\n",
       "      <td>-0.281253</td>\n",
       "      <td>120252.449063</td>\n",
       "    </tr>\n",
       "    <tr>\n",
       "      <th>1</th>\n",
       "      <td>unit_price</td>\n",
       "      <td>-11062.06</td>\n",
       "      <td>38970.0</td>\n",
       "      <td>50032.06</td>\n",
       "      <td>4.623519</td>\n",
       "      <td>2.08</td>\n",
       "      <td>96.889538</td>\n",
       "      <td>186.257919</td>\n",
       "      <td>58848.017575</td>\n",
       "    </tr>\n",
       "    <tr>\n",
       "      <th>2</th>\n",
       "      <td>customer_id</td>\n",
       "      <td>12346.00</td>\n",
       "      <td>22709.0</td>\n",
       "      <td>10363.00</td>\n",
       "      <td>16678.153600</td>\n",
       "      <td>16241.00</td>\n",
       "      <td>2907.570262</td>\n",
       "      <td>0.493600</td>\n",
       "      <td>-0.792496</td>\n",
       "    </tr>\n",
       "  </tbody>\n",
       "</table>\n",
       "</div>"
      ],
      "text/plain": [
       "    attributes       min      max      range          mean    median  \\\n",
       "0     quantity -80995.00  80995.0  161990.00      9.603129      3.00   \n",
       "1   unit_price -11062.06  38970.0   50032.06      4.623519      2.08   \n",
       "2  customer_id  12346.00  22709.0   10363.00  16678.153600  16241.00   \n",
       "\n",
       "           std        skew       kurtosis  \n",
       "0   218.007397   -0.281253  120252.449063  \n",
       "1    96.889538  186.257919   58848.017575  \n",
       "2  2907.570262    0.493600      -0.792496  "
      ]
     },
     "execution_count": 19,
     "metadata": {},
     "output_type": "execute_result"
    }
   ],
   "source": [
    "# Central Tendency - mean, median\n",
    "ct1 = pd.DataFrame(num_cols.apply(np.mean)).T\n",
    "ct2 = pd.DataFrame(num_cols.apply(np.median)).T\n",
    "\n",
    "\n",
    "#  Dispersion - Desvio Padrão, minimo, máximo, range, skew, kurtosis\n",
    "d1 = pd.DataFrame(num_cols.apply(np.std)).T\n",
    "d2 = pd.DataFrame(num_cols.apply(np.min)).T\n",
    "d3 = pd.DataFrame(num_cols.apply(np.max)).T\n",
    "d4 = pd.DataFrame(num_cols.apply(lambda x: x.max() - x.min())).T\n",
    "d5 = pd.DataFrame(num_cols.apply(lambda x: x.skew())).T\n",
    "d6 = pd.DataFrame(num_cols.apply(lambda x: x.kurtosis())).T\n",
    "\n",
    "# Concat\n",
    "descriptive = pd.concat([d2, d3, d4, ct1, ct2, d1, d5, d6]).T.reset_index()\n",
    "descriptive.columns = ['attributes', 'min', 'max', 'range', 'mean', 'median', 'std', 'skew', 'kurtosis']\n",
    "descriptive"
   ]
  },
  {
   "cell_type": "markdown",
   "id": "0355f3b6",
   "metadata": {
    "hidden": true
   },
   "source": [
    "Investigar:\n",
    "1. Quantidade negativa: pode significar \"devolução\"\n",
    "2. Preço unitário igual a zero: pode ser promoção\n"
   ]
  },
  {
   "cell_type": "markdown",
   "id": "fbea5e2a",
   "metadata": {
    "hidden": true
   },
   "source": [
    "### 2.5.1. Categorical Features"
   ]
  },
  {
   "cell_type": "markdown",
   "id": "afad99b9",
   "metadata": {
    "hidden": true
   },
   "source": [
    "#### Invoice No\n",
    "Problema: detectamos que Invoice_no apresenta letras além de números. Precisamos converter para inteiro."
   ]
  },
  {
   "cell_type": "code",
   "execution_count": 22,
   "id": "2ddca211",
   "metadata": {
    "ExecuteTime": {
     "end_time": "2023-05-07T17:56:38.568318Z",
     "start_time": "2023-05-07T17:56:38.255057Z"
    },
    "hidden": true
   },
   "outputs": [
    {
     "name": "stdout",
     "output_type": "stream",
     "text": [
      "Número total de transações: 9291\n",
      "Número total de quantidades negativas: 9762\n"
     ]
    }
   ],
   "source": [
    "df_invoices_cat = cat_cols.loc[cat_cols['invoice_no'].apply(lambda x: bool(re.search('[^0-9+]', x))), 'invoice_no']\n",
    "\n",
    "# o regex acima procura necessariamente por CARACTERES != de numeros (^) sendo 1 ou mais caracteres.\n",
    "\n",
    "print(f'Número total de transações: {df_invoices_cat.shape[0]}')\n",
    "print(f'Número total de quantidades negativas: {df2.loc[df2[\"quantity\"] < 0].shape[0]}')"
   ]
  },
  {
   "cell_type": "markdown",
   "id": "f353cfd5",
   "metadata": {
    "hidden": true
   },
   "source": [
    "Podemos assumir que quando há uma letra no \"invoice_no\" significa que esta transação foi retornada ou cancelada. A letra \"C\" provalmente é um indicativo de _charge back_ (\"estorno\", em inglês)."
   ]
  },
  {
   "cell_type": "markdown",
   "id": "45a4c1e4",
   "metadata": {
    "hidden": true
   },
   "source": [
    "#### Stock Code\n",
    "Não sabemos o que significam essas siglas, por isso iremos removê-las nesse primeiro momento."
   ]
  },
  {
   "cell_type": "code",
   "execution_count": 23,
   "id": "fa2c3673",
   "metadata": {
    "ExecuteTime": {
     "end_time": "2023-05-07T17:56:39.450063Z",
     "start_time": "2023-05-07T17:56:39.071795Z"
    },
    "hidden": true
   },
   "outputs": [
    {
     "data": {
      "text/plain": [
       "array(['POST', 'D', 'DOT', 'M', 'S', 'AMAZONFEE', 'm', 'DCGSSBOY',\n",
       "       'DCGSSGIRL', 'PADS', 'B', 'CRUK'], dtype=object)"
      ]
     },
     "execution_count": 23,
     "metadata": {},
     "output_type": "execute_result"
    }
   ],
   "source": [
    "# Stock Code\n",
    "\n",
    "cat_cols.loc[cat_cols['stock_code'].apply(lambda x: bool(re.search('^[a-zA-Z]+$', x))), 'stock_code'].unique()\n",
    "\n",
    "# cat_cols.loc[cat_cols['stock_code'].apply(lambda x: bool(re.search('^[a-zA-Z]+$', x))), :].head()\n",
    "# O regex acima procura por strings que DEVEM começar com uma letra(^), e DEVEM terminar ($) com uma letra OU MAIS (+)"
   ]
  },
  {
   "cell_type": "markdown",
   "id": "299c0d4d",
   "metadata": {
    "hidden": true
   },
   "source": [
    "#### Description\n",
    "Iremos também deletar a variável description, por não apresentar informações relevantes neste primeiro momento."
   ]
  },
  {
   "cell_type": "code",
   "execution_count": 24,
   "id": "622382c4",
   "metadata": {
    "ExecuteTime": {
     "end_time": "2023-05-07T17:56:39.527665Z",
     "start_time": "2023-05-07T17:56:39.490706Z"
    },
    "hidden": true
   },
   "outputs": [
    {
     "data": {
      "text/plain": [
       "array(['WHITE HANGING HEART T-LIGHT HOLDER', 'WHITE METAL LANTERN',\n",
       "       'CREAM CUPID HEARTS COAT HANGER', ..., 'lost',\n",
       "       'CREAM HANGING HEART T-LIGHT HOLDER',\n",
       "       'PAPER CRAFT , LITTLE BIRDIE'], dtype=object)"
      ]
     },
     "execution_count": 24,
     "metadata": {},
     "output_type": "execute_result"
    }
   ],
   "source": [
    "df2['description'].unique()"
   ]
  },
  {
   "cell_type": "markdown",
   "id": "15fb088e",
   "metadata": {
    "hidden": true
   },
   "source": [
    "#### Country\n",
    "Uma das formas de avaliar uma região, é observar o quão representativo cada uma delas é em nosso dataset. Vamos observar a seguir:"
   ]
  },
  {
   "cell_type": "code",
   "execution_count": 25,
   "id": "4e2da1cb",
   "metadata": {
    "ExecuteTime": {
     "end_time": "2023-05-07T17:56:39.859092Z",
     "start_time": "2023-05-07T17:56:39.841949Z"
    },
    "hidden": true
   },
   "outputs": [
    {
     "data": {
      "text/plain": [
       "array(['United Kingdom', 'France', 'Australia', 'Netherlands', 'Germany',\n",
       "       'Norway', 'EIRE', 'Switzerland', 'Spain', 'Poland', 'Portugal',\n",
       "       'Italy', 'Belgium', 'Lithuania', 'Japan', 'Iceland',\n",
       "       'Channel Islands', 'Denmark', 'Cyprus', 'Sweden', 'Austria',\n",
       "       'Israel', 'Finland', 'Bahrain', 'Greece', 'Hong Kong', 'Singapore',\n",
       "       'Lebanon', 'United Arab Emirates', 'Saudi Arabia',\n",
       "       'Czech Republic', 'Canada', 'Unspecified', 'Brazil', 'USA',\n",
       "       'European Community', 'Malta', 'RSA'], dtype=object)"
      ]
     },
     "execution_count": 25,
     "metadata": {},
     "output_type": "execute_result"
    }
   ],
   "source": [
    "df2['country'].unique()"
   ]
  },
  {
   "cell_type": "markdown",
   "id": "a39f4eb0",
   "metadata": {
    "heading_collapsed": true,
    "tags": []
   },
   "source": [
    "# 3.0 Feature Filtering"
   ]
  },
  {
   "cell_type": "markdown",
   "id": "d255efae",
   "metadata": {
    "hidden": true
   },
   "source": [
    "Aqui tomaremos as ações decididas na seção anterior para selecionar da melhor forma as nossas features para análise."
   ]
  },
  {
   "cell_type": "code",
   "execution_count": 78,
   "id": "4c8a6c23",
   "metadata": {
    "ExecuteTime": {
     "end_time": "2023-05-07T17:56:42.285509Z",
     "start_time": "2023-05-07T17:56:42.277956Z"
    },
    "hidden": true
   },
   "outputs": [],
   "source": [
    "df3 = df2.copy()"
   ]
  },
  {
   "cell_type": "code",
   "execution_count": 79,
   "id": "4f15676a",
   "metadata": {
    "ExecuteTime": {
     "end_time": "2023-05-07T17:56:43.140147Z",
     "start_time": "2023-05-07T17:56:43.004679Z"
    },
    "hidden": true
   },
   "outputs": [],
   "source": [
    "###### Numerical Cols ######\n",
    "df3 = df3.loc[df3['unit_price'] > 0.04, :]\n",
    "\n",
    "\n",
    "###### Categorical Cols ######\n",
    "df3 = df3.loc[~df3['stock_code'].isin(['POST', 'D', 'DOT', 'M', 'S', 'AMAZONFEE', 'm', 'DCGSSBOY','DCGSSGIRL', 'PADS', 'B', 'CRUK'])]\n",
    "\n",
    "\n",
    "# Description\n",
    "df3 = df3.drop(columns='description', axis=1)\n",
    "\n",
    "\n",
    "# Map\n",
    "df3 = df3[~df3['country'].isin(['European Community', 'Unspecified'])]\n",
    "\n",
    "\n",
    "# Bad Users - Atualizado após Análise Univariada\n",
    "df3 = df3[~df3['customer_id'].isin([16464])]\n",
    "\n",
    "# Quantity - negative numbers means product returns\n",
    "df3_returns = df3.loc[df3['quantity'] < 0, :]\n",
    "df3_purchases = df3.loc[df3['quantity'] > 0, :]\n"
   ]
  },
  {
   "cell_type": "markdown",
   "id": "b3dc16c5",
   "metadata": {
    "heading_collapsed": true,
    "tags": [],
    "toc-hr-collapsed": true
   },
   "source": [
    "# 4.0 Feature Engineering"
   ]
  },
  {
   "cell_type": "markdown",
   "id": "0fd44b1c",
   "metadata": {
    "hidden": true
   },
   "source": [
    "- Algumas ideias:\n",
    "    \n",
    "    - Moving average: 7d, 14d, 30d\n",
    "    - Quantidade de compras por mês: antes do dia 15 e depois do 15;\n",
    "    - Average Financial\n",
    "    - Basket Size * Price: Quantidade de preços por cesta\n",
    "    \n"
   ]
  },
  {
   "cell_type": "code",
   "execution_count": 80,
   "id": "b0697aab",
   "metadata": {
    "ExecuteTime": {
     "end_time": "2023-05-07T17:56:45.536423Z",
     "start_time": "2023-05-07T17:56:45.519730Z"
    },
    "hidden": true
   },
   "outputs": [],
   "source": [
    "df4 = df3.copy()"
   ]
  },
  {
   "cell_type": "code",
   "execution_count": 81,
   "id": "25d8ba9d",
   "metadata": {
    "ExecuteTime": {
     "end_time": "2023-05-07T17:56:45.810483Z",
     "start_time": "2023-05-07T17:56:45.801243Z"
    },
    "hidden": true
   },
   "outputs": [],
   "source": [
    "# data referecen\n",
    "df_ref = df4.drop(['invoice_no', 'stock_code', 'quantity', 'invoice_date', 'unit_price', 'country'], axis=1).drop_duplicates(ignore_index=True)"
   ]
  },
  {
   "cell_type": "markdown",
   "id": "1baea9d5",
   "metadata": {
    "hidden": true
   },
   "source": [
    "## 4.1 Gross Revenue\n",
    "_Receita Bruta._"
   ]
  },
  {
   "cell_type": "code",
   "execution_count": 82,
   "id": "4a7c2b88",
   "metadata": {
    "ExecuteTime": {
     "end_time": "2023-05-07T17:56:46.695457Z",
     "start_time": "2023-05-07T17:56:46.672593Z"
    },
    "hidden": true
   },
   "outputs": [
    {
     "data": {
      "text/plain": [
       "customer_id     0\n",
       "monetary       91\n",
       "dtype: int64"
      ]
     },
     "execution_count": 82,
     "metadata": {},
     "output_type": "execute_result"
    }
   ],
   "source": [
    "# Gross Revenue (Faturamento = Quantidade * Preço)\n",
    "df3_purchases['gross_revenue'] = df3_purchases['quantity'] * df3_purchases['unit_price']\n",
    "\n",
    "# Monetary\n",
    "df_monetary = df3_purchases.loc[:, ['customer_id', 'gross_revenue']].groupby('customer_id').sum().reset_index().rename(columns={'gross_revenue':'monetary'}).copy()\n",
    "df_ref = pd.merge(df_ref, df_monetary, how='left', on='customer_id')\n",
    "df_ref.isna().sum()"
   ]
  },
  {
   "cell_type": "markdown",
   "id": "2d160d72",
   "metadata": {
    "hidden": true
   },
   "source": [
    "## 4.2 Recency\n",
    "_Quantidade de dias desde a última compra._"
   ]
  },
  {
   "cell_type": "code",
   "execution_count": 83,
   "id": "671eee92",
   "metadata": {
    "ExecuteTime": {
     "end_time": "2023-05-07T17:56:47.231214Z",
     "start_time": "2023-05-07T17:56:47.214253Z"
    },
    "hidden": true
   },
   "outputs": [
    {
     "data": {
      "text/plain": [
       "customer_id     0\n",
       "monetary       91\n",
       "recency        91\n",
       "dtype: int64"
      ]
     },
     "execution_count": 83,
     "metadata": {},
     "output_type": "execute_result"
    }
   ],
   "source": [
    "# Recency: Dia da última compra\n",
    "df_recency = df3_purchases.groupby('customer_id')['invoice_date'].max().reset_index()\n",
    "df_recency['recency'] = (df3['invoice_date'].max() - df_recency['invoice_date']).dt.days\n",
    "df_recency = df_recency[['customer_id', 'recency']].copy()\n",
    "df_ref = pd.merge(df_ref, df_recency, how='left', on='customer_id')\n",
    "df_ref.isna().sum()"
   ]
  },
  {
   "cell_type": "markdown",
   "id": "d385583c-98e2-4cf0-832e-996cb75155df",
   "metadata": {
    "hidden": true
   },
   "source": [
    "## 4.4.1 Quantity of products purchased\n",
    "_Quantidade de produtos (X produtos por item) numa compra._"
   ]
  },
  {
   "cell_type": "code",
   "execution_count": 84,
   "id": "2dd043ba-4f5f-4e5b-85bf-89e72d0fc2c1",
   "metadata": {
    "ExecuteTime": {
     "end_time": "2023-05-07T17:56:47.509845Z",
     "start_time": "2023-05-07T17:56:47.452341Z"
    },
    "hidden": true
   },
   "outputs": [
    {
     "data": {
      "text/plain": [
       "customer_id       0\n",
       "monetary         91\n",
       "recency          91\n",
       "qtde_products    91\n",
       "dtype: int64"
      ]
     },
     "execution_count": 84,
     "metadata": {},
     "output_type": "execute_result"
    }
   ],
   "source": [
    "# Frequency - Contagem do número de compras feitas pelo cliente\n",
    "df_freq = (df3_purchases[['customer_id', 'stock_code']].groupby('customer_id').count()\n",
    "                                                    .reset_index()\n",
    "                                                    .rename(columns={'stock_code':'qtde_products'}))\n",
    "df_ref = pd.merge(df_ref, df_freq, how='left', on='customer_id')\n",
    "# df_ref.rename(columns={'gross_revenue':'monetary',\n",
    "#                'invoice_no':'frequency'},\n",
    "#              inplace=True)\n",
    "\n",
    "df_ref.isna().sum()"
   ]
  },
  {
   "cell_type": "markdown",
   "id": "a04c1570",
   "metadata": {
    "hidden": true,
    "tags": []
   },
   "source": [
    "## 4.7 Frequency Purchase\n",
    "*Taxa de frequência de compras.*"
   ]
  },
  {
   "cell_type": "code",
   "execution_count": 85,
   "id": "1603f7e6",
   "metadata": {
    "ExecuteTime": {
     "end_time": "2023-05-07T17:56:49.127253Z",
     "start_time": "2023-05-07T17:56:48.403210Z"
    },
    "hidden": true
   },
   "outputs": [
    {
     "data": {
      "text/plain": [
       "customer_id       0\n",
       "monetary         91\n",
       "recency          91\n",
       "qtde_products    91\n",
       "frequency        91\n",
       "dtype: int64"
      ]
     },
     "execution_count": 85,
     "metadata": {},
     "output_type": "execute_result"
    }
   ],
   "source": [
    "df_aux47 = (df3_purchases[['customer_id', 'invoice_no', 'invoice_date']].drop_duplicates()\n",
    "                                                             .groupby('customer_id')\n",
    "                                                             .agg(max_ = ('invoice_date', 'max'),\n",
    "                                                                  min_ = ('invoice_date', 'min'),\n",
    "                                                                  days_ = ('invoice_date', lambda x: ((x.max() - x.min()).days) +1) ,\n",
    "                                                                  buy_ = ('invoice_no', 'count'))).reset_index()\n",
    "\n",
    "# Frequency\n",
    "df_aux47['frequency'] = df_aux47[['buy_', 'days_']].apply(lambda x: x['buy_'] / x['days_'] if x['days_'] != 0 else 0, axis=1)\n",
    "\n",
    "# Merge\n",
    "df_ref = pd.merge(df_ref, df_aux47[['customer_id', 'frequency']], on='customer_id', how='left')\n",
    "\n",
    "df_ref.isna().sum()"
   ]
  },
  {
   "cell_type": "markdown",
   "id": "dacb604f",
   "metadata": {
    "hidden": true
   },
   "source": [
    "## 4.8 Returns\n",
    "*Quantos itens foram retornados por cliente e quantas devoluções foram feitas por cliente.*"
   ]
  },
  {
   "cell_type": "code",
   "execution_count": 86,
   "id": "d06b069c",
   "metadata": {
    "ExecuteTime": {
     "end_time": "2023-05-07T17:56:49.139315Z",
     "start_time": "2023-05-07T17:56:49.129208Z"
    },
    "hidden": true
   },
   "outputs": [
    {
     "data": {
      "text/plain": [
       "customer_id       0\n",
       "monetary         91\n",
       "recency          91\n",
       "qtde_products    91\n",
       "frequency        91\n",
       "qtde_returns      0\n",
       "dtype: int64"
      ]
     },
     "execution_count": 86,
     "metadata": {},
     "output_type": "execute_result"
    }
   ],
   "source": [
    "# Number of retursn\n",
    "# df_returns = df3_returns[['customer_id', 'quantity']].groupby('customer_id').agg(qtdade_itens_retornados = ('quantity', lambda x: x.sum() * -1))\n",
    "                                                                                 # num_retornos = ('quantity', 'count')).reset_index()\n",
    "    \n",
    "df_returns = df3_returns[['customer_id', 'quantity']].groupby('customer_id').sum().reset_index().rename(columns={'quantity':'qtde_returns'})\n",
    "df_returns['qtde_returns'] = df_returns['qtde_returns'] * -1\n",
    "\n",
    "df_ref = pd.merge(df_ref, df_returns, how='left', on='customer_id')\n",
    "df_ref.loc[df_ref['qtde_returns'].isna(), 'qtde_returns'] = 0\n",
    "# df_ref.loc[df_ref['num_retornos'].isna(), 'num_retornos'] = 0\n",
    "df_ref.isna().sum()"
   ]
  },
  {
   "cell_type": "code",
   "execution_count": 87,
   "id": "45756a05",
   "metadata": {
    "ExecuteTime": {
     "end_time": "2023-05-07T17:56:50.808827Z",
     "start_time": "2023-05-07T17:56:50.801760Z"
    },
    "hidden": true
   },
   "outputs": [
    {
     "data": {
      "text/html": [
       "<div>\n",
       "<style scoped>\n",
       "    .dataframe tbody tr th:only-of-type {\n",
       "        vertical-align: middle;\n",
       "    }\n",
       "\n",
       "    .dataframe tbody tr th {\n",
       "        vertical-align: top;\n",
       "    }\n",
       "\n",
       "    .dataframe thead th {\n",
       "        text-align: right;\n",
       "    }\n",
       "</style>\n",
       "<table border=\"1\" class=\"dataframe\">\n",
       "  <thead>\n",
       "    <tr style=\"text-align: right;\">\n",
       "      <th></th>\n",
       "      <th>customer_id</th>\n",
       "      <th>monetary</th>\n",
       "      <th>recency</th>\n",
       "      <th>qtde_products</th>\n",
       "      <th>frequency</th>\n",
       "      <th>qtde_returns</th>\n",
       "    </tr>\n",
       "  </thead>\n",
       "  <tbody>\n",
       "    <tr>\n",
       "      <th>0</th>\n",
       "      <td>17850</td>\n",
       "      <td>5391.21</td>\n",
       "      <td>372.0</td>\n",
       "      <td>297.0</td>\n",
       "      <td>17.000000</td>\n",
       "      <td>40.0</td>\n",
       "    </tr>\n",
       "    <tr>\n",
       "      <th>1</th>\n",
       "      <td>13047</td>\n",
       "      <td>3232.59</td>\n",
       "      <td>56.0</td>\n",
       "      <td>171.0</td>\n",
       "      <td>0.028302</td>\n",
       "      <td>35.0</td>\n",
       "    </tr>\n",
       "    <tr>\n",
       "      <th>2</th>\n",
       "      <td>12583</td>\n",
       "      <td>6705.38</td>\n",
       "      <td>2.0</td>\n",
       "      <td>232.0</td>\n",
       "      <td>0.040323</td>\n",
       "      <td>50.0</td>\n",
       "    </tr>\n",
       "    <tr>\n",
       "      <th>3</th>\n",
       "      <td>13748</td>\n",
       "      <td>948.25</td>\n",
       "      <td>95.0</td>\n",
       "      <td>28.0</td>\n",
       "      <td>0.017921</td>\n",
       "      <td>0.0</td>\n",
       "    </tr>\n",
       "    <tr>\n",
       "      <th>4</th>\n",
       "      <td>15100</td>\n",
       "      <td>876.00</td>\n",
       "      <td>333.0</td>\n",
       "      <td>3.0</td>\n",
       "      <td>0.073171</td>\n",
       "      <td>22.0</td>\n",
       "    </tr>\n",
       "  </tbody>\n",
       "</table>\n",
       "</div>"
      ],
      "text/plain": [
       "   customer_id  monetary  recency  qtde_products  frequency  qtde_returns\n",
       "0        17850   5391.21    372.0          297.0  17.000000          40.0\n",
       "1        13047   3232.59     56.0          171.0   0.028302          35.0\n",
       "2        12583   6705.38      2.0          232.0   0.040323          50.0\n",
       "3        13748    948.25     95.0           28.0   0.017921           0.0\n",
       "4        15100    876.00    333.0            3.0   0.073171          22.0"
      ]
     },
     "execution_count": 87,
     "metadata": {},
     "output_type": "execute_result"
    }
   ],
   "source": [
    "# df_ref.drop(columns='invoice_date', axis=1, inplace=True)\n",
    "df_ref.head()"
   ]
  },
  {
   "cell_type": "markdown",
   "id": "81782d68",
   "metadata": {
    "heading_collapsed": true,
    "tags": [],
    "toc-hr-collapsed": true
   },
   "source": [
    "# 5.0 EDA (Exploratory Data Analysis)"
   ]
  },
  {
   "cell_type": "code",
   "execution_count": 88,
   "id": "8df6af4a",
   "metadata": {
    "ExecuteTime": {
     "end_time": "2023-05-07T17:56:54.698822Z",
     "start_time": "2023-05-07T17:56:54.692694Z"
    },
    "hidden": true
   },
   "outputs": [],
   "source": [
    "df5 = df_ref.dropna()"
   ]
  },
  {
   "cell_type": "markdown",
   "id": "6c49c2ab-a7d7-4a17-901a-a0c2fc796765",
   "metadata": {
    "hidden": true,
    "tags": []
   },
   "source": [
    "## 5.3. Estudo do Espaço"
   ]
  },
  {
   "cell_type": "code",
   "execution_count": 89,
   "id": "c169f739-65df-41fc-ab90-a3031ded3e98",
   "metadata": {
    "ExecuteTime": {
     "end_time": "2023-05-07T17:57:06.553874Z",
     "start_time": "2023-05-07T17:57:06.550609Z"
    },
    "hidden": true
   },
   "outputs": [],
   "source": [
    "cols_selected = ['customer_id', 'monetary', 'recency', 'frequency', 'qtde_products', 'qtde_returns']\n",
    "df53 = df5[cols_selected].copy()"
   ]
  },
  {
   "cell_type": "code",
   "execution_count": 90,
   "id": "d7909ef9-081f-4318-913e-0bf7aa295438",
   "metadata": {
    "ExecuteTime": {
     "end_time": "2023-05-07T17:57:09.277155Z",
     "start_time": "2023-05-07T17:57:09.263370Z"
    },
    "hidden": true
   },
   "outputs": [],
   "source": [
    "minmax = MinMaxScaler()\n",
    "\n",
    "df53['monetary']               = minmax.fit_transform(df53[['monetary']])\n",
    "df53['recency']                = minmax.fit_transform(df53[['recency']])\n",
    "df53['qtde_products']          = minmax.fit_transform(df53[['qtde_products']])\n",
    "df53['frequency']              = minmax.fit_transform(df53[['frequency']])\n",
    "df53['qtde_returns']           = minmax.fit_transform(df53[['qtde_returns']])\n",
    "\n",
    "X = df53.copy()"
   ]
  },
  {
   "cell_type": "code",
   "execution_count": 91,
   "id": "4d885c84-9fdf-4198-ba93-c0f5b18fb7ba",
   "metadata": {
    "ExecuteTime": {
     "end_time": "2023-05-07T17:57:11.295121Z",
     "start_time": "2023-05-07T17:57:11.289092Z"
    },
    "hidden": true
   },
   "outputs": [
    {
     "data": {
      "text/html": [
       "<div>\n",
       "<style scoped>\n",
       "    .dataframe tbody tr th:only-of-type {\n",
       "        vertical-align: middle;\n",
       "    }\n",
       "\n",
       "    .dataframe tbody tr th {\n",
       "        vertical-align: top;\n",
       "    }\n",
       "\n",
       "    .dataframe thead th {\n",
       "        text-align: right;\n",
       "    }\n",
       "</style>\n",
       "<table border=\"1\" class=\"dataframe\">\n",
       "  <thead>\n",
       "    <tr style=\"text-align: right;\">\n",
       "      <th></th>\n",
       "      <th>customer_id</th>\n",
       "      <th>monetary</th>\n",
       "      <th>recency</th>\n",
       "      <th>frequency</th>\n",
       "      <th>qtde_products</th>\n",
       "      <th>qtde_returns</th>\n",
       "    </tr>\n",
       "  </thead>\n",
       "  <tbody>\n",
       "    <tr>\n",
       "      <th>0</th>\n",
       "      <td>17850</td>\n",
       "      <td>0.019312</td>\n",
       "      <td>0.997319</td>\n",
       "      <td>1.000000</td>\n",
       "      <td>0.037774</td>\n",
       "      <td>0.000494</td>\n",
       "    </tr>\n",
       "    <tr>\n",
       "      <th>1</th>\n",
       "      <td>13047</td>\n",
       "      <td>0.011579</td>\n",
       "      <td>0.150134</td>\n",
       "      <td>0.001345</td>\n",
       "      <td>0.021695</td>\n",
       "      <td>0.000432</td>\n",
       "    </tr>\n",
       "    <tr>\n",
       "      <th>2</th>\n",
       "      <td>12583</td>\n",
       "      <td>0.024020</td>\n",
       "      <td>0.005362</td>\n",
       "      <td>0.002052</td>\n",
       "      <td>0.029479</td>\n",
       "      <td>0.000617</td>\n",
       "    </tr>\n",
       "    <tr>\n",
       "      <th>3</th>\n",
       "      <td>13748</td>\n",
       "      <td>0.003396</td>\n",
       "      <td>0.254692</td>\n",
       "      <td>0.000734</td>\n",
       "      <td>0.003446</td>\n",
       "      <td>0.000000</td>\n",
       "    </tr>\n",
       "    <tr>\n",
       "      <th>4</th>\n",
       "      <td>15100</td>\n",
       "      <td>0.003137</td>\n",
       "      <td>0.892761</td>\n",
       "      <td>0.003985</td>\n",
       "      <td>0.000255</td>\n",
       "      <td>0.000272</td>\n",
       "    </tr>\n",
       "  </tbody>\n",
       "</table>\n",
       "</div>"
      ],
      "text/plain": [
       "   customer_id  monetary   recency  frequency  qtde_products  qtde_returns\n",
       "0        17850  0.019312  0.997319   1.000000       0.037774      0.000494\n",
       "1        13047  0.011579  0.150134   0.001345       0.021695      0.000432\n",
       "2        12583  0.024020  0.005362   0.002052       0.029479      0.000617\n",
       "3        13748  0.003396  0.254692   0.000734       0.003446      0.000000\n",
       "4        15100  0.003137  0.892761   0.003985       0.000255      0.000272"
      ]
     },
     "execution_count": 91,
     "metadata": {},
     "output_type": "execute_result"
    }
   ],
   "source": [
    "X.head()"
   ]
  },
  {
   "cell_type": "code",
   "execution_count": 98,
   "id": "8b7eb997-fbe1-44cd-aa14-68d83e5f5cb2",
   "metadata": {},
   "outputs": [
    {
     "data": {
      "text/plain": [
       "(5695, 6)"
      ]
     },
     "execution_count": 98,
     "metadata": {},
     "output_type": "execute_result"
    }
   ],
   "source": [
    "X.shape"
   ]
  },
  {
   "cell_type": "markdown",
   "id": "1d46b643-5ed5-4915-b7d5-8eff44faf141",
   "metadata": {
    "hidden": true
   },
   "source": [
    "### 5.3.4 Tree-Based Embeddings"
   ]
  },
  {
   "cell_type": "markdown",
   "id": "c31a910c-20e9-44c0-9d80-aaa8defca34c",
   "metadata": {
    "hidden": true
   },
   "source": [
    "Precisamos definir como iremos construir esse espaço. Iremos construí-lo com uma variável que obtenhamos uma maior divisão dos clientes. Do ponto de vista de negócio, desejamos uma variável que nos permita encontrar os clientes mais valiosos. Entendemos que esta variável seria a \"monetary\", já que esta mede o gasto total dos clientes.\n",
    "\n",
    "Portanto, iremos definí-la como uma variável resposta, treinar um algoritmo de árvore com todas as outras features para realizarmos a previsão desta variável e plotar um espaço de acordo com as folhas geradas pelas árvores.\n"
   ]
  },
  {
   "cell_type": "code",
   "execution_count": 96,
   "id": "0cfc67a3-98c2-4917-a8a0-1da5cce5ab30",
   "metadata": {
    "ExecuteTime": {
     "end_time": "2023-05-07T17:57:48.361799Z",
     "start_time": "2023-05-07T17:57:47.085707Z"
    },
    "hidden": true
   },
   "outputs": [],
   "source": [
    "# Definição da variável\n",
    "X_tree = df5.drop(columns=['customer_id', 'monetary'], axis=1)\n",
    "y = df5['monetary']\n",
    "\n",
    "# Definição do Modelo\n",
    "rf_model = RandomForestRegressor(n_estimators=100, random_state=42)\n",
    "\n",
    "# Treino do Modelo\n",
    "rf_model.fit(X_tree, y)\n",
    "\n",
    "# Leaf\n",
    "df_leaf = pd.DataFrame(rf_model.apply(X_tree))\n",
    "\n",
    "# DataFrame Leaf\n",
    "# df_leaf.head()"
   ]
  },
  {
   "cell_type": "code",
   "execution_count": 100,
   "id": "7891a4eb-c8bc-455f-a6e8-8bd81bdba7cd",
   "metadata": {
    "ExecuteTime": {
     "end_time": "2023-05-07T17:57:59.577315Z",
     "start_time": "2023-05-07T17:57:55.011048Z"
    },
    "hidden": true
   },
   "outputs": [],
   "source": [
    "# Dimensionalidade Reduzida\n",
    "reducer = umap.UMAP(random_state=42)\n",
    "embedding = reducer.fit_transform(df_leaf)\n",
    "\n",
    "# embedding\n",
    "df_tree = pd.DataFrame()\n",
    "df_tree['embedding_x'] = embedding[:, 0]\n",
    "df_tree['embedding_y'] = embedding[:, 1]"
   ]
  },
  {
   "cell_type": "markdown",
   "id": "f0e8daf0-3db8-479e-9b63-ae4051b1a71a",
   "metadata": {
    "hidden": true
   },
   "source": [
    "Ao utilizarmos esta téncnica, perdemos um pouco de explicabilidade (por conta da redução de dimensionalidade). Porém, ela ainda é extremamente valiosa, pois mostra como o comportamento de uma feature pode influenciar no espaço de criação de clusters. "
   ]
  },
  {
   "cell_type": "code",
   "execution_count": 103,
   "id": "4ceff1d8",
   "metadata": {
    "ExecuteTime": {
     "end_time": "2023-05-07T17:58:23.870774Z",
     "start_time": "2023-05-07T17:58:23.868260Z"
    },
    "hidden": true
   },
   "outputs": [],
   "source": [
    "X = df_tree.copy()"
   ]
  },
  {
   "cell_type": "code",
   "execution_count": 104,
   "id": "5bf48a2b-1450-40ea-8292-5b2cca6b8094",
   "metadata": {
    "ExecuteTime": {
     "end_time": "2023-05-07T17:58:24.958172Z",
     "start_time": "2023-05-07T17:58:24.953278Z"
    },
    "hidden": true
   },
   "outputs": [
    {
     "data": {
      "text/html": [
       "<div>\n",
       "<style scoped>\n",
       "    .dataframe tbody tr th:only-of-type {\n",
       "        vertical-align: middle;\n",
       "    }\n",
       "\n",
       "    .dataframe tbody tr th {\n",
       "        vertical-align: top;\n",
       "    }\n",
       "\n",
       "    .dataframe thead th {\n",
       "        text-align: right;\n",
       "    }\n",
       "</style>\n",
       "<table border=\"1\" class=\"dataframe\">\n",
       "  <thead>\n",
       "    <tr style=\"text-align: right;\">\n",
       "      <th></th>\n",
       "      <th>embedding_x</th>\n",
       "      <th>embedding_y</th>\n",
       "    </tr>\n",
       "  </thead>\n",
       "  <tbody>\n",
       "    <tr>\n",
       "      <th>0</th>\n",
       "      <td>8.008657</td>\n",
       "      <td>-12.224926</td>\n",
       "    </tr>\n",
       "    <tr>\n",
       "      <th>1</th>\n",
       "      <td>9.678131</td>\n",
       "      <td>-11.046505</td>\n",
       "    </tr>\n",
       "    <tr>\n",
       "      <th>2</th>\n",
       "      <td>8.484795</td>\n",
       "      <td>-11.779910</td>\n",
       "    </tr>\n",
       "    <tr>\n",
       "      <th>3</th>\n",
       "      <td>-12.350116</td>\n",
       "      <td>7.437557</td>\n",
       "    </tr>\n",
       "    <tr>\n",
       "      <th>4</th>\n",
       "      <td>5.895330</td>\n",
       "      <td>17.366215</td>\n",
       "    </tr>\n",
       "  </tbody>\n",
       "</table>\n",
       "</div>"
      ],
      "text/plain": [
       "   embedding_x  embedding_y\n",
       "0     8.008657   -12.224926\n",
       "1     9.678131   -11.046505\n",
       "2     8.484795   -11.779910\n",
       "3   -12.350116     7.437557\n",
       "4     5.895330    17.366215"
      ]
     },
     "execution_count": 104,
     "metadata": {},
     "output_type": "execute_result"
    }
   ],
   "source": [
    "X.head()"
   ]
  },
  {
   "cell_type": "code",
   "execution_count": null,
   "id": "3b070316-9470-487e-ad1e-19215ff1fb30",
   "metadata": {
    "hidden": true
   },
   "outputs": [],
   "source": []
  },
  {
   "cell_type": "code",
   "execution_count": 100,
   "id": "c63ed930",
   "metadata": {
    "ExecuteTime": {
     "end_time": "2023-05-07T18:00:02.050136Z",
     "start_time": "2023-05-07T18:00:01.070697Z"
    },
    "cell_style": "split",
    "hidden": true
   },
   "outputs": [
    {
     "data": {
      "image/png": "[encoded data removed]",
      "text/plain": [
       "<Figure size 1200x600 with 1 Axes>"
      ]
     },
     "metadata": {},
     "output_type": "display_data"
    }
   ],
   "source": [
    "wss = []\n",
    "for k in clusters:\n",
    "    # model definition\n",
    "    kmeans = KMeans(init='random', n_clusters=k, n_init=10, max_iter=300, random_state=CFG.seed)\n",
    "    \n",
    "    # model training\n",
    "    kmeans.fit(X)\n",
    "    \n",
    "    # validation    \n",
    "    wss.append(kmeans.inertia_)\n",
    "\n",
    "# plot wss - Elbow Method - Método Cotovelo\n",
    "plt.plot(clusters, wss, linestyle='--', marker='o', color='b')\n",
    "plt.xlabel('K')\n",
    "plt.ylabel('Within-Cluster Sum of Squares')\n",
    "plt.title('WSS x K');"
   ]
  },
  {
   "cell_type": "code",
   "execution_count": 101,
   "id": "e7f8f4b3",
   "metadata": {
    "ExecuteTime": {
     "end_time": "2023-05-07T18:00:07.759115Z",
     "start_time": "2023-05-07T18:00:06.027142Z"
    },
    "cell_style": "split",
    "hidden": true
   },
   "outputs": [
    {
     "data": {
      "image/png": "[encoded data removed]",
      "text/plain": [
       "<Figure size 1200x600 with 1 Axes>"
      ]
     },
     "metadata": {},
     "output_type": "display_data"
    }
   ],
   "source": [
    "kmeans = KElbowVisualizer(KMeans(n_init=10), k=clusters, timings=False)\n",
    "kmeans.fit(X)\n",
    "kmeans.show();"
   ]
  },
  {
   "cell_type": "markdown",
   "id": "a8c8d410",
   "metadata": {
    "heading_collapsed": true,
    "tags": []
   },
   "source": [
    "# 8.0 Model Training"
   ]
  },
  {
   "cell_type": "markdown",
   "id": "85ed57f1",
   "metadata": {
    "hidden": true
   },
   "source": [
    "## 8.1. Models Configuration"
   ]
  },
  {
   "cell_type": "code",
   "execution_count": 113,
   "id": "085dc177-b8a9-47c4-b314-10797edd882e",
   "metadata": {
    "ExecuteTime": {
     "end_time": "2023-05-07T18:04:58.498322Z",
     "start_time": "2023-05-07T18:04:58.451459Z"
    },
    "hidden": true
   },
   "outputs": [],
   "source": [
    "# Nº Components\n",
    "k = 8\n",
    "\n",
    "# Model Selection\n",
    "model_final = GaussianMixture(n_components=k, n_init=1, random_state=42)\n",
    "\n",
    "# Model Training\n",
    "model_final.fit(X)\n",
    "\n",
    "# Clustering\n",
    "labels = model_final.predict(X)"
   ]
  },
  {
   "cell_type": "code",
   "execution_count": 114,
   "id": "2ba4ee38-b22e-423d-a370-c13f477a1d84",
   "metadata": {},
   "outputs": [
    {
     "data": {
      "text/plain": [
       "array([2, 2, 2, ..., 1, 1, 7])"
      ]
     },
     "execution_count": 114,
     "metadata": {},
     "output_type": "execute_result"
    }
   ],
   "source": [
    "labels"
   ]
  },
  {
   "cell_type": "markdown",
   "id": "3a135752",
   "metadata": {
    "hidden": true
   },
   "source": [
    "## 8.2. Cluster Validation"
   ]
  },
  {
   "cell_type": "code",
   "execution_count": 115,
   "id": "75d1cfb2",
   "metadata": {
    "ExecuteTime": {
     "end_time": "2023-05-07T18:04:59.537759Z",
     "start_time": "2023-05-07T18:04:59.529647Z"
    },
    "hidden": true
   },
   "outputs": [
    {
     "name": "stdout",
     "output_type": "stream",
     "text": [
      "SS value: 0.39887940883636475\n"
     ]
    }
   ],
   "source": [
    "## WSS \n",
    "# print(f'WSS value: {model_final.inertia_}')\n",
    "\n",
    "## SS\n",
    "print(f'SS value: {silhouette_score(X, labels, metric=\"euclidean\")}')"
   ]
  },
  {
   "cell_type": "markdown",
   "id": "35a72350",
   "metadata": {
    "heading_collapsed": true,
    "tags": []
   },
   "source": [
    "# 9.0 Cluster Analysis"
   ]
  },
  {
   "cell_type": "code",
   "execution_count": 117,
   "id": "7f42ba2f",
   "metadata": {
    "ExecuteTime": {
     "end_time": "2023-05-07T18:06:14.095867Z",
     "start_time": "2023-05-07T18:06:08.229555Z"
    },
    "hidden": true
   },
   "outputs": [],
   "source": [
    "# reducer = umap.UMAP(n_neighbors=90, random_state=42)\n",
    "# embedding = reducer.fit_transform(X)\n",
    "\n",
    "# # embedding\n",
    "# # df_umap_viz = df9.drop(columns='customer_id', axis=1)\n",
    "# df_umap_viz = df9.copy()\n",
    "# df_umap_viz['embedding_x'] = embedding[:, 0]\n",
    "# df_umap_viz['embedding_y'] = embedding[:, 1]\n",
    "\n",
    "# # plot UMAP\n",
    "# sns.scatterplot(x='embedding_x', y='embedding_y', \n",
    "#                 hue='cluster', \n",
    "#                 palette=sns.color_palette('hls', n_colors=df_umap_viz['cluster'].nunique()),\n",
    "#                data=df_umap_viz);"
   ]
  },
  {
   "cell_type": "code",
   "execution_count": 105,
   "id": "5a854148",
   "metadata": {
    "ExecuteTime": {
     "end_time": "2023-05-07T18:06:17.488825Z",
     "start_time": "2023-05-07T18:06:17.486683Z"
    },
    "hidden": true
   },
   "outputs": [],
   "source": [
    "## fig = px.scatter_3d(df9, x='recency', y='frequency', z='monetary', color='cluster')\n",
    "# fig.show()"
   ]
  },
  {
   "cell_type": "code",
   "execution_count": 121,
   "id": "47419807-e3a1-4fac-bf72-e275f709a28c",
   "metadata": {
    "ExecuteTime": {
     "end_time": "2023-05-07T18:06:19.694095Z",
     "start_time": "2023-05-07T18:06:19.686075Z"
    },
    "hidden": true
   },
   "outputs": [
    {
     "data": {
      "text/html": [
       "<div>\n",
       "<style scoped>\n",
       "    .dataframe tbody tr th:only-of-type {\n",
       "        vertical-align: middle;\n",
       "    }\n",
       "\n",
       "    .dataframe tbody tr th {\n",
       "        vertical-align: top;\n",
       "    }\n",
       "\n",
       "    .dataframe thead th {\n",
       "        text-align: right;\n",
       "    }\n",
       "</style>\n",
       "<table border=\"1\" class=\"dataframe\">\n",
       "  <thead>\n",
       "    <tr style=\"text-align: right;\">\n",
       "      <th></th>\n",
       "      <th>customer_id</th>\n",
       "      <th>monetary</th>\n",
       "      <th>recency</th>\n",
       "      <th>frequency</th>\n",
       "      <th>qtde_products</th>\n",
       "      <th>qtde_returns</th>\n",
       "      <th>cluster</th>\n",
       "    </tr>\n",
       "  </thead>\n",
       "  <tbody>\n",
       "    <tr>\n",
       "      <th>0</th>\n",
       "      <td>17850</td>\n",
       "      <td>5391.21</td>\n",
       "      <td>372.0</td>\n",
       "      <td>17.000000</td>\n",
       "      <td>297.0</td>\n",
       "      <td>40.0</td>\n",
       "      <td>2</td>\n",
       "    </tr>\n",
       "    <tr>\n",
       "      <th>1</th>\n",
       "      <td>13047</td>\n",
       "      <td>3232.59</td>\n",
       "      <td>56.0</td>\n",
       "      <td>0.028302</td>\n",
       "      <td>171.0</td>\n",
       "      <td>35.0</td>\n",
       "      <td>2</td>\n",
       "    </tr>\n",
       "    <tr>\n",
       "      <th>2</th>\n",
       "      <td>12583</td>\n",
       "      <td>6705.38</td>\n",
       "      <td>2.0</td>\n",
       "      <td>0.040323</td>\n",
       "      <td>232.0</td>\n",
       "      <td>50.0</td>\n",
       "      <td>2</td>\n",
       "    </tr>\n",
       "    <tr>\n",
       "      <th>3</th>\n",
       "      <td>13748</td>\n",
       "      <td>948.25</td>\n",
       "      <td>95.0</td>\n",
       "      <td>0.017921</td>\n",
       "      <td>28.0</td>\n",
       "      <td>0.0</td>\n",
       "      <td>3</td>\n",
       "    </tr>\n",
       "    <tr>\n",
       "      <th>4</th>\n",
       "      <td>15100</td>\n",
       "      <td>876.00</td>\n",
       "      <td>333.0</td>\n",
       "      <td>0.073171</td>\n",
       "      <td>3.0</td>\n",
       "      <td>22.0</td>\n",
       "      <td>4</td>\n",
       "    </tr>\n",
       "  </tbody>\n",
       "</table>\n",
       "</div>"
      ],
      "text/plain": [
       "   customer_id  monetary  recency  frequency  qtde_products  qtde_returns  \\\n",
       "0        17850   5391.21    372.0  17.000000          297.0          40.0   \n",
       "1        13047   3232.59     56.0   0.028302          171.0          35.0   \n",
       "2        12583   6705.38      2.0   0.040323          232.0          50.0   \n",
       "3        13748    948.25     95.0   0.017921           28.0           0.0   \n",
       "4        15100    876.00    333.0   0.073171            3.0          22.0   \n",
       "\n",
       "   cluster  \n",
       "0        2  \n",
       "1        2  \n",
       "2        2  \n",
       "3        3  \n",
       "4        4  "
      ]
     },
     "execution_count": 121,
     "metadata": {},
     "output_type": "execute_result"
    }
   ],
   "source": [
    "df94 = df5[cols_selected].copy()\n",
    "df94['cluster'] = labels\n",
    "df94.head()"
   ]
  },
  {
   "cell_type": "code",
   "execution_count": 122,
   "id": "9412b265-0bc7-4505-b77e-498cf7598ede",
   "metadata": {
    "ExecuteTime": {
     "end_time": "2023-05-07T18:06:28.502790Z",
     "start_time": "2023-05-07T18:06:28.478775Z"
    },
    "hidden": true,
    "scrolled": true,
    "tags": []
   },
   "outputs": [
    {
     "data": {
      "text/html": [
       "<div>\n",
       "<style scoped>\n",
       "    .dataframe tbody tr th:only-of-type {\n",
       "        vertical-align: middle;\n",
       "    }\n",
       "\n",
       "    .dataframe tbody tr th {\n",
       "        vertical-align: top;\n",
       "    }\n",
       "\n",
       "    .dataframe thead th {\n",
       "        text-align: right;\n",
       "    }\n",
       "</style>\n",
       "<table border=\"1\" class=\"dataframe\">\n",
       "  <thead>\n",
       "    <tr style=\"text-align: right;\">\n",
       "      <th></th>\n",
       "      <th>cluster</th>\n",
       "      <th>customer_id</th>\n",
       "      <th>perc_customer</th>\n",
       "      <th>monetary</th>\n",
       "      <th>recency</th>\n",
       "      <th>frequency</th>\n",
       "      <th>qtde_products</th>\n",
       "      <th>qtde_returns</th>\n",
       "    </tr>\n",
       "  </thead>\n",
       "  <tbody>\n",
       "    <tr>\n",
       "      <th>5</th>\n",
       "      <td>5</td>\n",
       "      <td>509</td>\n",
       "      <td>8.94</td>\n",
       "      <td>7,615.14</td>\n",
       "      <td>124.25</td>\n",
       "      <td>0.56</td>\n",
       "      <td>363.07</td>\n",
       "      <td>421.13</td>\n",
       "    </tr>\n",
       "    <tr>\n",
       "      <th>2</th>\n",
       "      <td>2</td>\n",
       "      <td>708</td>\n",
       "      <td>12.43</td>\n",
       "      <td>3,257.07</td>\n",
       "      <td>72.94</td>\n",
       "      <td>0.31</td>\n",
       "      <td>205.82</td>\n",
       "      <td>31.18</td>\n",
       "    </tr>\n",
       "    <tr>\n",
       "      <th>1</th>\n",
       "      <td>1</td>\n",
       "      <td>893</td>\n",
       "      <td>15.68</td>\n",
       "      <td>2,224.09</td>\n",
       "      <td>80.32</td>\n",
       "      <td>0.30</td>\n",
       "      <td>104.24</td>\n",
       "      <td>7.46</td>\n",
       "    </tr>\n",
       "    <tr>\n",
       "      <th>3</th>\n",
       "      <td>3</td>\n",
       "      <td>580</td>\n",
       "      <td>10.18</td>\n",
       "      <td>1,062.08</td>\n",
       "      <td>76.83</td>\n",
       "      <td>0.08</td>\n",
       "      <td>42.85</td>\n",
       "      <td>7.33</td>\n",
       "    </tr>\n",
       "    <tr>\n",
       "      <th>4</th>\n",
       "      <td>4</td>\n",
       "      <td>782</td>\n",
       "      <td>13.73</td>\n",
       "      <td>630.32</td>\n",
       "      <td>103.66</td>\n",
       "      <td>0.26</td>\n",
       "      <td>18.53</td>\n",
       "      <td>5.84</td>\n",
       "    </tr>\n",
       "    <tr>\n",
       "      <th>7</th>\n",
       "      <td>7</td>\n",
       "      <td>818</td>\n",
       "      <td>14.36</td>\n",
       "      <td>523.22</td>\n",
       "      <td>160.26</td>\n",
       "      <td>1.02</td>\n",
       "      <td>32.18</td>\n",
       "      <td>2.87</td>\n",
       "    </tr>\n",
       "    <tr>\n",
       "      <th>0</th>\n",
       "      <td>0</td>\n",
       "      <td>906</td>\n",
       "      <td>15.91</td>\n",
       "      <td>520.17</td>\n",
       "      <td>160.28</td>\n",
       "      <td>0.87</td>\n",
       "      <td>37.78</td>\n",
       "      <td>3.18</td>\n",
       "    </tr>\n",
       "    <tr>\n",
       "      <th>6</th>\n",
       "      <td>6</td>\n",
       "      <td>499</td>\n",
       "      <td>8.76</td>\n",
       "      <td>190.52</td>\n",
       "      <td>155.01</td>\n",
       "      <td>0.93</td>\n",
       "      <td>7.23</td>\n",
       "      <td>3.86</td>\n",
       "    </tr>\n",
       "  </tbody>\n",
       "</table>\n",
       "</div>"
      ],
      "text/plain": [
       "   cluster  customer_id  perc_customer  monetary  recency  frequency  \\\n",
       "5        5          509           8.94  7,615.14   124.25       0.56   \n",
       "2        2          708          12.43  3,257.07    72.94       0.31   \n",
       "1        1          893          15.68  2,224.09    80.32       0.30   \n",
       "3        3          580          10.18  1,062.08    76.83       0.08   \n",
       "4        4          782          13.73    630.32   103.66       0.26   \n",
       "7        7          818          14.36    523.22   160.26       1.02   \n",
       "0        0          906          15.91    520.17   160.28       0.87   \n",
       "6        6          499           8.76    190.52   155.01       0.93   \n",
       "\n",
       "   qtde_products  qtde_returns  \n",
       "5         363.07        421.13  \n",
       "2         205.82         31.18  \n",
       "1         104.24          7.46  \n",
       "3          42.85          7.33  \n",
       "4          18.53          5.84  \n",
       "7          32.18          2.87  \n",
       "0          37.78          3.18  \n",
       "6           7.23          3.86  "
      ]
     },
     "execution_count": 122,
     "metadata": {},
     "output_type": "execute_result"
    }
   ],
   "source": [
    "pd.options.display.float_format = '{:,.2f}'.format\n",
    "\n",
    "# Number of customer\n",
    "df_cluster = df94[['customer_id', 'cluster']].groupby('cluster').count().reset_index()\n",
    "df_cluster['perc_customer'] = (df_cluster['customer_id'] / df_cluster['customer_id'].sum())*100\n",
    "\n",
    "# Avg Monetary\n",
    "df_avg_monetary = df94[['monetary', 'cluster']].groupby('cluster').mean().reset_index()\n",
    "df_cluster = pd.merge(df_cluster, df_avg_monetary, on='cluster')\n",
    "\n",
    "# Avg recency days\n",
    "df_avg_recency = df94[['recency', 'cluster']].groupby('cluster').mean().reset_index()\n",
    "df_cluster = pd.merge(df_cluster, df_avg_recency, on='cluster')\n",
    "\n",
    "# Avg Frequency\n",
    "df_avg_frequency = df94[['frequency', 'cluster']].groupby('cluster').mean().reset_index()\n",
    "df_cluster = pd.merge(df_cluster, df_avg_frequency, on='cluster')\n",
    "\n",
    "# Avg Qtde Products\n",
    "df_avg_products = df94[['qtde_products', 'cluster']].groupby('cluster').mean().reset_index()\n",
    "df_cluster = pd.merge(df_cluster, df_avg_products, on='cluster')\n",
    "\n",
    "# Avg Qtde Returns\n",
    "df_avg_returns = df94[['qtde_returns', 'cluster']].groupby('cluster').mean().reset_index()\n",
    "df_cluster = pd.merge(df_cluster, df_avg_returns, on='cluster')\n",
    "\n",
    "df_cluster.sort_values(by='monetary', ascending=False)"
   ]
  },
  {
   "cell_type": "code",
   "execution_count": 123,
   "id": "4553b4f5-dbbb-4b28-ab7e-fe8a00058ca7",
   "metadata": {},
   "outputs": [
    {
     "data": {
      "text/plain": [
       "5"
      ]
     },
     "execution_count": 123,
     "metadata": {},
     "output_type": "execute_result"
    }
   ],
   "source": [
    "np.argmax(df_cluster['monetary'])"
   ]
  },
  {
   "cell_type": "markdown",
   "id": "3dfe9400-7d01-4c26-a3ec-60b57f106a3c",
   "metadata": {},
   "source": [
    "### Cluster 01:  (Premium - Candidato à Insider)\n",
    "    - Número de customers: 6 (0,14% dos clientes)\n",
    "    - Recência média: 7 dias\n",
    "    - Compras em média: 89 compras\n",
    "    - Receita em média: U$ 182.182,00 \n",
    "    \n",
    "### Cluster 02: (VIPs)\n",
    "    - Número de customers: 31 (0,71% dos clientes)\n",
    "    - Recência média: 14 dias\n",
    "    - Compras em média: 53 compras\n",
    "    - Receita em média: U$ 40.543,52 \n",
    "    \n",
    "### Cluster 03: (Ocasionais)\n",
    "    - Número de customers: 4.335 (99% dos clientes)\n",
    "    - Recência média: 92 dias\n",
    "    - Compras em média: 5 compras\n",
    "    - Receita em média: U$ 1.372,57 \n"
   ]
  },
  {
   "cell_type": "markdown",
   "id": "19fda3e6-21cd-4c0f-b2ee-9824cd62b816",
   "metadata": {
    "hidden": true
   },
   "source": [
    "1. Fenômeno\n",
    "1. Entidades\n",
    "    1. Customer\n",
    "    1. Store\n",
    "    1. Product\n",
    "\n",
    "1. Características das Entidades\n",
    "    1. Nome\n",
    "    1. Idade\n",
    "    1. Salário\n",
    "    1. Escolaridade"
   ]
  },
  {
   "cell_type": "code",
   "execution_count": 159,
   "id": "4167baee-273d-46eb-b247-e876d4021aee",
   "metadata": {
    "hidden": true
   },
   "outputs": [
    {
     "data": {
      "image/png": "[encoded data removed]",
      "text/plain": [
       "<IPython.core.display.Image object>"
      ]
     },
     "execution_count": 159,
     "metadata": {
      "image/png": {
       "height": 500,
       "width": 1000
      }
     },
     "output_type": "execute_result"
    }
   ],
   "source": [
    "Image(\"../docs/Mindmap_Clusterizao_de_Clientes.png\", width=1000, height=500)"
   ]
  },
  {
   "cell_type": "markdown",
   "id": "46d82642-6b5b-44f0-bf25-e74f452d4338",
   "metadata": {
    "heading_collapsed": true
   },
   "source": [
    "### Hipóteses Cliente"
   ]
  },
  {
   "cell_type": "markdown",
   "id": "09e6e205-c58f-4002-b981-5cbd5a6eb7eb",
   "metadata": {
    "hidden": true
   },
   "source": [
    "1. Mais da metade dos clientes do cluster insiders possuem o estado civil de solteiro.\n",
    "2. Apenas 10% dos clientes do cluster insiders estão na faixa de 24-35 anos.\n",
    "3. 5% dos clientes do cluster insiders recebem mais de 100 mil dólares anualmente.\n",
    "4. 90% dos clientes do cluster insiders tem ensino superior completo.\n",
    "5. A maior parte das localidades das entregas do cluster Insiders estão dentro de um raio de 50km."
   ]
  },
  {
   "cell_type": "markdown",
   "id": "6a4f4dfe",
   "metadata": {
    "hidden": true
   },
   "source": [
    "Não possuimos informação suficiente para validar as features acima, iremos seguir apenas com outras hipóteses."
   ]
  },
  {
   "cell_type": "markdown",
   "id": "554f4373-d988-4a01-a726-187da0d4067f",
   "metadata": {
    "heading_collapsed": true
   },
   "source": [
    "### Hipóteses Compra"
   ]
  },
  {
   "cell_type": "markdown",
   "id": "9e38fa4b",
   "metadata": {
    "hidden": true
   },
   "source": [
    "1. A maioria dos clientes 'Insiders' utilizam como forma de pagamento cartão de crédito.\n",
    "1. Os clientes do cluster Insiders possuem um Ticket Médio de 10% acima do cluster \"concorrente\".\n",
    "1. Os clientes do cluster Insiders possuem um Basket Size acima de 5 produtos.\n",
    "\n",
    "1. **Os clientes do cluster Insiders possuem um Volume de Compras acima de 10% do total de compras.**\n",
    "1. **Os clientes do cluster Insiders possuem um Faturamento acima de 10% do total de compras.**\n",
    "1. **Os clientes do cluster Insiders possuem um número de devolução abaixo da média da base total de clientes.**"
   ]
  },
  {
   "cell_type": "markdown",
   "id": "ed29c776-3d5e-4af4-8a4e-285b95bb172f",
   "metadata": {
    "heading_collapsed": true
   },
   "source": [
    "### Hipóteses Produtos"
   ]
  },
  {
   "cell_type": "markdown",
   "id": "c9c6041f-d70a-4844-a38f-35b10f21e9e6",
   "metadata": {
    "hidden": true
   },
   "source": [
    "1. Um terço dos produtos em pacotes grandes são comprados pelos clientes do cluster insiders.\n",
    "1. **A mediana dos preços dos produtos comprados pelos clientes do cluster Insiders é 10% maior que a mediana de todos os preços dos produtos.**\n",
    "1. O peso médio dos produtos comprados pelos clientes do cluster Insiders é maior que o peso médio dos outros clusters.\n",
    "1. A idade média dos produtos comprados pelos clientes do cluster Insiders é menor que 15 dias."
   ]
  },
  {
   "cell_type": "markdown",
   "id": "0348e9b1",
   "metadata": {
    "ExecuteTime": {
     "end_time": "2023-05-07T21:57:51.169155Z",
     "start_time": "2023-05-07T21:57:51.165332Z"
    },
    "hidden": true
   },
   "source": [
    "**H1. Os clientes do cluster Insiders possuem um Volume de Compras acima de 10% do total de compras.**\n",
    "\n",
    "**H2. Os clientes do cluster Insiders possuem um Faturamento acima de 10% do total de compras.**\n",
    "\n",
    "**H3. Os clientes do cluster Insiders possuem um número de devolução abaixo da média da base total de clientes.**\n",
    "\n",
    "**H4. A mediana dos preços dos produtos comprados pelos clientes do cluster Insiders é 10% maior que a mediana de todos os preços dos produtos.**"
   ]
  },
  {
   "cell_type": "code",
   "execution_count": 177,
   "id": "2206ecbb",
   "metadata": {
    "ExecuteTime": {
     "end_time": "2023-05-07T21:09:04.530189Z",
     "start_time": "2023-05-07T21:09:04.521719Z"
    },
    "hidden": true
   },
   "outputs": [
    {
     "data": {
      "text/html": [
       "<div>\n",
       "<style scoped>\n",
       "    .dataframe tbody tr th:only-of-type {\n",
       "        vertical-align: middle;\n",
       "    }\n",
       "\n",
       "    .dataframe tbody tr th {\n",
       "        vertical-align: top;\n",
       "    }\n",
       "\n",
       "    .dataframe thead th {\n",
       "        text-align: right;\n",
       "    }\n",
       "</style>\n",
       "<table border=\"1\" class=\"dataframe\">\n",
       "  <thead>\n",
       "    <tr style=\"text-align: right;\">\n",
       "      <th></th>\n",
       "      <th>customer_id</th>\n",
       "      <th>monetary</th>\n",
       "      <th>recency</th>\n",
       "      <th>frequency</th>\n",
       "      <th>qtde_products</th>\n",
       "      <th>qtde_returns</th>\n",
       "      <th>cluster</th>\n",
       "    </tr>\n",
       "  </thead>\n",
       "  <tbody>\n",
       "    <tr>\n",
       "      <th>1017</th>\n",
       "      <td>14646</td>\n",
       "      <td>279,138.02</td>\n",
       "      <td>1.00</td>\n",
       "      <td>0.20</td>\n",
       "      <td>2,060.00</td>\n",
       "      <td>288.00</td>\n",
       "      <td>6</td>\n",
       "    </tr>\n",
       "    <tr>\n",
       "      <th>492</th>\n",
       "      <td>18102</td>\n",
       "      <td>259,657.30</td>\n",
       "      <td>0.00</td>\n",
       "      <td>0.16</td>\n",
       "      <td>431.00</td>\n",
       "      <td>0.00</td>\n",
       "      <td>6</td>\n",
       "    </tr>\n",
       "    <tr>\n",
       "      <th>433</th>\n",
       "      <td>17450</td>\n",
       "      <td>194,550.79</td>\n",
       "      <td>8.00</td>\n",
       "      <td>0.13</td>\n",
       "      <td>337.00</td>\n",
       "      <td>952.00</td>\n",
       "      <td>6</td>\n",
       "    </tr>\n",
       "    <tr>\n",
       "      <th>3338</th>\n",
       "      <td>16446</td>\n",
       "      <td>168,472.50</td>\n",
       "      <td>0.00</td>\n",
       "      <td>0.01</td>\n",
       "      <td>3.00</td>\n",
       "      <td>80,995.00</td>\n",
       "      <td>6</td>\n",
       "    </tr>\n",
       "    <tr>\n",
       "      <th>66</th>\n",
       "      <td>14911</td>\n",
       "      <td>140,438.72</td>\n",
       "      <td>1.00</td>\n",
       "      <td>0.53</td>\n",
       "      <td>5,670.00</td>\n",
       "      <td>3,332.00</td>\n",
       "      <td>6</td>\n",
       "    </tr>\n",
       "  </tbody>\n",
       "</table>\n",
       "</div>"
      ],
      "text/plain": [
       "      customer_id   monetary  recency  frequency  qtde_products  qtde_returns  cluster\n",
       "1017        14646 279,138.02     1.00       0.20       2,060.00        288.00        6\n",
       "492         18102 259,657.30     0.00       0.16         431.00          0.00        6\n",
       "433         17450 194,550.79     8.00       0.13         337.00        952.00        6\n",
       "3338        16446 168,472.50     0.00       0.01           3.00     80,995.00        6\n",
       "66          14911 140,438.72     1.00       0.53       5,670.00      3,332.00        6"
      ]
     },
     "execution_count": 177,
     "metadata": {},
     "output_type": "execute_result"
    }
   ],
   "source": [
    "df10.sort_values(by='monetary', ascending=False).head()"
   ]
  },
  {
   "cell_type": "markdown",
   "id": "f0cfc803",
   "metadata": {
    "hidden": true
   },
   "source": [
    "Nossa hipótese assume que o volume de compras do principal cluster é acima de 10% do total de compras de todos os clusters. Vamos verificar:"
   ]
  },
  {
   "cell_type": "code",
   "execution_count": 191,
   "id": "5f465461-d48e-4f4e-885f-db72ef0e6f2b",
   "metadata": {},
   "outputs": [
    {
     "data": {
      "text/plain": [
       "3"
      ]
     },
     "execution_count": 191,
     "metadata": {},
     "output_type": "execute_result"
    }
   ],
   "source": [
    "cluster_insider = int(df_cluster.loc[df_cluster['monetary'] == df_cluster['monetary'].max(), 'cluster'].values)\n",
    "cluster_insider"
   ]
  },
  {
   "cell_type": "code",
   "execution_count": 180,
   "id": "794ccfc4",
   "metadata": {
    "ExecuteTime": {
     "end_time": "2023-05-07T21:09:33.700091Z",
     "start_time": "2023-05-07T21:09:33.695539Z"
    },
    "hidden": true
   },
   "outputs": [
    {
     "data": {
      "text/plain": [
       "True"
      ]
     },
     "execution_count": 180,
     "metadata": {},
     "output_type": "execute_result"
    }
   ],
   "source": [
    "# Cluster Insiders\n",
    "insiders = df10.loc[df10['cluster'] == cluster_insider]\n",
    "insiders['qtde_products'].sum() > df10['qtde_products'].sum() * 0.1"
   ]
  },
  {
   "cell_type": "code",
   "execution_count": 181,
   "id": "180b4029",
   "metadata": {
    "ExecuteTime": {
     "end_time": "2023-05-07T21:10:22.558641Z",
     "start_time": "2023-05-07T21:10:22.554756Z"
    },
    "hidden": true
   },
   "outputs": [
    {
     "data": {
      "text/plain": [
       "23.315736274843715"
      ]
     },
     "execution_count": 181,
     "metadata": {},
     "output_type": "execute_result"
    }
   ],
   "source": [
    "insiders['qtde_products'].sum() / df10['qtde_products'].sum() *100"
   ]
  },
  {
   "cell_type": "markdown",
   "id": "21431bb9",
   "metadata": {
    "hidden": true
   },
   "source": [
    "**Verdadeira. O cluster Insiders possui um volume de 23.32% do total de compras.** "
   ]
  },
  {
   "cell_type": "code",
   "execution_count": 118,
   "id": "d1674af2",
   "metadata": {
    "ExecuteTime": {
     "end_time": "2023-05-07T21:10:42.752520Z",
     "start_time": "2023-05-07T21:10:42.748827Z"
    },
    "hidden": true
   },
   "outputs": [
    {
     "data": {
      "text/plain": [
       "True"
      ]
     },
     "execution_count": 118,
     "metadata": {},
     "output_type": "execute_result"
    }
   ],
   "source": [
    "# Cluster Insiders\n",
    "insiders['monetary'].sum() > df10['monetary'].sum() * 0.1"
   ]
  },
  {
   "cell_type": "code",
   "execution_count": 119,
   "id": "9386cae5",
   "metadata": {
    "ExecuteTime": {
     "end_time": "2023-05-07T21:10:47.408428Z",
     "start_time": "2023-05-07T21:10:47.404502Z"
    },
    "hidden": true
   },
   "outputs": [
    {
     "data": {
      "text/plain": [
       "24.135791791611872"
      ]
     },
     "execution_count": 119,
     "metadata": {},
     "output_type": "execute_result"
    }
   ],
   "source": [
    "insiders['monetary'].sum() / df10['monetary'].sum() * 100"
   ]
  },
  {
   "cell_type": "markdown",
   "id": "0aba6681",
   "metadata": {
    "hidden": true
   },
   "source": [
    "**Verdadeira. O cluster Insiders possui um faturamento de 24.14% do total de compras.** "
   ]
  },
  {
   "cell_type": "code",
   "execution_count": 144,
   "id": "6ab4c26c",
   "metadata": {
    "ExecuteTime": {
     "end_time": "2023-05-07T21:11:47.227785Z",
     "start_time": "2023-05-07T21:11:47.223552Z"
    },
    "hidden": true
   },
   "outputs": [
    {
     "data": {
      "text/plain": [
       "False"
      ]
     },
     "execution_count": 144,
     "metadata": {},
     "output_type": "execute_result"
    }
   ],
   "source": [
    "insiders['qtde_returns'].mean() < df10['qtde_returns'].mean()"
   ]
  },
  {
   "cell_type": "code",
   "execution_count": 145,
   "id": "c226cf45",
   "metadata": {
    "ExecuteTime": {
     "end_time": "2023-05-07T21:12:18.474272Z",
     "start_time": "2023-05-07T21:12:18.470183Z"
    },
    "hidden": true
   },
   "outputs": [
    {
     "data": {
      "text/plain": [
       "(82.3201581027668, 62.17789757412399)"
      ]
     },
     "execution_count": 145,
     "metadata": {},
     "output_type": "execute_result"
    }
   ],
   "source": [
    "insiders['qtde_returns'].mean(), df10['qtde_returns'].mean()"
   ]
  },
  {
   "cell_type": "markdown",
   "id": "c8c9f62c",
   "metadata": {
    "hidden": true
   },
   "source": [
    "**Falso. O cluster Insiders possui uma quantidade de devoluções acima da média do total de clientes.** "
   ]
  },
  {
   "cell_type": "code",
   "execution_count": 141,
   "id": "9b9fc8ae-ca9b-4f2e-8e36-92971a050f92",
   "metadata": {
    "ExecuteTime": {
     "end_time": "2023-05-07T21:44:05.893664Z",
     "start_time": "2023-05-07T21:44:05.889240Z"
    },
    "hidden": true
   },
   "outputs": [
    {
     "data": {
      "text/plain": [
       "True"
      ]
     },
     "execution_count": 141,
     "metadata": {},
     "output_type": "execute_result"
    }
   ],
   "source": [
    "insiders['monetary'].median() > df10['monetary'].median() * 0.1"
   ]
  },
  {
   "cell_type": "code",
   "execution_count": 142,
   "id": "7725611b-a3b1-4290-ac0d-c62cfa51ce06",
   "metadata": {
    "ExecuteTime": {
     "end_time": "2023-05-07T21:44:05.893664Z",
     "start_time": "2023-05-07T21:44:05.889240Z"
    },
    "hidden": true
   },
   "outputs": [
    {
     "data": {
      "text/plain": [
       "True"
      ]
     },
     "execution_count": 142,
     "metadata": {},
     "output_type": "execute_result"
    }
   ],
   "source": [
    "insiders['qtde_products'].median() > df10['qtde_products'].median() * 0.1"
   ]
  },
  {
   "cell_type": "code",
   "execution_count": 138,
   "id": "742ec7c5-2b9c-4bab-a43f-295a8ea247b0",
   "metadata": {
    "ExecuteTime": {
     "end_time": "2023-05-07T21:44:05.893664Z",
     "start_time": "2023-05-07T21:44:05.889240Z"
    },
    "hidden": true
   },
   "outputs": [
    {
     "data": {
      "text/plain": [
       "598.7231808090205"
      ]
     },
     "execution_count": 138,
     "metadata": {},
     "output_type": "execute_result"
    }
   ],
   "source": [
    "insiders['monetary'].median() / df10['monetary'].median() * 100"
   ]
  },
  {
   "cell_type": "code",
   "execution_count": 143,
   "id": "f53219d9-2ee1-45ca-aebe-c5a8004949b2",
   "metadata": {
    "ExecuteTime": {
     "end_time": "2023-05-07T21:44:05.893664Z",
     "start_time": "2023-05-07T21:44:05.889240Z"
    },
    "hidden": true
   },
   "outputs": [
    {
     "data": {
      "text/plain": [
       "404.4776119402985"
      ]
     },
     "execution_count": 143,
     "metadata": {},
     "output_type": "execute_result"
    }
   ],
   "source": [
    "insiders['qtde_products'].median() / df10['qtde_products'].median() * 100"
   ]
  },
  {
   "cell_type": "markdown",
   "id": "e6f02fa3-d0f5-4f74-a25c-235ad081454f",
   "metadata": {},
   "source": [
    "- 1º Quartil"
   ]
  },
  {
   "cell_type": "code",
   "execution_count": 226,
   "id": "e371d1b2-2149-4564-b74a-78d55193ce8e",
   "metadata": {},
   "outputs": [
    {
     "data": {
      "text/plain": [
       "64"
      ]
     },
     "execution_count": 226,
     "metadata": {},
     "output_type": "execute_result"
    }
   ],
   "source": [
    "insiders.loc[insiders['monetary'] <= insiders['monetary'].quantile(0.25)].shape[0]"
   ]
  },
  {
   "cell_type": "markdown",
   "id": "5b25e7b8-43bd-47b3-9152-853c0ac42e8b",
   "metadata": {},
   "source": [
    "- 2º Quartil"
   ]
  },
  {
   "cell_type": "code",
   "execution_count": 227,
   "id": "3d9899d9-fdaa-4b75-9818-17f9d6fd378a",
   "metadata": {},
   "outputs": [
    {
     "data": {
      "text/plain": [
       "63"
      ]
     },
     "execution_count": 227,
     "metadata": {},
     "output_type": "execute_result"
    }
   ],
   "source": [
    "insiders.loc[(insiders['monetary'] > insiders['monetary'].quantile(0.25)) & (insiders['monetary'] <= insiders['monetary'].quantile(0.50))].shape[0]"
   ]
  },
  {
   "cell_type": "markdown",
   "id": "a9191190-ec05-4487-984c-6f9535651984",
   "metadata": {},
   "source": [
    "- 3º Quartil"
   ]
  },
  {
   "cell_type": "code",
   "execution_count": 228,
   "id": "a4f1d980-04d8-4955-a46e-e12d014dc003",
   "metadata": {},
   "outputs": [
    {
     "data": {
      "text/plain": [
       "63"
      ]
     },
     "execution_count": 228,
     "metadata": {},
     "output_type": "execute_result"
    }
   ],
   "source": [
    "insiders.loc[(insiders['monetary'] > insiders['monetary'].quantile(0.50)) & (insiders['monetary'] <= insiders['monetary'].quantile(0.75))].shape[0]"
   ]
  },
  {
   "cell_type": "markdown",
   "id": "fa3a6961-505a-4afb-b040-1ca1b91d50a5",
   "metadata": {},
   "source": [
    "- 4º Quartil"
   ]
  },
  {
   "cell_type": "code",
   "execution_count": 229,
   "id": "4b23d6a4-b6e1-43fa-bdc2-7dd5b114f0bc",
   "metadata": {},
   "outputs": [
    {
     "data": {
      "text/plain": [
       "63"
      ]
     },
     "execution_count": 229,
     "metadata": {},
     "output_type": "execute_result"
    }
   ],
   "source": [
    "insiders.loc[(insiders['monetary'] > insiders['monetary'].quantile(0.75)) & (insiders['monetary'] <= insiders['monetary'].quantile(1))].shape[0]"
   ]
  },
  {
   "cell_type": "code",
   "execution_count": 150,
   "id": "9b281734",
   "metadata": {
    "ExecuteTime": {
     "end_time": "2023-05-07T21:52:39.303664Z",
     "start_time": "2023-05-07T21:52:39.165331Z"
    },
    "hidden": true
   },
   "outputs": [
    {
     "data": {
      "image/png": "[encoded data removed]",
      "text/plain": [
       "<Figure size 1200x600 with 1 Axes>"
      ]
     },
     "metadata": {},
     "output_type": "display_data"
    }
   ],
   "source": [
    "sns.violinplot(x=insiders['monetary']);"
   ]
  },
  {
   "cell_type": "markdown",
   "id": "d48ea2e4",
   "metadata": {
    "jp-MarkdownHeadingCollapsed": true,
    "tags": []
   },
   "source": [
    "### 1. Quem são as pessoas elegíveis para participar do programa insiders?"
   ]
  },
  {
   "cell_type": "code",
   "execution_count": 196,
   "id": "349a8c26",
   "metadata": {
    "ExecuteTime": {
     "end_time": "2023-05-07T22:25:00.821286Z",
     "start_time": "2023-05-07T22:25:00.805810Z"
    }
   },
   "outputs": [
    {
     "data": {
      "text/html": [
       "<div>\n",
       "<style scoped>\n",
       "    .dataframe tbody tr th:only-of-type {\n",
       "        vertical-align: middle;\n",
       "    }\n",
       "\n",
       "    .dataframe tbody tr th {\n",
       "        vertical-align: top;\n",
       "    }\n",
       "\n",
       "    .dataframe thead th {\n",
       "        text-align: right;\n",
       "    }\n",
       "</style>\n",
       "<table border=\"1\" class=\"dataframe\">\n",
       "  <thead>\n",
       "    <tr style=\"text-align: right;\">\n",
       "      <th></th>\n",
       "      <th>customer_id</th>\n",
       "    </tr>\n",
       "  </thead>\n",
       "  <tbody>\n",
       "    <tr>\n",
       "      <th>2</th>\n",
       "      <td>12583</td>\n",
       "    </tr>\n",
       "    <tr>\n",
       "      <th>6</th>\n",
       "      <td>14688</td>\n",
       "    </tr>\n",
       "    <tr>\n",
       "      <th>14</th>\n",
       "      <td>12431</td>\n",
       "    </tr>\n",
       "    <tr>\n",
       "      <th>20</th>\n",
       "      <td>13767</td>\n",
       "    </tr>\n",
       "    <tr>\n",
       "      <th>24</th>\n",
       "      <td>15513</td>\n",
       "    </tr>\n",
       "  </tbody>\n",
       "</table>\n",
       "</div>"
      ],
      "text/plain": [
       "    customer_id\n",
       "2         12583\n",
       "6         14688\n",
       "14        12431\n",
       "20        13767\n",
       "24        15513"
      ]
     },
     "execution_count": 196,
     "metadata": {},
     "output_type": "execute_result"
    }
   ],
   "source": [
    "pd.DataFrame(insiders['customer_id'].head())"
   ]
  },
  {
   "cell_type": "markdown",
   "id": "a1cc6097-cee6-480b-9378-d32a49f74b5f",
   "metadata": {},
   "source": [
    "Todos os clientes presentes no dataframe \"insiders\" (ou seja, do cluster 3), estarão presentes no programa."
   ]
  },
  {
   "cell_type": "markdown",
   "id": "9508db39",
   "metadata": {
    "jp-MarkdownHeadingCollapsed": true,
    "tags": []
   },
   "source": [
    "### 2. Quantos clientes farão parte do grupo?"
   ]
  },
  {
   "cell_type": "code",
   "execution_count": 152,
   "id": "f48872e1",
   "metadata": {
    "ExecuteTime": {
     "end_time": "2023-05-07T22:09:09.811875Z",
     "start_time": "2023-05-07T22:09:09.798185Z"
    }
   },
   "outputs": [
    {
     "data": {
      "text/plain": [
       "253.0"
      ]
     },
     "execution_count": 152,
     "metadata": {},
     "output_type": "execute_result"
    }
   ],
   "source": [
    "insiders.describe().iloc[0][0]"
   ]
  },
  {
   "cell_type": "code",
   "execution_count": 199,
   "id": "0da85cae-daff-489a-af6e-7c3fd9b35662",
   "metadata": {
    "ExecuteTime": {
     "end_time": "2023-05-07T22:09:09.811875Z",
     "start_time": "2023-05-07T22:09:09.798185Z"
    }
   },
   "outputs": [
    {
     "name": "stdout",
     "output_type": "stream",
     "text": [
      "Teremos exatamente 253 clientes no programa.\n"
     ]
    }
   ],
   "source": [
    "print(f\"Teremos exatamente {insiders['customer_id'].size} clientes no programa.\")"
   ]
  },
  {
   "cell_type": "markdown",
   "id": "a656e05d",
   "metadata": {
    "jp-MarkdownHeadingCollapsed": true,
    "tags": []
   },
   "source": [
    "### 3. Quais as principais características desses clientes?"
   ]
  },
  {
   "cell_type": "markdown",
   "id": "8e8bc0bf-950e-40ee-8b43-c4043b225af8",
   "metadata": {
    "jp-MarkdownHeadingCollapsed": true,
    "tags": []
   },
   "source": [
    "#### Cluster Insider\n",
    "\n",
    "- Número de customers: 253\n",
    "- Recência média: 23 dias\n",
    "- Compras em média: 335 compras\n",
    "- Frequência de produtos comprados: 0.08 produtos/dia\n",
    "- Receita em média: U$ 7.785,59"
   ]
  },
  {
   "cell_type": "code",
   "execution_count": 201,
   "id": "7095ad2f",
   "metadata": {
    "ExecuteTime": {
     "end_time": "2023-05-07T22:22:05.542408Z",
     "start_time": "2023-05-07T22:22:05.537793Z"
    }
   },
   "outputs": [],
   "source": [
    "# insiders_monetary = insiders['monetary']\n",
    "\n",
    "# # Bootstrap\n",
    "# stats.t.interval(alpha=0.95,\n",
    "#         df=len(insiders_monetary)-1,\n",
    "#         loc=np.mean(insiders_monetary),\n",
    "#         scale=stats.sem(insiders_monetary)\n",
    "#         )"
   ]
  },
  {
   "cell_type": "markdown",
   "id": "bf50bf6c",
   "metadata": {},
   "source": [
    "Intervalo de confiança gerado pelo teste T-Student para o cluster *Insiders*. Todos dentro deste intervalo estão elegíveis."
   ]
  },
  {
   "cell_type": "markdown",
   "id": "bc0ef00a",
   "metadata": {
    "jp-MarkdownHeadingCollapsed": true,
    "tags": []
   },
   "source": [
    "### 4. Qual a porcentagem de contribuição do faturamento, vinda do programa?"
   ]
  },
  {
   "cell_type": "code",
   "execution_count": 233,
   "id": "213d1d7f-7387-49e9-b5a6-2a8e52aadd7b",
   "metadata": {},
   "outputs": [
    {
     "name": "stdout",
     "output_type": "stream",
     "text": [
      "GMV de contribuição do grupo Insiders: 24.14%\n"
     ]
    }
   ],
   "source": [
    "print(f\"GMV de contribuição do grupo Insiders: {insiders['monetary'].sum()/df10['monetary'].sum()*100:.2f}%\")"
   ]
  },
  {
   "cell_type": "markdown",
   "id": "c3749aca",
   "metadata": {},
   "source": [
    "### 5. Qual a expectativa de faturamento (LTV) desse grupo para os próximos meses?"
   ]
  },
  {
   "cell_type": "code",
   "execution_count": null,
   "id": "4916f1b6-e45b-4b83-86da-276d791d6d13",
   "metadata": {},
   "outputs": [],
   "source": []
  },
  {
   "cell_type": "markdown",
   "id": "49462210",
   "metadata": {},
   "source": [
    "### 6. Quais as condições para uma pessoa ser elegível aos insiders?"
   ]
  },
  {
   "cell_type": "code",
   "execution_count": null,
   "id": "cfbd2b4e-354d-4250-b12d-f365a5d5f244",
   "metadata": {},
   "outputs": [],
   "source": []
  },
  {
   "cell_type": "markdown",
   "id": "4860d723",
   "metadata": {},
   "source": [
    "### 7. Quais as condições para um apessoa ser removida dos insiders?"
   ]
  },
  {
   "cell_type": "code",
   "execution_count": null,
   "id": "bd552455-6c58-4d22-96a7-91080bbaed4b",
   "metadata": {},
   "outputs": [],
   "source": []
  },
  {
   "cell_type": "markdown",
   "id": "ae783a18",
   "metadata": {},
   "source": [
    "### 8. Qual a garantia que o programa _insiders_ é melhor que o restante da base?"
   ]
  },
  {
   "cell_type": "code",
   "execution_count": null,
   "id": "a543b34a-bf1c-40bd-9b57-acdeb366aeae",
   "metadata": {},
   "outputs": [],
   "source": []
  },
  {
   "cell_type": "markdown",
   "id": "3c6cd7eb",
   "metadata": {},
   "source": [
    "### 9. Quais ações o time de marketing pode realizar para aumentar o faturamento?"
   ]
  },
  {
   "cell_type": "code",
   "execution_count": null,
   "id": "a45d79b0-7d87-4442-b4fc-39fdf6556dd1",
   "metadata": {},
   "outputs": [],
   "source": []
  },
  {
   "cell_type": "code",
   "execution_count": null,
   "id": "0c552e1a-7bcc-45e3-a4ca-c328ba5b724b",
   "metadata": {},
   "outputs": [],
   "source": []
  },
  {
   "cell_type": "markdown",
   "id": "ebcea404-8f69-461c-b692-e129bb718b01",
   "metadata": {},
   "source": [
    "# 11.0 Deployment"
   ]
  },
  {
   "cell_type": "code",
   "execution_count": 125,
   "id": "579367b0",
   "metadata": {},
   "outputs": [
    {
     "data": {
      "text/plain": [
       "customer_id        int64\n",
       "monetary         float64\n",
       "recency          float64\n",
       "frequency        float64\n",
       "qtde_products    float64\n",
       "qtde_returns     float64\n",
       "cluster            int64\n",
       "dtype: object"
      ]
     },
     "execution_count": 125,
     "metadata": {},
     "output_type": "execute_result"
    }
   ],
   "source": [
    "df94.dtypes"
   ]
  },
  {
   "cell_type": "markdown",
   "id": "fe2dc1e1-2529-4a7b-acc3-a7c383d91a47",
   "metadata": {},
   "source": [
    "## 11.1 Insert into SQLite"
   ]
  },
  {
   "cell_type": "code",
   "execution_count": 149,
   "id": "d0f5dcff-f051-453c-9fed-a488e8fc9867",
   "metadata": {},
   "outputs": [],
   "source": [
    "import sqlite3\n",
    "from sqlalchemy import create_engine"
   ]
  },
  {
   "cell_type": "code",
   "execution_count": 126,
   "id": "3765621e-1399-4a0c-9c5c-e73150a622b1",
   "metadata": {},
   "outputs": [],
   "source": [
    "df94['recency'] = df94['recency'].astype(int)\n",
    "df94['qtde_products'] = df94['qtde_products'].astype(int)\n",
    "df94['qtde_returns'] = df94['qtde_returns'].astype(int)"
   ]
  },
  {
   "cell_type": "code",
   "execution_count": 150,
   "id": "b87e2b5b-a50d-4308-b094-a851f3ab2f9e",
   "metadata": {},
   "outputs": [
    {
     "data": {
      "text/plain": [
       "5695"
      ]
     },
     "execution_count": 150,
     "metadata": {},
     "output_type": "execute_result"
    }
   ],
   "source": [
    "# Create table\n",
    "query_delete_if_exists = \"\"\"\n",
    "    DROP TABLE IF EXISTS insiders\n",
    "    \"\"\"\n",
    "\n",
    "query_create_table_insiders = \"\"\"\n",
    "    CREATE TABLE insiders (\n",
    "    customer_id INTEGER,\n",
    "    monetary REAL,\n",
    "    recency INTEGER,\n",
    "    frequency REAL,\n",
    "    qtde_products INTEGER,\n",
    "    qtde_returns INTEGER,\n",
    "    cluster INTEGER\n",
    "    )\n",
    "\"\"\"\n",
    "\n",
    "conn = sqlite3.connect(\"insiders_db.sqlite\")\n",
    "conn.execute(query_delete_if_exists)\n",
    "conn.execute(query_create_table_insiders)\n",
    "conn.commit()\n",
    "conn.close()\n",
    "\n",
    "# Insert Data\n",
    "conn = create_engine(\"sqlite:///insiders_db.sqlite\")\n",
    "df94.to_sql('insiders', con=conn, if_exists='append', index=False)\n",
    "\n",
    "# Select Data"
   ]
  },
  {
   "cell_type": "code",
   "execution_count": 151,
   "id": "f0dbac8e-3439-41dc-b41d-a8326395f9ab",
   "metadata": {},
   "outputs": [],
   "source": [
    "# Consulting Data\n",
    "query = \"\"\"\n",
    "    SELECT * FROM insiders\n",
    "\n",
    "\"\"\"\n",
    "\n",
    "df = pd.read_sql_query(query, conn)"
   ]
  },
  {
   "cell_type": "code",
   "execution_count": 153,
   "id": "2e6bc165-989b-46cf-aec1-fa007f8c0710",
   "metadata": {},
   "outputs": [
    {
     "data": {
      "text/html": [
       "<div>\n",
       "<style scoped>\n",
       "    .dataframe tbody tr th:only-of-type {\n",
       "        vertical-align: middle;\n",
       "    }\n",
       "\n",
       "    .dataframe tbody tr th {\n",
       "        vertical-align: top;\n",
       "    }\n",
       "\n",
       "    .dataframe thead th {\n",
       "        text-align: right;\n",
       "    }\n",
       "</style>\n",
       "<table border=\"1\" class=\"dataframe\">\n",
       "  <thead>\n",
       "    <tr style=\"text-align: right;\">\n",
       "      <th></th>\n",
       "      <th>customer_id</th>\n",
       "      <th>monetary</th>\n",
       "      <th>recency</th>\n",
       "      <th>frequency</th>\n",
       "      <th>qtde_products</th>\n",
       "      <th>qtde_returns</th>\n",
       "      <th>cluster</th>\n",
       "    </tr>\n",
       "  </thead>\n",
       "  <tbody>\n",
       "    <tr>\n",
       "      <th>0</th>\n",
       "      <td>17850</td>\n",
       "      <td>5,391.21</td>\n",
       "      <td>372</td>\n",
       "      <td>17.00</td>\n",
       "      <td>297</td>\n",
       "      <td>40</td>\n",
       "      <td>2</td>\n",
       "    </tr>\n",
       "    <tr>\n",
       "      <th>1</th>\n",
       "      <td>13047</td>\n",
       "      <td>3,232.59</td>\n",
       "      <td>56</td>\n",
       "      <td>0.03</td>\n",
       "      <td>171</td>\n",
       "      <td>35</td>\n",
       "      <td>2</td>\n",
       "    </tr>\n",
       "    <tr>\n",
       "      <th>2</th>\n",
       "      <td>12583</td>\n",
       "      <td>6,705.38</td>\n",
       "      <td>2</td>\n",
       "      <td>0.04</td>\n",
       "      <td>232</td>\n",
       "      <td>50</td>\n",
       "      <td>2</td>\n",
       "    </tr>\n",
       "    <tr>\n",
       "      <th>3</th>\n",
       "      <td>13748</td>\n",
       "      <td>948.25</td>\n",
       "      <td>95</td>\n",
       "      <td>0.02</td>\n",
       "      <td>28</td>\n",
       "      <td>0</td>\n",
       "      <td>3</td>\n",
       "    </tr>\n",
       "    <tr>\n",
       "      <th>4</th>\n",
       "      <td>15100</td>\n",
       "      <td>876.00</td>\n",
       "      <td>333</td>\n",
       "      <td>0.07</td>\n",
       "      <td>3</td>\n",
       "      <td>22</td>\n",
       "      <td>4</td>\n",
       "    </tr>\n",
       "  </tbody>\n",
       "</table>\n",
       "</div>"
      ],
      "text/plain": [
       "   customer_id  monetary  recency  frequency  qtde_products  qtde_returns  \\\n",
       "0        17850  5,391.21      372      17.00            297            40   \n",
       "1        13047  3,232.59       56       0.03            171            35   \n",
       "2        12583  6,705.38        2       0.04            232            50   \n",
       "3        13748    948.25       95       0.02             28             0   \n",
       "4        15100    876.00      333       0.07              3            22   \n",
       "\n",
       "   cluster  \n",
       "0        2  \n",
       "1        2  \n",
       "2        2  \n",
       "3        3  \n",
       "4        4  "
      ]
     },
     "execution_count": 153,
     "metadata": {},
     "output_type": "execute_result"
    }
   ],
   "source": [
    "df.head()"
   ]
  },
  {
   "cell_type": "code",
   "execution_count": 155,
   "id": "5a21cd8b-de83-473d-a239-cafe92ce7841",
   "metadata": {},
   "outputs": [
    {
     "data": {
      "text/plain": [
       "(5695, 7)"
      ]
     },
     "execution_count": 155,
     "metadata": {},
     "output_type": "execute_result"
    }
   ],
   "source": [
    "df.shape"
   ]
  },
  {
   "cell_type": "code",
   "execution_count": null,
   "id": "4ab6dfcb-4197-4654-8102-ef30bb82df60",
   "metadata": {},
   "outputs": [],
   "source": []
  },
  {
   "cell_type": "markdown",
   "id": "1bd6aa69",
   "metadata": {
    "tags": []
   },
   "source": [
    "# 12.0 SandBox"
   ]
  },
  {
   "cell_type": "markdown",
   "id": "4122512a",
   "metadata": {
    "heading_collapsed": true,
    "tags": []
   },
   "source": [
    "## 12.1. Original Dataset"
   ]
  },
  {
   "cell_type": "markdown",
   "id": "01c94a01",
   "metadata": {
    "heading_collapsed": true,
    "tags": []
   },
   "source": [
    "## 12.2. Silhouette Analysis"
   ]
  },
  {
   "cell_type": "code",
   "execution_count": null,
   "id": "f071fa4c",
   "metadata": {
    "hidden": true
   },
   "outputs": [],
   "source": []
  }
 ],
 "metadata": {
  "kernelspec": {
   "display_name": "Python 3 (ipykernel)",
   "language": "python",
   "name": "python3"
  },
  "language_info": {
   "codemirror_mode": {
    "name": "ipython",
    "version": 3
   },
   "file_extension": ".py",
   "mimetype": "text/x-python",
   "name": "python",
   "nbconvert_exporter": "python",
   "pygments_lexer": "ipython3",
   "version": "3.10.5"
  },
  "toc-showmarkdowntxt": false
 },
 "nbformat": 4,
 "nbformat_minor": 5
}
