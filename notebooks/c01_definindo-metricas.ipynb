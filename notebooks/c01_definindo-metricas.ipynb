{
 "cells": [
  {
   "cell_type": "markdown",
   "id": "5629a549",
   "metadata": {},
   "source": [
    "# All Mart - High Value Customer Identification"
   ]
  },
  {
   "cell_type": "markdown",
   "id": "2eee5865",
   "metadata": {},
   "source": [
    "# 0.0 Planejamento da Solução (IOT)"
   ]
  },
  {
   "cell_type": "markdown",
   "id": "91126c0e",
   "metadata": {},
   "source": [
    "## Input - Entrada"
   ]
  },
  {
   "cell_type": "markdown",
   "id": "259ebc62",
   "metadata": {},
   "source": [
    "1. Problema de Negócio\n",
    "    - Selecionar os clientes mais valiosos para integrar um programa de Fidelização\n",
    "2. Conjunto de dados\n",
    "     - Vendas de um e-commerce online, durante o período de um ano."
   ]
  },
  {
   "cell_type": "markdown",
   "id": "979f0809",
   "metadata": {},
   "source": [
    "## Output - Saída"
   ]
  },
  {
   "cell_type": "markdown",
   "id": "91194b20",
   "metadata": {},
   "source": [
    "1. A indicação das pessoas que farão parte do programa de _insiders_\n",
    "    - Lista: cliente_id | is_insider | \n",
    "    \n",
    "\n",
    "2. Relatório com as respostas das perguntas de negócio:\n",
    "    - Quem são as pessoas elegíveis para participar do programa insiders?\n",
    "    - Quantos clientes farõa parte do grupo?\n",
    "    - Quais as principais características desses clientes?\n",
    "    - Qual a porcentagem de contribuição do faturamento, vinda do programa?\n",
    "    - Qual a expectativa de faturamento (LTV) desse grupo para os próximos meses?\n",
    "    - Quais as condições para uma pessoa ser elegível aos insiders?\n",
    "    - Quais as condições para um apessoa ser removida dos insiders?\n",
    "    - Qual a garantia que o programa _insiders_ é melhor que o restante da base?\n",
    "    - Quais ações o time de marketing pode realizar para aumentar o faturamento?"
   ]
  },
  {
   "cell_type": "markdown",
   "id": "c795870c",
   "metadata": {},
   "source": [
    "## Task - Tarefas"
   ]
  },
  {
   "cell_type": "markdown",
   "id": "a3b86efb",
   "metadata": {},
   "source": [
    "1. Quem são as pessoas elegíveis para participar do programa insiders?\n",
    "    - O que é ser elegível? O que são clientes ed maior \"valor\"?\n",
    "    - Faturamento:\n",
    "        - Alto Ticket médio\n",
    "        - Alto LTV (LifeTime Value)\n",
    "        - Baixa Recência\n",
    "        - Alto \"Basket Size\" (cesta de compra)\n",
    "        - Baixa probabilidade de Churn\n",
    "        - Alta Previsão de LTV \n",
    "        - Alta propensão de compra\n",
    "        \n",
    "    - Custo:\n",
    "        - Baixa taxa de devolução\n",
    "\n",
    "    - Experiência de compra:\n",
    "        - Alta média de avaliações\n",
    "    \n",
    "2. Quantos clientes farõa parte do grupo?\n",
    "    - Número total de clientes\n",
    "    - % do grupo _Insiders_\n",
    "3. Quais as principais características desses clientes?\n",
    "    - Idade\n",
    "    - Localização\n",
    "    \n",
    "4. Qual a porcentagem de contribuição do faturamento, vinda do programa?\n",
    "    - Faturamento total do ano\n",
    "    - Faturamento do grupo _Insiders_\n",
    "    \n",
    "5. Qual a expectativa de faturamento (LTV) desse grupo para os próximos meses?\n",
    "    - LTV do grupo _Insiders_\n",
    "    - Análise de Cohort\n",
    "    \n",
    "6. Quais as condições para uma pessoa ser elegível aos insiders?\n",
    "    - Definir a periodicidade (1 mês, 3 meses)\n",
    "    - A pessoa precisa ser similar ou parecido com uma pessoa grupo\n",
    "    \n",
    "7. Quais as condições para um apessoa ser removida dos insiders?\n",
    "    - Definir a periodicidade (1 mês, 3 meses)\n",
    "    - A pessoa precisa ser similar ou parecido com uma pessoa grupo\n",
    "\n",
    "8. Qual a garantia que o programa _insiders_ é melhor que o restante da base?\n",
    "    - Teste de hipóteses\n",
    "    - Teste A/B bayesiano\n",
    "    \n",
    "9. Quais ações o time de marketing pode realizar para aumentar o faturamento?\n",
    "    - Desconto\n",
    "    - Preferência de compra\n",
    "    - Produtos exclusivos"
   ]
  },
  {
   "cell_type": "markdown",
   "id": "0d39f989",
   "metadata": {},
   "source": [
    "# 0.0 Imports"
   ]
  },
  {
   "cell_type": "code",
   "execution_count": 9,
   "id": "24ed7ce2",
   "metadata": {
    "ExecuteTime": {
     "end_time": "2023-01-10T22:23:08.560067Z",
     "start_time": "2023-01-10T22:23:08.557561Z"
    }
   },
   "outputs": [],
   "source": [
    "import pandas as pd\n",
    "import numpy as np\n",
    "import matplotlib.pyplot as plt\n",
    "import seaborn as sns\n",
    "\n",
    "from IPython.display import HTML"
   ]
  },
  {
   "cell_type": "markdown",
   "id": "0b1387c5",
   "metadata": {},
   "source": [
    "## 0.1 Helper Functions"
   ]
  },
  {
   "cell_type": "code",
   "execution_count": 10,
   "id": "86d061f6",
   "metadata": {
    "ExecuteTime": {
     "end_time": "2023-01-10T22:23:09.134297Z",
     "start_time": "2023-01-10T22:23:09.127631Z"
    }
   },
   "outputs": [
    {
     "data": {
      "text/html": [
       "<style>.conteiner{width:100% !important;}</style>"
      ],
      "text/plain": [
       "<IPython.core.display.HTML object>"
      ]
     },
     "metadata": {},
     "output_type": "display_data"
    }
   ],
   "source": [
    "def jupyter_settings():\n",
    "    %matplotlib inline\n",
    "\n",
    "    plt.rcParams['figure.figsize'] = [12, 6]\n",
    "    plt.rcParams['font.size'] = 15\n",
    "\n",
    "    display(HTML('<style>.conteiner{width:100% !important;}</style>'))\n",
    "\n",
    "    pd.options.display.max_columns = None\n",
    "    pd.options.display.max_rows = None\n",
    "    pd.set_option('display.expand_frame_repr', False)\n",
    "    # configura o pandas para quantidade de casas decimais\n",
    "    pd.set_option('display.float_format', lambda x: '%.5f' % x)\n",
    "\n",
    "    color_pal = sns.color_palette()\n",
    "    plt.style.use('ggplot')\n",
    "    color_pal = sns.color_palette()\n",
    "    sns.set()\n",
    "jupyter_settings()"
   ]
  },
  {
   "cell_type": "markdown",
   "id": "95afb17d",
   "metadata": {},
   "source": [
    "## 0.2 CFG"
   ]
  },
  {
   "cell_type": "code",
   "execution_count": null,
   "id": "f3ac660a",
   "metadata": {},
   "outputs": [],
   "source": []
  },
  {
   "cell_type": "markdown",
   "id": "429de105",
   "metadata": {},
   "source": [
    "## 1.0 Data Reading"
   ]
  },
  {
   "cell_type": "markdown",
   "id": "5e57dc6c",
   "metadata": {},
   "source": [
    "## Data Loading"
   ]
  },
  {
   "cell_type": "code",
   "execution_count": null,
   "id": "665331de",
   "metadata": {},
   "outputs": [],
   "source": [
    "df1 = pd.read_csv('../data/01_raw/ecommerce.csv')\n",
    "df1.drop(columns=['Unnamed: 8'], axis=1, inplace=True)\n",
    "df1.head()"
   ]
  },
  {
   "cell_type": "markdown",
   "id": "063373e0",
   "metadata": {},
   "source": [
    "## Data Dimensions"
   ]
  },
  {
   "cell_type": "code",
   "execution_count": null,
   "id": "f2f680cf",
   "metadata": {},
   "outputs": [],
   "source": [
    "print(f'Number of rows: {df1.shape[0]}')\n",
    "print(f'Number of columns: {df1.shape[1]}')"
   ]
  },
  {
   "cell_type": "markdown",
   "id": "f37c55eb",
   "metadata": {},
   "source": [
    "## Data Dtypes"
   ]
  },
  {
   "cell_type": "code",
   "execution_count": null,
   "id": "7bb12726",
   "metadata": {},
   "outputs": [],
   "source": [
    "df1.dtypes"
   ]
  },
  {
   "cell_type": "markdown",
   "id": "6efcc785",
   "metadata": {},
   "source": [
    "## Checking NA"
   ]
  },
  {
   "cell_type": "code",
   "execution_count": null,
   "id": "08a2c572",
   "metadata": {},
   "outputs": [],
   "source": []
  },
  {
   "cell_type": "markdown",
   "id": "89123d67",
   "metadata": {},
   "source": [
    "## Checking Duplicates"
   ]
  },
  {
   "cell_type": "markdown",
   "id": "68903286",
   "metadata": {},
   "source": [
    "## 2.0 Data Wrangling"
   ]
  },
  {
   "cell_type": "code",
   "execution_count": null,
   "id": "7c5f2aad",
   "metadata": {},
   "outputs": [],
   "source": [
    "df2 = df1.copy()"
   ]
  },
  {
   "cell_type": "markdown",
   "id": "eeadf0c2",
   "metadata": {},
   "source": [
    "## 2.1 Rename Columns"
   ]
  },
  {
   "cell_type": "code",
   "execution_count": null,
   "id": "cedefc51",
   "metadata": {},
   "outputs": [],
   "source": [
    "cols_new = ['invoice_no', 'stock_code', 'description', 'quantity', 'invoice_date', 'unit_price', 'customer_id', 'country']\n",
    "df_raw.columns = cols_new"
   ]
  },
  {
   "cell_type": "markdown",
   "id": "e576e208",
   "metadata": {},
   "source": [
    "## 2.2 Replacing NAs"
   ]
  },
  {
   "cell_type": "markdown",
   "id": "a12d0ff3",
   "metadata": {},
   "source": [
    "## 2.3 Changing Dtypes"
   ]
  },
  {
   "cell_type": "code",
   "execution_count": null,
   "id": "f6d46868",
   "metadata": {},
   "outputs": [],
   "source": []
  },
  {
   "cell_type": "code",
   "execution_count": null,
   "id": "ea77b61d",
   "metadata": {},
   "outputs": [],
   "source": []
  },
  {
   "cell_type": "markdown",
   "id": "263bc15d",
   "metadata": {},
   "source": [
    "## 3.0 EDA (Exploratory Data Analysis)"
   ]
  },
  {
   "cell_type": "code",
   "execution_count": null,
   "id": "738cf939",
   "metadata": {},
   "outputs": [],
   "source": []
  },
  {
   "cell_type": "code",
   "execution_count": null,
   "id": "2ddca211",
   "metadata": {},
   "outputs": [],
   "source": []
  },
  {
   "cell_type": "markdown",
   "id": "b3dc16c5",
   "metadata": {},
   "source": [
    "## 4.0 Feature Engineering"
   ]
  },
  {
   "cell_type": "code",
   "execution_count": null,
   "id": "13daa5c5",
   "metadata": {},
   "outputs": [],
   "source": []
  },
  {
   "cell_type": "code",
   "execution_count": null,
   "id": "f560f01a",
   "metadata": {},
   "outputs": [],
   "source": []
  },
  {
   "cell_type": "markdown",
   "id": "e59fb72b",
   "metadata": {},
   "source": [
    "## 5.0 Data Preparation"
   ]
  },
  {
   "cell_type": "code",
   "execution_count": null,
   "id": "ed6bdf6c",
   "metadata": {},
   "outputs": [],
   "source": []
  },
  {
   "cell_type": "code",
   "execution_count": null,
   "id": "8d23b5f7",
   "metadata": {},
   "outputs": [],
   "source": []
  },
  {
   "cell_type": "markdown",
   "id": "2bd050fb",
   "metadata": {},
   "source": [
    "## 6.0 Feature Selection"
   ]
  },
  {
   "cell_type": "code",
   "execution_count": null,
   "id": "3573cf8f",
   "metadata": {},
   "outputs": [],
   "source": []
  },
  {
   "cell_type": "markdown",
   "id": "daa81c42",
   "metadata": {},
   "source": [
    "## 7.0 Hyperparameter Fine-tuning"
   ]
  },
  {
   "cell_type": "code",
   "execution_count": null,
   "id": "4d54e158",
   "metadata": {},
   "outputs": [],
   "source": []
  },
  {
   "cell_type": "markdown",
   "id": "a8c8d410",
   "metadata": {},
   "source": [
    "## 8.0 Model Training"
   ]
  },
  {
   "cell_type": "code",
   "execution_count": null,
   "id": "1e277a7b",
   "metadata": {},
   "outputs": [],
   "source": []
  },
  {
   "cell_type": "code",
   "execution_count": null,
   "id": "85bbacce",
   "metadata": {},
   "outputs": [],
   "source": []
  },
  {
   "cell_type": "markdown",
   "id": "35a72350",
   "metadata": {},
   "source": [
    "## 9.0 Cluster Analysis"
   ]
  },
  {
   "cell_type": "code",
   "execution_count": null,
   "id": "7f730662",
   "metadata": {},
   "outputs": [],
   "source": []
  },
  {
   "cell_type": "markdown",
   "id": "ce70f1ae",
   "metadata": {},
   "source": [
    "## 10.0 Deployment"
   ]
  },
  {
   "cell_type": "code",
   "execution_count": null,
   "id": "85c32124",
   "metadata": {},
   "outputs": [],
   "source": []
  },
  {
   "cell_type": "code",
   "execution_count": null,
   "id": "579367b0",
   "metadata": {},
   "outputs": [],
   "source": []
  }
 ],
 "metadata": {
  "kernelspec": {
   "display_name": "Python 3 (ipykernel)",
   "language": "python",
   "name": "python3"
  },
  "language_info": {
   "codemirror_mode": {
    "name": "ipython",
    "version": 3
   },
   "file_extension": ".py",
   "mimetype": "text/x-python",
   "name": "python",
   "nbconvert_exporter": "python",
   "pygments_lexer": "ipython3",
   "version": "3.8.10"
  }
 },
 "nbformat": 4,
 "nbformat_minor": 5
}
