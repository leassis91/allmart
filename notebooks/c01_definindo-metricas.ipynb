{
 "cells": [
  {
   "cell_type": "markdown",
   "id": "5629a549",
   "metadata": {
    "heading_collapsed": true
   },
   "source": [
    "# All Mart - High Value Customer Identification\n",
    "\n",
    "Identificação de clientes mais valiosos de uma empresa e projecção de um programa de fidelidade para os mesmos."
   ]
  },
  {
   "cell_type": "markdown",
   "id": "2eee5865",
   "metadata": {
    "heading_collapsed": true
   },
   "source": [
    "# Planejamento da Solução (IOT)"
   ]
  },
  {
   "cell_type": "markdown",
   "id": "91126c0e",
   "metadata": {
    "hidden": true
   },
   "source": [
    "## Input - Entrada"
   ]
  },
  {
   "cell_type": "markdown",
   "id": "259ebc62",
   "metadata": {
    "hidden": true
   },
   "source": [
    "1. Problema de Negócio\n",
    "    - Selecionar os clientes mais valiosos para integrar um programa de Fidelização\n",
    "2. Conjunto de dados\n",
    "     - Vendas de um e-commerce online, durante o período de um ano."
   ]
  },
  {
   "cell_type": "markdown",
   "id": "979f0809",
   "metadata": {
    "hidden": true
   },
   "source": [
    "## Output - Saída"
   ]
  },
  {
   "cell_type": "markdown",
   "id": "91194b20",
   "metadata": {
    "hidden": true
   },
   "source": [
    "1. A indicação das pessoas que farão parte do programa de _insiders_\n",
    "    - Lista: cliente_id | is_insider | \n",
    "    \n",
    "\n",
    "2. Relatório com as respostas das perguntas de negócio:\n",
    "    - Quem são as pessoas elegíveis para participar do programa insiders?\n",
    "    - Quantos clientes farõa parte do grupo?\n",
    "    - Quais as principais características desses clientes?\n",
    "    - Qual a porcentagem de contribuição do faturamento, vinda do programa?\n",
    "    - Qual a expectativa de faturamento (LTV) desse grupo para os próximos meses?\n",
    "    - Quais as condições para uma pessoa ser elegível aos insiders?\n",
    "    - Quais as condições para um apessoa ser removida dos insiders?\n",
    "    - Qual a garantia que o programa _insiders_ é melhor que o restante da base?\n",
    "    - Quais ações o time de marketing pode realizar para aumentar o faturamento?"
   ]
  },
  {
   "cell_type": "markdown",
   "id": "c795870c",
   "metadata": {
    "heading_collapsed": true,
    "hidden": true
   },
   "source": [
    "## Task - Tarefas"
   ]
  },
  {
   "cell_type": "markdown",
   "id": "a3b86efb",
   "metadata": {
    "hidden": true
   },
   "source": [
    "1. Quem são as pessoas elegíveis para participar do programa insiders?\n",
    "    - O que é ser elegível? O que são clientes ed maior \"valor\"?\n",
    "    - Faturamento:\n",
    "        - Alto Ticket médio\n",
    "        - Alto LTV (LifeTime Value)\n",
    "        - Baixa Recência\n",
    "        - Alto \"Basket Size\" (cesta de compra)\n",
    "        - Baixa probabilidade de Churn\n",
    "        - Alta Previsão de LTV \n",
    "        - Alta propensão de compra\n",
    "        \n",
    "    - Custo:\n",
    "        - Baixa taxa de devolução\n",
    "\n",
    "    - Experiência de compra:\n",
    "        - Alta média de avaliações\n",
    "    \n",
    "2. Quantos clientes farõa parte do grupo?\n",
    "    - Número total de clientes\n",
    "    - % do grupo _Insiders_\n",
    "3. Quais as principais características desses clientes?\n",
    "    - Idade\n",
    "    - Localização\n",
    "    \n",
    "4. Qual a porcentagem de contribuição do faturamento, vinda do programa?\n",
    "    - Faturamento total do ano\n",
    "    - Faturamento do grupo _Insiders_\n",
    "    \n",
    "5. Qual a expectativa de faturamento (LTV) desse grupo para os próximos meses?\n",
    "    - LTV do grupo _Insiders_\n",
    "    - Análise de Cohort\n",
    "    \n",
    "6. Quais as condições para uma pessoa ser elegível aos insiders?\n",
    "    - Definir a periodicidade (1 mês, 3 meses)\n",
    "    - A pessoa precisa ser similar ou parecido com uma pessoa grupo\n",
    "    \n",
    "7. Quais as condições para um apessoa ser removida dos insiders?\n",
    "    - Definir a periodicidade (1 mês, 3 meses)\n",
    "    - A pessoa precisa ser similar ou parecido com uma pessoa grupo\n",
    "\n",
    "8. Qual a garantia que o programa _insiders_ é melhor que o restante da base?\n",
    "    - Teste de hipóteses\n",
    "    - Teste A/B bayesiano\n",
    "    \n",
    "9. Quais ações o time de marketing pode realizar para aumentar o faturamento?\n",
    "    - Desconto\n",
    "    - Preferência de compra\n",
    "    - Produtos exclusivos"
   ]
  },
  {
   "cell_type": "markdown",
   "id": "0d39f989",
   "metadata": {
    "heading_collapsed": true
   },
   "source": [
    "# 0.0 Imports"
   ]
  },
  {
   "cell_type": "code",
   "execution_count": 1,
   "id": "24ed7ce2",
   "metadata": {
    "ExecuteTime": {
     "end_time": "2023-01-19T17:26:56.479871Z",
     "start_time": "2023-01-19T17:26:55.468193Z"
    },
    "hidden": true
   },
   "outputs": [],
   "source": [
    "import pandas as pd\n",
    "import numpy as np\n",
    "import matplotlib.pyplot as plt\n",
    "import seaborn as sns\n",
    "\n",
    "import random, os\n",
    "\n",
    "from IPython.display import HTML\n",
    "\n",
    "\n",
    "\n",
    "from sklearn.cluster import KMeans\n",
    "# Visualização de clusters\n",
    "from yellowbrick.cluster import KElbowVisualizer\n",
    "\n",
    "\n",
    "\n",
    "import warnings\n",
    "warnings.filterwarnings('ignore')"
   ]
  },
  {
   "cell_type": "markdown",
   "id": "0b1387c5",
   "metadata": {
    "hidden": true
   },
   "source": [
    "## 0.1 Helper Functions"
   ]
  },
  {
   "cell_type": "code",
   "execution_count": 2,
   "id": "86d061f6",
   "metadata": {
    "ExecuteTime": {
     "end_time": "2023-01-19T17:26:56.491728Z",
     "start_time": "2023-01-19T17:26:56.481484Z"
    },
    "hidden": true
   },
   "outputs": [
    {
     "data": {
      "text/html": [
       "<style>.conteiner{width:100% !important;}</style>"
      ],
      "text/plain": [
       "<IPython.core.display.HTML object>"
      ]
     },
     "metadata": {},
     "output_type": "display_data"
    }
   ],
   "source": [
    "def jupyter_settings():\n",
    "    %matplotlib inline\n",
    "\n",
    "    plt.rcParams['figure.figsize'] = [12, 6]\n",
    "    plt.rcParams['font.size'] = 15\n",
    "\n",
    "    display(HTML('<style>.conteiner{width:100% !important;}</style>'))\n",
    "\n",
    "    pd.options.display.max_columns = None\n",
    "    pd.options.display.max_rows = None\n",
    "    pd.set_option('display.expand_frame_repr', False)\n",
    "    # configura o pandas para quantidade de casas decimais\n",
    "    pd.set_option('display.float_format', lambda x: '%.2f' % x)\n",
    "\n",
    "    color_pal = sns.color_palette()\n",
    "    plt.style.use('ggplot')\n",
    "    color_pal = sns.color_palette()\n",
    "    sns.set()\n",
    "jupyter_settings()"
   ]
  },
  {
   "cell_type": "markdown",
   "id": "95afb17d",
   "metadata": {
    "hidden": true
   },
   "source": [
    "## 0.2 CFG"
   ]
  },
  {
   "cell_type": "code",
   "execution_count": 3,
   "id": "f3ac660a",
   "metadata": {
    "ExecuteTime": {
     "end_time": "2023-01-19T17:26:56.496862Z",
     "start_time": "2023-01-19T17:26:56.493906Z"
    },
    "code_folding": [],
    "hidden": true
   },
   "outputs": [],
   "source": [
    "class CFG:\n",
    "    FOLDS = 5\n",
    "    seed = 10\n",
    "    TARGET = ''\n",
    "def seed_everything(seed):\n",
    "    random.seed(seed)\n",
    "    os.environ['PYTHONHASHSEED'] = str(seed)\n",
    "    np.random.seed(seed)\n",
    "\n",
    "seed_everything(seed = CFG.seed)"
   ]
  },
  {
   "cell_type": "markdown",
   "id": "429de105",
   "metadata": {
    "heading_collapsed": true
   },
   "source": [
    "# 1.0 Data Reading"
   ]
  },
  {
   "cell_type": "markdown",
   "id": "5e57dc6c",
   "metadata": {
    "hidden": true
   },
   "source": [
    "## 1.1 Data Loading"
   ]
  },
  {
   "cell_type": "code",
   "execution_count": 4,
   "id": "665331de",
   "metadata": {
    "ExecuteTime": {
     "end_time": "2023-01-19T17:26:56.885174Z",
     "start_time": "2023-01-19T17:26:56.498800Z"
    },
    "hidden": true
   },
   "outputs": [
    {
     "data": {
      "text/html": [
       "<div>\n",
       "<style scoped>\n",
       "    .dataframe tbody tr th:only-of-type {\n",
       "        vertical-align: middle;\n",
       "    }\n",
       "\n",
       "    .dataframe tbody tr th {\n",
       "        vertical-align: top;\n",
       "    }\n",
       "\n",
       "    .dataframe thead th {\n",
       "        text-align: right;\n",
       "    }\n",
       "</style>\n",
       "<table border=\"1\" class=\"dataframe\">\n",
       "  <thead>\n",
       "    <tr style=\"text-align: right;\">\n",
       "      <th></th>\n",
       "      <th>InvoiceNo</th>\n",
       "      <th>StockCode</th>\n",
       "      <th>Description</th>\n",
       "      <th>Quantity</th>\n",
       "      <th>InvoiceDate</th>\n",
       "      <th>UnitPrice</th>\n",
       "      <th>CustomerID</th>\n",
       "      <th>Country</th>\n",
       "    </tr>\n",
       "  </thead>\n",
       "  <tbody>\n",
       "    <tr>\n",
       "      <th>0</th>\n",
       "      <td>536365</td>\n",
       "      <td>85123A</td>\n",
       "      <td>WHITE HANGING HEART T-LIGHT HOLDER</td>\n",
       "      <td>6</td>\n",
       "      <td>29-Nov-16</td>\n",
       "      <td>2.55</td>\n",
       "      <td>17850.00</td>\n",
       "      <td>United Kingdom</td>\n",
       "    </tr>\n",
       "    <tr>\n",
       "      <th>1</th>\n",
       "      <td>536365</td>\n",
       "      <td>71053</td>\n",
       "      <td>WHITE METAL LANTERN</td>\n",
       "      <td>6</td>\n",
       "      <td>29-Nov-16</td>\n",
       "      <td>3.39</td>\n",
       "      <td>17850.00</td>\n",
       "      <td>United Kingdom</td>\n",
       "    </tr>\n",
       "    <tr>\n",
       "      <th>2</th>\n",
       "      <td>536365</td>\n",
       "      <td>84406B</td>\n",
       "      <td>CREAM CUPID HEARTS COAT HANGER</td>\n",
       "      <td>8</td>\n",
       "      <td>29-Nov-16</td>\n",
       "      <td>2.75</td>\n",
       "      <td>17850.00</td>\n",
       "      <td>United Kingdom</td>\n",
       "    </tr>\n",
       "    <tr>\n",
       "      <th>3</th>\n",
       "      <td>536365</td>\n",
       "      <td>84029G</td>\n",
       "      <td>KNITTED UNION FLAG HOT WATER BOTTLE</td>\n",
       "      <td>6</td>\n",
       "      <td>29-Nov-16</td>\n",
       "      <td>3.39</td>\n",
       "      <td>17850.00</td>\n",
       "      <td>United Kingdom</td>\n",
       "    </tr>\n",
       "    <tr>\n",
       "      <th>4</th>\n",
       "      <td>536365</td>\n",
       "      <td>84029E</td>\n",
       "      <td>RED WOOLLY HOTTIE WHITE HEART.</td>\n",
       "      <td>6</td>\n",
       "      <td>29-Nov-16</td>\n",
       "      <td>3.39</td>\n",
       "      <td>17850.00</td>\n",
       "      <td>United Kingdom</td>\n",
       "    </tr>\n",
       "  </tbody>\n",
       "</table>\n",
       "</div>"
      ],
      "text/plain": [
       "  InvoiceNo StockCode                          Description  Quantity InvoiceDate  UnitPrice  CustomerID         Country\n",
       "0    536365    85123A   WHITE HANGING HEART T-LIGHT HOLDER         6   29-Nov-16       2.55    17850.00  United Kingdom\n",
       "1    536365     71053                  WHITE METAL LANTERN         6   29-Nov-16       3.39    17850.00  United Kingdom\n",
       "2    536365    84406B       CREAM CUPID HEARTS COAT HANGER         8   29-Nov-16       2.75    17850.00  United Kingdom\n",
       "3    536365    84029G  KNITTED UNION FLAG HOT WATER BOTTLE         6   29-Nov-16       3.39    17850.00  United Kingdom\n",
       "4    536365    84029E       RED WOOLLY HOTTIE WHITE HEART.         6   29-Nov-16       3.39    17850.00  United Kingdom"
      ]
     },
     "execution_count": 4,
     "metadata": {},
     "output_type": "execute_result"
    }
   ],
   "source": [
    "df1 = pd.read_csv('../data/01_raw/Ecommerce.csv', encoding='unicode_escape')\n",
    "df1.drop(columns=['Unnamed: 8'], axis=1, inplace=True)\n",
    "df1.head()"
   ]
  },
  {
   "cell_type": "markdown",
   "id": "063373e0",
   "metadata": {
    "hidden": true
   },
   "source": [
    "## 1.2 Data Dimensions"
   ]
  },
  {
   "cell_type": "code",
   "execution_count": 5,
   "id": "f2f680cf",
   "metadata": {
    "ExecuteTime": {
     "end_time": "2023-01-19T17:26:56.890042Z",
     "start_time": "2023-01-19T17:26:56.886930Z"
    },
    "hidden": true
   },
   "outputs": [
    {
     "name": "stdout",
     "output_type": "stream",
     "text": [
      "Number of rows: 541909\n",
      "Number of columns: 8\n"
     ]
    }
   ],
   "source": [
    "print(f'Number of rows: {df1.shape[0]}')\n",
    "print(f'Number of columns: {df1.shape[1]}')"
   ]
  },
  {
   "cell_type": "markdown",
   "id": "f37c55eb",
   "metadata": {
    "hidden": true
   },
   "source": [
    "## 1.3 Data Dtypes"
   ]
  },
  {
   "cell_type": "code",
   "execution_count": 6,
   "id": "7bb12726",
   "metadata": {
    "ExecuteTime": {
     "end_time": "2023-01-19T17:26:56.895934Z",
     "start_time": "2023-01-19T17:26:56.891732Z"
    },
    "hidden": true
   },
   "outputs": [
    {
     "data": {
      "text/plain": [
       "InvoiceNo       object\n",
       "StockCode       object\n",
       "Description     object\n",
       "Quantity         int64\n",
       "InvoiceDate     object\n",
       "UnitPrice      float64\n",
       "CustomerID     float64\n",
       "Country         object\n",
       "dtype: object"
      ]
     },
     "execution_count": 6,
     "metadata": {},
     "output_type": "execute_result"
    }
   ],
   "source": [
    "df1.dtypes"
   ]
  },
  {
   "cell_type": "markdown",
   "id": "6efcc785",
   "metadata": {
    "hidden": true
   },
   "source": [
    "## 1.4 Checking NA"
   ]
  },
  {
   "cell_type": "code",
   "execution_count": 7,
   "id": "08a2c572",
   "metadata": {
    "ExecuteTime": {
     "end_time": "2023-01-19T17:26:57.105861Z",
     "start_time": "2023-01-19T17:26:56.898074Z"
    },
    "hidden": true
   },
   "outputs": [
    {
     "data": {
      "text/plain": [
       "InvoiceNo           0\n",
       "StockCode           0\n",
       "Description      1454\n",
       "Quantity            0\n",
       "InvoiceDate         0\n",
       "UnitPrice           0\n",
       "CustomerID     135080\n",
       "Country             0\n",
       "dtype: int64"
      ]
     },
     "execution_count": 7,
     "metadata": {},
     "output_type": "execute_result"
    }
   ],
   "source": [
    "df1.isna().sum()"
   ]
  },
  {
   "cell_type": "markdown",
   "id": "68903286",
   "metadata": {
    "heading_collapsed": true
   },
   "source": [
    "# 2.0 Data Wrangling"
   ]
  },
  {
   "cell_type": "code",
   "execution_count": 8,
   "id": "7c5f2aad",
   "metadata": {
    "ExecuteTime": {
     "end_time": "2023-01-19T17:26:57.119264Z",
     "start_time": "2023-01-19T17:26:57.107527Z"
    },
    "hidden": true
   },
   "outputs": [],
   "source": [
    "df2 = df1.copy()"
   ]
  },
  {
   "cell_type": "markdown",
   "id": "eeadf0c2",
   "metadata": {
    "hidden": true
   },
   "source": [
    "## 2.1 Rename Columns"
   ]
  },
  {
   "cell_type": "code",
   "execution_count": 9,
   "id": "cedefc51",
   "metadata": {
    "ExecuteTime": {
     "end_time": "2023-01-19T17:26:57.125589Z",
     "start_time": "2023-01-19T17:26:57.122890Z"
    },
    "hidden": true
   },
   "outputs": [],
   "source": [
    "cols_new = ['invoice_no', 'stock_code', 'description', 'quantity', 'invoice_date', 'unit_price', 'customer_id', 'country']\n",
    "df2.columns = cols_new"
   ]
  },
  {
   "cell_type": "markdown",
   "id": "e576e208",
   "metadata": {
    "hidden": true
   },
   "source": [
    "## 2.2 Replacing NAs"
   ]
  },
  {
   "cell_type": "code",
   "execution_count": 10,
   "id": "e532ef49",
   "metadata": {
    "ExecuteTime": {
     "end_time": "2023-01-19T17:26:57.196040Z",
     "start_time": "2023-01-19T17:26:57.127579Z"
    },
    "hidden": true
   },
   "outputs": [
    {
     "name": "stdout",
     "output_type": "stream",
     "text": [
      "Removed data: 0.25\n"
     ]
    }
   ],
   "source": [
    "df2.dropna(subset=['description', 'customer_id'], inplace=True)\n",
    "print(f'Removed data: {1-(df2.shape[0]/df1.shape[0]):.2f}')"
   ]
  },
  {
   "cell_type": "code",
   "execution_count": 11,
   "id": "5c83b5fa",
   "metadata": {
    "ExecuteTime": {
     "end_time": "2023-01-19T17:26:57.352179Z",
     "start_time": "2023-01-19T17:26:57.197825Z"
    },
    "hidden": true
   },
   "outputs": [
    {
     "data": {
      "text/plain": [
       "invoice_no      0\n",
       "stock_code      0\n",
       "description     0\n",
       "quantity        0\n",
       "invoice_date    0\n",
       "unit_price      0\n",
       "customer_id     0\n",
       "country         0\n",
       "dtype: int64"
      ]
     },
     "execution_count": 11,
     "metadata": {},
     "output_type": "execute_result"
    }
   ],
   "source": [
    "df2.isna().sum()"
   ]
  },
  {
   "cell_type": "markdown",
   "id": "a12d0ff3",
   "metadata": {
    "hidden": true
   },
   "source": [
    "## 2.3 Changing Dtypes"
   ]
  },
  {
   "cell_type": "code",
   "execution_count": 12,
   "id": "f6d46868",
   "metadata": {
    "ExecuteTime": {
     "end_time": "2023-01-19T17:26:57.384649Z",
     "start_time": "2023-01-19T17:26:57.353996Z"
    },
    "hidden": true
   },
   "outputs": [],
   "source": [
    "# Invoice Date\n",
    "df2['invoice_date'] = pd.to_datetime(df2['invoice_date'], format='%d-%b-%y')\n",
    "\n",
    "# Customer ID\n",
    "df2['customer_id'] = df2['customer_id'].astype(int)"
   ]
  },
  {
   "cell_type": "code",
   "execution_count": 13,
   "id": "ea77b61d",
   "metadata": {
    "ExecuteTime": {
     "end_time": "2023-01-19T17:26:57.390172Z",
     "start_time": "2023-01-19T17:26:57.386278Z"
    },
    "hidden": true
   },
   "outputs": [
    {
     "data": {
      "text/plain": [
       "invoice_no              object\n",
       "stock_code              object\n",
       "description             object\n",
       "quantity                 int64\n",
       "invoice_date    datetime64[ns]\n",
       "unit_price             float64\n",
       "customer_id              int64\n",
       "country                 object\n",
       "dtype: object"
      ]
     },
     "execution_count": 13,
     "metadata": {},
     "output_type": "execute_result"
    }
   ],
   "source": [
    "df2.dtypes"
   ]
  },
  {
   "cell_type": "markdown",
   "id": "b3e4a523",
   "metadata": {
    "hidden": true
   },
   "source": [
    "## 2.4 Drop Duplicates"
   ]
  },
  {
   "cell_type": "code",
   "execution_count": 14,
   "id": "248831f6",
   "metadata": {
    "ExecuteTime": {
     "end_time": "2023-01-19T17:26:57.400426Z",
     "start_time": "2023-01-19T17:26:57.391999Z"
    },
    "hidden": true
   },
   "outputs": [
    {
     "data": {
      "text/html": [
       "<div>\n",
       "<style scoped>\n",
       "    .dataframe tbody tr th:only-of-type {\n",
       "        vertical-align: middle;\n",
       "    }\n",
       "\n",
       "    .dataframe tbody tr th {\n",
       "        vertical-align: top;\n",
       "    }\n",
       "\n",
       "    .dataframe thead th {\n",
       "        text-align: right;\n",
       "    }\n",
       "</style>\n",
       "<table border=\"1\" class=\"dataframe\">\n",
       "  <thead>\n",
       "    <tr style=\"text-align: right;\">\n",
       "      <th></th>\n",
       "      <th>customer_id</th>\n",
       "    </tr>\n",
       "  </thead>\n",
       "  <tbody>\n",
       "    <tr>\n",
       "      <th>0</th>\n",
       "      <td>17850</td>\n",
       "    </tr>\n",
       "    <tr>\n",
       "      <th>1</th>\n",
       "      <td>13047</td>\n",
       "    </tr>\n",
       "    <tr>\n",
       "      <th>2</th>\n",
       "      <td>12583</td>\n",
       "    </tr>\n",
       "    <tr>\n",
       "      <th>3</th>\n",
       "      <td>13748</td>\n",
       "    </tr>\n",
       "    <tr>\n",
       "      <th>4</th>\n",
       "      <td>15100</td>\n",
       "    </tr>\n",
       "  </tbody>\n",
       "</table>\n",
       "</div>"
      ],
      "text/plain": [
       "   customer_id\n",
       "0        17850\n",
       "1        13047\n",
       "2        12583\n",
       "3        13748\n",
       "4        15100"
      ]
     },
     "execution_count": 14,
     "metadata": {},
     "output_type": "execute_result"
    }
   ],
   "source": [
    "# Create DataFrame Reference\n",
    "\n",
    "df_ref = df2.drop(['invoice_no', 'stock_code', 'description', \n",
    "                   'quantity', 'invoice_date', 'unit_price', \n",
    "                   'country'], axis=1).drop_duplicates(ignore_index=True)\n",
    "df_ref.head()"
   ]
  },
  {
   "cell_type": "code",
   "execution_count": null,
   "id": "2ddca211",
   "metadata": {
    "hidden": true
   },
   "outputs": [],
   "source": []
  },
  {
   "cell_type": "markdown",
   "id": "b3dc16c5",
   "metadata": {
    "heading_collapsed": true
   },
   "source": [
    "# 3.0 Feature Engineering"
   ]
  },
  {
   "cell_type": "code",
   "execution_count": 15,
   "id": "c8417ac1",
   "metadata": {
    "ExecuteTime": {
     "end_time": "2023-01-19T17:26:57.411370Z",
     "start_time": "2023-01-19T17:26:57.402433Z"
    },
    "hidden": true
   },
   "outputs": [],
   "source": [
    "df3 = df2.copy()"
   ]
  },
  {
   "cell_type": "code",
   "execution_count": 16,
   "id": "f76ffd76",
   "metadata": {
    "ExecuteTime": {
     "end_time": "2023-01-19T17:26:57.465656Z",
     "start_time": "2023-01-19T17:26:57.412766Z"
    },
    "hidden": true
   },
   "outputs": [],
   "source": [
    "# Gross Revenue (Faturamento = Quantidade * Preço)\n",
    "df3['gross_revenue'] = df3['quantity'] * df3['unit_price']\n",
    "\n",
    "# Monetary: Faturamento\n",
    "df_monetary = df3.groupby('customer_id')['gross_revenue'].sum().reset_index()\n",
    "df_ref = pd.merge(df_ref, df_monetary, how='left', on='customer_id')\n",
    "\n",
    "# Recency: Dia da última compra\n",
    "df_recency = df3.groupby('customer_id')['invoice_date'].max().reset_index()\n",
    "df_recency['recency'] = (df3['invoice_date'].max() - df_recency['invoice_date']).dt.days\n",
    "df_ref = pd.merge(df_ref, df_recency, how='left', on='customer_id')\n",
    "\n",
    "# Frequency - Contagem do número de compras feitas pelo cliente\n",
    "df_freq = df3[['customer_id', 'invoice_no']].drop_duplicates().groupby('customer_id').count().reset_index()\n",
    "df_ref = pd.merge(df_ref, df_freq, how='left', on='customer_id')\n",
    "df_ref.rename(columns={'gross_revenue':'monetary',\n",
    "               'invoice_no':'frequency'},\n",
    "             inplace=True)"
   ]
  },
  {
   "cell_type": "code",
   "execution_count": 17,
   "id": "119553d0",
   "metadata": {
    "ExecuteTime": {
     "end_time": "2023-01-19T17:26:57.472904Z",
     "start_time": "2023-01-19T17:26:57.467212Z"
    },
    "hidden": true
   },
   "outputs": [
    {
     "data": {
      "text/html": [
       "<div>\n",
       "<style scoped>\n",
       "    .dataframe tbody tr th:only-of-type {\n",
       "        vertical-align: middle;\n",
       "    }\n",
       "\n",
       "    .dataframe tbody tr th {\n",
       "        vertical-align: top;\n",
       "    }\n",
       "\n",
       "    .dataframe thead th {\n",
       "        text-align: right;\n",
       "    }\n",
       "</style>\n",
       "<table border=\"1\" class=\"dataframe\">\n",
       "  <thead>\n",
       "    <tr style=\"text-align: right;\">\n",
       "      <th></th>\n",
       "      <th>customer_id</th>\n",
       "      <th>monetary</th>\n",
       "      <th>recency</th>\n",
       "      <th>frequency</th>\n",
       "    </tr>\n",
       "  </thead>\n",
       "  <tbody>\n",
       "    <tr>\n",
       "      <th>0</th>\n",
       "      <td>17850</td>\n",
       "      <td>5288.63</td>\n",
       "      <td>302</td>\n",
       "      <td>35</td>\n",
       "    </tr>\n",
       "    <tr>\n",
       "      <th>1</th>\n",
       "      <td>13047</td>\n",
       "      <td>3079.10</td>\n",
       "      <td>31</td>\n",
       "      <td>18</td>\n",
       "    </tr>\n",
       "    <tr>\n",
       "      <th>2</th>\n",
       "      <td>12583</td>\n",
       "      <td>7187.34</td>\n",
       "      <td>2</td>\n",
       "      <td>18</td>\n",
       "    </tr>\n",
       "    <tr>\n",
       "      <th>3</th>\n",
       "      <td>13748</td>\n",
       "      <td>948.25</td>\n",
       "      <td>95</td>\n",
       "      <td>5</td>\n",
       "    </tr>\n",
       "    <tr>\n",
       "      <th>4</th>\n",
       "      <td>15100</td>\n",
       "      <td>635.10</td>\n",
       "      <td>330</td>\n",
       "      <td>6</td>\n",
       "    </tr>\n",
       "  </tbody>\n",
       "</table>\n",
       "</div>"
      ],
      "text/plain": [
       "   customer_id  monetary  recency  frequency\n",
       "0        17850   5288.63      302         35\n",
       "1        13047   3079.10       31         18\n",
       "2        12583   7187.34        2         18\n",
       "3        13748    948.25       95          5\n",
       "4        15100    635.10      330          6"
      ]
     },
     "execution_count": 17,
     "metadata": {},
     "output_type": "execute_result"
    }
   ],
   "source": [
    "df_ref.drop('invoice_date', inplace=True, axis=1)\n",
    "df_ref.head()"
   ]
  },
  {
   "cell_type": "code",
   "execution_count": null,
   "id": "ab8a384a",
   "metadata": {
    "hidden": true
   },
   "outputs": [],
   "source": []
  },
  {
   "cell_type": "markdown",
   "id": "ee2aa348",
   "metadata": {},
   "source": [
    "# 4.0 EDA (Exploratory Data Analysis)"
   ]
  },
  {
   "cell_type": "code",
   "execution_count": 18,
   "id": "d850e7c3",
   "metadata": {
    "ExecuteTime": {
     "end_time": "2023-01-19T17:26:57.476861Z",
     "start_time": "2023-01-19T17:26:57.474420Z"
    }
   },
   "outputs": [],
   "source": [
    "df4 = df_ref.copy()"
   ]
  },
  {
   "cell_type": "markdown",
   "id": "e59fb72b",
   "metadata": {},
   "source": [
    "# 5.0 Data Preparation"
   ]
  },
  {
   "cell_type": "code",
   "execution_count": 19,
   "id": "ed6bdf6c",
   "metadata": {
    "ExecuteTime": {
     "end_time": "2023-01-19T17:26:57.480709Z",
     "start_time": "2023-01-19T17:26:57.478337Z"
    }
   },
   "outputs": [],
   "source": [
    "df5 = df4.copy()"
   ]
  },
  {
   "cell_type": "markdown",
   "id": "2bd050fb",
   "metadata": {},
   "source": [
    "# 6.0 Feature Selection"
   ]
  },
  {
   "cell_type": "code",
   "execution_count": 20,
   "id": "3573cf8f",
   "metadata": {
    "ExecuteTime": {
     "end_time": "2023-01-19T17:26:57.484185Z",
     "start_time": "2023-01-19T17:26:57.482181Z"
    }
   },
   "outputs": [],
   "source": [
    "df6 = df5.copy()"
   ]
  },
  {
   "cell_type": "markdown",
   "id": "daa81c42",
   "metadata": {},
   "source": [
    "# 7.0 Hyperparameter Fine-tuning"
   ]
  },
  {
   "cell_type": "code",
   "execution_count": 21,
   "id": "4ceff1d8",
   "metadata": {
    "ExecuteTime": {
     "end_time": "2023-01-19T17:26:57.488536Z",
     "start_time": "2023-01-19T17:26:57.486118Z"
    }
   },
   "outputs": [],
   "source": [
    "X = df6.drop(columns=['customer_id'])"
   ]
  },
  {
   "cell_type": "code",
   "execution_count": 22,
   "id": "c964e569",
   "metadata": {
    "ExecuteTime": {
     "end_time": "2023-01-19T17:26:57.492289Z",
     "start_time": "2023-01-19T17:26:57.490236Z"
    }
   },
   "outputs": [],
   "source": [
    "clusters = [2, 3, 4, 5, 6]"
   ]
  },
  {
   "cell_type": "markdown",
   "id": "87a65ba0",
   "metadata": {},
   "source": [
    "## 7.1. Within-Cluster Sum of Square (WSS)"
   ]
  },
  {
   "cell_type": "code",
   "execution_count": 23,
   "id": "c63ed930",
   "metadata": {
    "ExecuteTime": {
     "end_time": "2023-01-19T17:26:58.290507Z",
     "start_time": "2023-01-19T17:26:57.493685Z"
    }
   },
   "outputs": [
    {
     "data": {
      "image/png": "[encoded data removed]",
      "text/plain": [
       "<Figure size 1200x600 with 1 Axes>"
      ]
     },
     "metadata": {},
     "output_type": "display_data"
    }
   ],
   "source": [
    "wss = []\n",
    "for k in clusters:\n",
    "    # model definition\n",
    "    kmeans = KMeans(init='random', n_clusters=k, n_init=10, max_iter=300, random_state=42)\n",
    "    \n",
    "    # model training\n",
    "    kmeans.fit(X)\n",
    "    \n",
    "    # validation    \n",
    "    wss.append(kmeans.inertia_)\n",
    "\n",
    "# plot wss - Elbow Method - Método Cotovelo\n",
    "plt.plot(clusters, wss, linestyle='--', marker='o', color='b')\n",
    "plt.xlabel('K')\n",
    "plt.ylabel('Within-Cluster Sum of Squares')\n",
    "plt.title('WSS x K');"
   ]
  },
  {
   "cell_type": "code",
   "execution_count": 24,
   "id": "e7f8f4b3",
   "metadata": {
    "ExecuteTime": {
     "end_time": "2023-01-19T17:27:02.872213Z",
     "start_time": "2023-01-19T17:26:58.292343Z"
    },
    "scrolled": false
   },
   "outputs": [
    {
     "data": {
      "image/png": "[encoded data removed]",
      "text/plain": [
       "<Figure size 1200x600 with 1 Axes>"
      ]
     },
     "metadata": {},
     "output_type": "display_data"
    }
   ],
   "source": [
    "kmeans2 = KElbowVisualizer(KMeans(n_init=10), k=clusters, timings=False)\n",
    "kmeans2.fit(X)\n",
    "kmeans2.show();"
   ]
  },
  {
   "cell_type": "code",
   "execution_count": 25,
   "id": "419900d7",
   "metadata": {
    "ExecuteTime": {
     "end_time": "2023-01-19T17:27:02.876440Z",
     "start_time": "2023-01-19T17:27:02.874183Z"
    }
   },
   "outputs": [],
   "source": [
    "import matplotlib.font_manager"
   ]
  },
  {
   "cell_type": "markdown",
   "id": "5853950f",
   "metadata": {},
   "source": [
    "## 7.2. Silhouette Score"
   ]
  },
  {
   "cell_type": "code",
   "execution_count": 27,
   "id": "60540d32",
   "metadata": {
    "ExecuteTime": {
     "end_time": "2023-01-19T17:27:20.390489Z",
     "start_time": "2023-01-19T17:27:14.949478Z"
    },
    "scrolled": false
   },
   "outputs": [
    {
     "data": {
      "image/png": "[encoded data removed]",
      "text/plain": [
       "<Figure size 1200x600 with 1 Axes>"
      ]
     },
     "metadata": {},
     "output_type": "display_data"
    }
   ],
   "source": [
    "kmeans = KElbowVisualizer(KMeans(), k=clusters, metric='silhouette', timings=False )\n",
    "kmeans.fit(X)\n",
    "kmeans.show();"
   ]
  },
  {
   "cell_type": "markdown",
   "id": "a8c8d410",
   "metadata": {},
   "source": [
    "# 8.0 Model Training"
   ]
  },
  {
   "cell_type": "code",
   "execution_count": null,
   "id": "1e277a7b",
   "metadata": {},
   "outputs": [],
   "source": []
  },
  {
   "cell_type": "code",
   "execution_count": null,
   "id": "85bbacce",
   "metadata": {},
   "outputs": [],
   "source": []
  },
  {
   "cell_type": "markdown",
   "id": "35a72350",
   "metadata": {},
   "source": [
    "# 9.0 Cluster Analysis"
   ]
  },
  {
   "cell_type": "code",
   "execution_count": null,
   "id": "7f730662",
   "metadata": {},
   "outputs": [],
   "source": []
  },
  {
   "cell_type": "markdown",
   "id": "ce70f1ae",
   "metadata": {},
   "source": [
    "# 10.0 Deployment"
   ]
  },
  {
   "cell_type": "code",
   "execution_count": null,
   "id": "85c32124",
   "metadata": {},
   "outputs": [],
   "source": []
  },
  {
   "cell_type": "code",
   "execution_count": null,
   "id": "579367b0",
   "metadata": {},
   "outputs": [],
   "source": []
  }
 ],
 "metadata": {
  "kernelspec": {
   "display_name": "Python 3 (ipykernel)",
   "language": "python",
   "name": "python3"
  },
  "language_info": {
   "codemirror_mode": {
    "name": "ipython",
    "version": 3
   },
   "file_extension": ".py",
   "mimetype": "text/x-python",
   "name": "python",
   "nbconvert_exporter": "python",
   "pygments_lexer": "ipython3",
   "version": "3.8.10"
  }
 },
 "nbformat": 4,
 "nbformat_minor": 5
}
