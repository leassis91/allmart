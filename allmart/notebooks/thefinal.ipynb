{
 "cells": [
  {
   "cell_type": "markdown",
   "id": "d48f8f9f",
   "metadata": {
    "jp-MarkdownHeadingCollapsed": true,
    "tags": []
   },
   "source": [
    "# 0. Imports"
   ]
  },
  {
   "cell_type": "code",
   "execution_count": 1,
   "id": "cc2a27e0-a403-44e2-8482-53838b83faac",
   "metadata": {
    "ExecuteTime": {
     "end_time": "2023-05-07T17:56:25.049352Z",
     "start_time": "2023-05-07T17:56:20.324293Z"
    }
   },
   "outputs": [
    {
     "name": "stderr",
     "output_type": "stream",
     "text": [
      "/home/leassis/repos/portfolio/allmart/.venv/lib/python3.9/site-packages/umap/distances.py:1063: NumbaDeprecationWarning: The 'nopython' keyword argument was not supplied to the 'numba.jit' decorator. The implicit default value for this argument is currently False, but it will be changed to True in Numba 0.59.0. See https://numba.readthedocs.io/en/stable/reference/deprecation.html#deprecation-of-object-mode-fall-back-behaviour-when-using-jit for details.\n",
      "  @numba.jit()\n",
      "/home/leassis/repos/portfolio/allmart/.venv/lib/python3.9/site-packages/umap/distances.py:1071: NumbaDeprecationWarning: The 'nopython' keyword argument was not supplied to the 'numba.jit' decorator. The implicit default value for this argument is currently False, but it will be changed to True in Numba 0.59.0. See https://numba.readthedocs.io/en/stable/reference/deprecation.html#deprecation-of-object-mode-fall-back-behaviour-when-using-jit for details.\n",
      "  @numba.jit()\n",
      "/home/leassis/repos/portfolio/allmart/.venv/lib/python3.9/site-packages/umap/distances.py:1086: NumbaDeprecationWarning: The 'nopython' keyword argument was not supplied to the 'numba.jit' decorator. The implicit default value for this argument is currently False, but it will be changed to True in Numba 0.59.0. See https://numba.readthedocs.io/en/stable/reference/deprecation.html#deprecation-of-object-mode-fall-back-behaviour-when-using-jit for details.\n",
      "  @numba.jit()\n",
      "/home/leassis/repos/portfolio/allmart/.venv/lib/python3.9/site-packages/umap/umap_.py:660: NumbaDeprecationWarning: The 'nopython' keyword argument was not supplied to the 'numba.jit' decorator. The implicit default value for this argument is currently False, but it will be changed to True in Numba 0.59.0. See https://numba.readthedocs.io/en/stable/reference/deprecation.html#deprecation-of-object-mode-fall-back-behaviour-when-using-jit for details.\n",
      "  @numba.jit()\n"
     ]
    }
   ],
   "source": [
    "# from pandas_profiling import ProfileReport\n",
    "# from ydata_profiling import ProfileReport\n",
    "\n",
    "import pandas as pd\n",
    "import numpy as np\n",
    "import matplotlib.pyplot as plt\n",
    "import seaborn as sns\n",
    "from scipy import stats\n",
    "import random, os\n",
    "import plotly.express as px\n",
    "import re\n",
    "from IPython.display import HTML, Image\n",
    "import matplotlib.font_manager\n",
    "import matplotlib.cm as cm\n",
    "from datetime import datetime\n",
    "\n",
    "\n",
    "# Preprocessing\n",
    "from sklearn.preprocessing import StandardScaler, MinMaxScaler, RobustScaler, OneHotEncoder\n",
    "from sklearn.pipeline import Pipeline\n",
    "from sklearn.base import BaseEstimator, TransformerMixin\n",
    "from itertools import product\n",
    "\n",
    "# Models\n",
    "from sklearn.cluster import KMeans, DBSCAN, MiniBatchKMeans, AgglomerativeClustering, MeanShift\n",
    "from sklearn.ensemble import RandomForestRegressor\n",
    "from sklearn.neighbors import NearestNeighbors\n",
    "from sklearn.mixture import GaussianMixture\n",
    "\n",
    "# Visualização de clusters\n",
    "from yellowbrick.cluster import KElbowVisualizer, SilhouetteVisualizer\n",
    "from sklearn.metrics import silhouette_score, silhouette_samples, calinski_harabasz_score, davies_bouldin_score, fowlkes_mallows_score\n",
    "import umap.umap_ as umap\n",
    "\n",
    "from scipy.cluster import hierarchy as hc\n",
    "from scipy.cluster.hierarchy import dendrogram, linkage\n",
    "\n",
    "# Dimensionality Reduction\n",
    "from sklearn.decomposition import PCA\n",
    "from sklearn.manifold import TSNE\n",
    "\n",
    "# Warnings\n",
    "import warnings\n",
    "warnings.filterwarnings('ignore')"
   ]
  },
  {
   "cell_type": "code",
   "execution_count": 2,
   "id": "4c747c50",
   "metadata": {},
   "outputs": [],
   "source": [
    "# !uv pip install \"numpy<2.0\""
   ]
  },
  {
   "cell_type": "code",
   "execution_count": 2,
   "id": "62a061cf",
   "metadata": {},
   "outputs": [
    {
     "name": "stdout",
     "output_type": "stream",
     "text": [
      "\u001b[2mUsing Python 3.9.21 environment at: /home/leassis/repos/portfolio/allmart/.venv\u001b[0m\n",
      "\u001b[2mChecked \u001b[1m195 packages\u001b[0m \u001b[2min 8ms\u001b[0m\u001b[0m\n",
      "\u001b[2mAll installed packages are compatible\u001b[0m\n"
     ]
    }
   ],
   "source": [
    "!uv pip check"
   ]
  },
  {
   "cell_type": "code",
   "execution_count": 3,
   "id": "aee4c38e-d8ea-4587-a253-5104bc127f5e",
   "metadata": {
    "ExecuteTime": {
     "end_time": "2023-05-07T17:56:25.068140Z",
     "start_time": "2023-05-07T17:56:25.051632Z"
    }
   },
   "outputs": [
    {
     "data": {
      "text/html": [
       "<style>.conteiner{width:100% !important;}</style>"
      ],
      "text/plain": [
       "<IPython.core.display.HTML object>"
      ]
     },
     "metadata": {},
     "output_type": "display_data"
    }
   ],
   "source": [
    "def jupyter_settings():\n",
    "    %matplotlib inline\n",
    "\n",
    "    plt.rcParams['figure.figsize'] = [12, 6]\n",
    "    plt.rcParams['font.size'] = 15\n",
    "\n",
    "    display(HTML('<style>.conteiner{width:100% !important;}</style>'))\n",
    "\n",
    "    pd.options.display.max_columns = None\n",
    "    pd.options.display.max_rows = None\n",
    "    pd.set_option('display.expand_frame_repr', False)\n",
    "    # configura o pandas para quantidade de casas decimais\n",
    "    pd.set_option('display.float_format', lambda x: '%.2f' % x)\n",
    "\n",
    "    color_pal = sns.color_palette()\n",
    "    plt.style.use('ggplot')\n",
    "    sns.set()\n",
    "jupyter_settings()"
   ]
  },
  {
   "cell_type": "markdown",
   "id": "c7c4dee1-74ac-41fc-8144-d76724e74005",
   "metadata": {},
   "source": [
    "## 0.2 CFG"
   ]
  },
  {
   "cell_type": "code",
   "execution_count": 4,
   "id": "8e49ef9b-b90e-4069-af0f-68dfda61d64f",
   "metadata": {
    "ExecuteTime": {
     "end_time": "2023-05-07T17:56:25.072569Z",
     "start_time": "2023-05-07T17:56:25.069864Z"
    },
    "code_folding": []
   },
   "outputs": [],
   "source": [
    "class CFG:\n",
    "    FOLDS = 5\n",
    "    seed = 42\n",
    "    TARGET = ''\n",
    "def seed_everything(seed):\n",
    "    random.seed(seed)\n",
    "    os.environ['PYTHONHASHSEED'] = str(seed)\n",
    "    np.random.seed(seed)\n",
    "\n",
    "seed_everything(seed = CFG.seed)"
   ]
  },
  {
   "cell_type": "markdown",
   "id": "d720b626-af86-4562-af92-4a09b909ad9b",
   "metadata": {
    "heading_collapsed": true,
    "jp-MarkdownHeadingCollapsed": true,
    "tags": [],
    "toc-hr-collapsed": true
   },
   "source": [
    "# 1.0 Data Reading"
   ]
  },
  {
   "cell_type": "markdown",
   "id": "6c905129-b4f3-437c-87b6-38f9cbc134e1",
   "metadata": {
    "hidden": true
   },
   "source": [
    "## 1.1 Data Loading"
   ]
  },
  {
   "cell_type": "code",
   "execution_count": 5,
   "id": "16abbc5f-9387-4e5c-ad2a-cf093111a3ba",
   "metadata": {
    "ExecuteTime": {
     "end_time": "2023-05-07T17:56:25.508814Z",
     "start_time": "2023-05-07T17:56:25.074516Z"
    },
    "hidden": true
   },
   "outputs": [
    {
     "data": {
      "text/html": [
       "<div>\n",
       "<style scoped>\n",
       "    .dataframe tbody tr th:only-of-type {\n",
       "        vertical-align: middle;\n",
       "    }\n",
       "\n",
       "    .dataframe tbody tr th {\n",
       "        vertical-align: top;\n",
       "    }\n",
       "\n",
       "    .dataframe thead th {\n",
       "        text-align: right;\n",
       "    }\n",
       "</style>\n",
       "<table border=\"1\" class=\"dataframe\">\n",
       "  <thead>\n",
       "    <tr style=\"text-align: right;\">\n",
       "      <th></th>\n",
       "      <th>InvoiceNo</th>\n",
       "      <th>StockCode</th>\n",
       "      <th>Description</th>\n",
       "      <th>Quantity</th>\n",
       "      <th>InvoiceDate</th>\n",
       "      <th>UnitPrice</th>\n",
       "      <th>CustomerID</th>\n",
       "      <th>Country</th>\n",
       "    </tr>\n",
       "  </thead>\n",
       "  <tbody>\n",
       "    <tr>\n",
       "      <th>0</th>\n",
       "      <td>536365</td>\n",
       "      <td>85123A</td>\n",
       "      <td>WHITE HANGING HEART T-LIGHT HOLDER</td>\n",
       "      <td>6</td>\n",
       "      <td>29-Nov-16</td>\n",
       "      <td>2.55</td>\n",
       "      <td>17850.00</td>\n",
       "      <td>United Kingdom</td>\n",
       "    </tr>\n",
       "    <tr>\n",
       "      <th>1</th>\n",
       "      <td>536365</td>\n",
       "      <td>71053</td>\n",
       "      <td>WHITE METAL LANTERN</td>\n",
       "      <td>6</td>\n",
       "      <td>29-Nov-16</td>\n",
       "      <td>3.39</td>\n",
       "      <td>17850.00</td>\n",
       "      <td>United Kingdom</td>\n",
       "    </tr>\n",
       "    <tr>\n",
       "      <th>2</th>\n",
       "      <td>536365</td>\n",
       "      <td>84406B</td>\n",
       "      <td>CREAM CUPID HEARTS COAT HANGER</td>\n",
       "      <td>8</td>\n",
       "      <td>29-Nov-16</td>\n",
       "      <td>2.75</td>\n",
       "      <td>17850.00</td>\n",
       "      <td>United Kingdom</td>\n",
       "    </tr>\n",
       "    <tr>\n",
       "      <th>3</th>\n",
       "      <td>536365</td>\n",
       "      <td>84029G</td>\n",
       "      <td>KNITTED UNION FLAG HOT WATER BOTTLE</td>\n",
       "      <td>6</td>\n",
       "      <td>29-Nov-16</td>\n",
       "      <td>3.39</td>\n",
       "      <td>17850.00</td>\n",
       "      <td>United Kingdom</td>\n",
       "    </tr>\n",
       "    <tr>\n",
       "      <th>4</th>\n",
       "      <td>536365</td>\n",
       "      <td>84029E</td>\n",
       "      <td>RED WOOLLY HOTTIE WHITE HEART.</td>\n",
       "      <td>6</td>\n",
       "      <td>29-Nov-16</td>\n",
       "      <td>3.39</td>\n",
       "      <td>17850.00</td>\n",
       "      <td>United Kingdom</td>\n",
       "    </tr>\n",
       "  </tbody>\n",
       "</table>\n",
       "</div>"
      ],
      "text/plain": [
       "  InvoiceNo StockCode                          Description  Quantity InvoiceDate  UnitPrice  CustomerID         Country\n",
       "0    536365    85123A   WHITE HANGING HEART T-LIGHT HOLDER         6   29-Nov-16       2.55    17850.00  United Kingdom\n",
       "1    536365     71053                  WHITE METAL LANTERN         6   29-Nov-16       3.39    17850.00  United Kingdom\n",
       "2    536365    84406B       CREAM CUPID HEARTS COAT HANGER         8   29-Nov-16       2.75    17850.00  United Kingdom\n",
       "3    536365    84029G  KNITTED UNION FLAG HOT WATER BOTTLE         6   29-Nov-16       3.39    17850.00  United Kingdom\n",
       "4    536365    84029E       RED WOOLLY HOTTIE WHITE HEART.         6   29-Nov-16       3.39    17850.00  United Kingdom"
      ]
     },
     "execution_count": 5,
     "metadata": {},
     "output_type": "execute_result"
    }
   ],
   "source": [
    "df1 = pd.read_csv('../data/01_raw/Ecommerce.csv', encoding='unicode_escape')\n",
    "df1.drop(columns=['Unnamed: 8'], axis=1, inplace=True)\n",
    "df1.head()"
   ]
  },
  {
   "cell_type": "markdown",
   "id": "1d8cf7eb-5935-4d89-9c2a-e7ea418f09ef",
   "metadata": {
    "hidden": true
   },
   "source": [
    "## 1.2 Data Dimensions"
   ]
  },
  {
   "cell_type": "code",
   "execution_count": 6,
   "id": "28bfa277-3086-4569-92e0-71f8801b9c9f",
   "metadata": {
    "ExecuteTime": {
     "end_time": "2023-05-07T17:56:25.513249Z",
     "start_time": "2023-05-07T17:56:25.510506Z"
    },
    "hidden": true
   },
   "outputs": [
    {
     "name": "stdout",
     "output_type": "stream",
     "text": [
      "Number of rows: 541909\n",
      "Number of columns: 8\n"
     ]
    }
   ],
   "source": [
    "print(f'Number of rows: {df1.shape[0]}')\n",
    "print(f'Number of columns: {df1.shape[1]}')"
   ]
  },
  {
   "cell_type": "markdown",
   "id": "bd54b18a-1128-4ba7-b2ee-ff06d30185b0",
   "metadata": {
    "hidden": true
   },
   "source": [
    "## 1.3 Data Dtypes"
   ]
  },
  {
   "cell_type": "code",
   "execution_count": 7,
   "id": "f0a9dfa5-b42c-4c64-a085-1721d4f53f17",
   "metadata": {
    "ExecuteTime": {
     "end_time": "2023-05-07T17:56:25.859693Z",
     "start_time": "2023-05-07T17:56:25.855520Z"
    },
    "hidden": true
   },
   "outputs": [
    {
     "data": {
      "text/plain": [
       "InvoiceNo       object\n",
       "StockCode       object\n",
       "Description     object\n",
       "Quantity         int64\n",
       "InvoiceDate     object\n",
       "UnitPrice      float64\n",
       "CustomerID     float64\n",
       "Country         object\n",
       "dtype: object"
      ]
     },
     "execution_count": 7,
     "metadata": {},
     "output_type": "execute_result"
    }
   ],
   "source": [
    "df1.dtypes"
   ]
  },
  {
   "cell_type": "markdown",
   "id": "16ad258d-9957-40bb-a295-fd5b67871cd7",
   "metadata": {
    "hidden": true
   },
   "source": [
    "## 1.4 Checking NA"
   ]
  },
  {
   "cell_type": "code",
   "execution_count": 8,
   "id": "bd290908-bca1-4821-9864-1a173560617d",
   "metadata": {
    "ExecuteTime": {
     "end_time": "2023-05-07T17:56:26.958670Z",
     "start_time": "2023-05-07T17:56:26.732070Z"
    },
    "hidden": true
   },
   "outputs": [
    {
     "data": {
      "text/plain": [
       "InvoiceNo           0\n",
       "StockCode           0\n",
       "Description      1454\n",
       "Quantity            0\n",
       "InvoiceDate         0\n",
       "UnitPrice           0\n",
       "CustomerID     135080\n",
       "Country             0\n",
       "dtype: int64"
      ]
     },
     "execution_count": 8,
     "metadata": {},
     "output_type": "execute_result"
    }
   ],
   "source": [
    "df1.isna().sum()"
   ]
  },
  {
   "cell_type": "markdown",
   "id": "631a857c-b26b-4b13-a4e1-f865c9675183",
   "metadata": {
    "heading_collapsed": true,
    "jp-MarkdownHeadingCollapsed": true,
    "tags": [],
    "toc-hr-collapsed": true
   },
   "source": [
    "# 2.0 Data Wrangling"
   ]
  },
  {
   "cell_type": "code",
   "execution_count": 9,
   "id": "19713811-8a54-4ab0-9dba-1f2d4e74cfe7",
   "metadata": {
    "ExecuteTime": {
     "end_time": "2023-05-07T17:56:27.311497Z",
     "start_time": "2023-05-07T17:56:27.291185Z"
    },
    "hidden": true
   },
   "outputs": [],
   "source": [
    "df2 = df1.copy()"
   ]
  },
  {
   "cell_type": "markdown",
   "id": "f51367d1-e8af-47de-981e-1c28f1a3889d",
   "metadata": {
    "hidden": true
   },
   "source": [
    "## 2.1 Rename Columns"
   ]
  },
  {
   "cell_type": "code",
   "execution_count": 10,
   "id": "3918cfe9-c73f-4f91-b6be-f4ca6063b306",
   "metadata": {
    "ExecuteTime": {
     "end_time": "2023-05-07T17:56:27.651402Z",
     "start_time": "2023-05-07T17:56:27.648588Z"
    },
    "hidden": true
   },
   "outputs": [],
   "source": [
    "cols_new = ['invoice_no', 'stock_code', 'description', 'quantity', 'invoice_date', 'unit_price', 'customer_id', 'country']\n",
    "df2.columns = cols_new"
   ]
  },
  {
   "cell_type": "markdown",
   "id": "cc84c298-3dc2-4fe4-a0dd-98bd9f765361",
   "metadata": {
    "hidden": true
   },
   "source": [
    "## 2.2 Replacing NAs"
   ]
  },
  {
   "cell_type": "code",
   "execution_count": 11,
   "id": "a1bfa9d0-37bd-450b-a302-234232935ec8",
   "metadata": {
    "ExecuteTime": {
     "end_time": "2023-05-07T17:56:28.421252Z",
     "start_time": "2023-05-07T17:56:28.383895Z"
    },
    "hidden": true
   },
   "outputs": [],
   "source": [
    "df_missing = df2.loc[df2['customer_id'].isna(), :]\n",
    "df_not_missing = df2.loc[~df2['customer_id'].isna(), :]"
   ]
  },
  {
   "cell_type": "code",
   "execution_count": 12,
   "id": "c85cef52-b1cd-447f-b9d1-788e23b83441",
   "metadata": {},
   "outputs": [
    {
     "data": {
      "text/html": [
       "<div>\n",
       "<style scoped>\n",
       "    .dataframe tbody tr th:only-of-type {\n",
       "        vertical-align: middle;\n",
       "    }\n",
       "\n",
       "    .dataframe tbody tr th {\n",
       "        vertical-align: top;\n",
       "    }\n",
       "\n",
       "    .dataframe thead th {\n",
       "        text-align: right;\n",
       "    }\n",
       "</style>\n",
       "<table border=\"1\" class=\"dataframe\">\n",
       "  <thead>\n",
       "    <tr style=\"text-align: right;\">\n",
       "      <th></th>\n",
       "      <th>invoice_no</th>\n",
       "      <th>stock_code</th>\n",
       "      <th>description</th>\n",
       "      <th>quantity</th>\n",
       "      <th>invoice_date</th>\n",
       "      <th>unit_price</th>\n",
       "      <th>customer_id</th>\n",
       "      <th>country</th>\n",
       "    </tr>\n",
       "  </thead>\n",
       "  <tbody>\n",
       "    <tr>\n",
       "      <th>0</th>\n",
       "      <td>536365</td>\n",
       "      <td>85123A</td>\n",
       "      <td>WHITE HANGING HEART T-LIGHT HOLDER</td>\n",
       "      <td>6</td>\n",
       "      <td>29-Nov-16</td>\n",
       "      <td>2.55</td>\n",
       "      <td>17850.00</td>\n",
       "      <td>United Kingdom</td>\n",
       "    </tr>\n",
       "    <tr>\n",
       "      <th>1</th>\n",
       "      <td>536365</td>\n",
       "      <td>71053</td>\n",
       "      <td>WHITE METAL LANTERN</td>\n",
       "      <td>6</td>\n",
       "      <td>29-Nov-16</td>\n",
       "      <td>3.39</td>\n",
       "      <td>17850.00</td>\n",
       "      <td>United Kingdom</td>\n",
       "    </tr>\n",
       "    <tr>\n",
       "      <th>2</th>\n",
       "      <td>536365</td>\n",
       "      <td>84406B</td>\n",
       "      <td>CREAM CUPID HEARTS COAT HANGER</td>\n",
       "      <td>8</td>\n",
       "      <td>29-Nov-16</td>\n",
       "      <td>2.75</td>\n",
       "      <td>17850.00</td>\n",
       "      <td>United Kingdom</td>\n",
       "    </tr>\n",
       "    <tr>\n",
       "      <th>3</th>\n",
       "      <td>536365</td>\n",
       "      <td>84029G</td>\n",
       "      <td>KNITTED UNION FLAG HOT WATER BOTTLE</td>\n",
       "      <td>6</td>\n",
       "      <td>29-Nov-16</td>\n",
       "      <td>3.39</td>\n",
       "      <td>17850.00</td>\n",
       "      <td>United Kingdom</td>\n",
       "    </tr>\n",
       "    <tr>\n",
       "      <th>4</th>\n",
       "      <td>536365</td>\n",
       "      <td>84029E</td>\n",
       "      <td>RED WOOLLY HOTTIE WHITE HEART.</td>\n",
       "      <td>6</td>\n",
       "      <td>29-Nov-16</td>\n",
       "      <td>3.39</td>\n",
       "      <td>17850.00</td>\n",
       "      <td>United Kingdom</td>\n",
       "    </tr>\n",
       "  </tbody>\n",
       "</table>\n",
       "</div>"
      ],
      "text/plain": [
       "  invoice_no stock_code                          description  quantity invoice_date  unit_price  customer_id         country\n",
       "0     536365     85123A   WHITE HANGING HEART T-LIGHT HOLDER         6    29-Nov-16        2.55     17850.00  United Kingdom\n",
       "1     536365      71053                  WHITE METAL LANTERN         6    29-Nov-16        3.39     17850.00  United Kingdom\n",
       "2     536365     84406B       CREAM CUPID HEARTS COAT HANGER         8    29-Nov-16        2.75     17850.00  United Kingdom\n",
       "3     536365     84029G  KNITTED UNION FLAG HOT WATER BOTTLE         6    29-Nov-16        3.39     17850.00  United Kingdom\n",
       "4     536365     84029E       RED WOOLLY HOTTIE WHITE HEART.         6    29-Nov-16        3.39     17850.00  United Kingdom"
      ]
     },
     "execution_count": 12,
     "metadata": {},
     "output_type": "execute_result"
    }
   ],
   "source": [
    "df2.head()"
   ]
  },
  {
   "cell_type": "code",
   "execution_count": 13,
   "id": "198c09dd-5999-4ecb-aaf1-f5c9a23a7664",
   "metadata": {
    "ExecuteTime": {
     "end_time": "2023-05-07T17:56:28.546506Z",
     "start_time": "2023-05-07T17:56:28.428538Z"
    },
    "hidden": true
   },
   "outputs": [],
   "source": [
    "# create reference\n",
    "df_backup = pd.DataFrame(df_missing['invoice_no'].drop_duplicates())\n",
    "df_backup['customer_id'] = np.arange(19000, 19000+len(df_backup), 1)\n",
    "\n",
    "\n",
    "# merge original with reference dataframe\n",
    "df2 = pd.merge(df2, df_backup, on='invoice_no', how='left')\n",
    "\n",
    "# coalesce\n",
    "df2['customer_id'] = df2['customer_id_x'].combine_first(df2['customer_id_y'])\n",
    "\n",
    "# drop extra columns\n",
    "df2 = df2.drop(columns=['customer_id_x', 'customer_id_y'], axis=1)"
   ]
  },
  {
   "cell_type": "code",
   "execution_count": 14,
   "id": "746a7529-1bff-496f-ad40-d8286e9c800f",
   "metadata": {
    "ExecuteTime": {
     "end_time": "2023-05-07T17:56:28.765781Z",
     "start_time": "2023-05-07T17:56:28.548314Z"
    },
    "hidden": true,
    "scrolled": true
   },
   "outputs": [
    {
     "data": {
      "text/plain": [
       "invoice_no         0\n",
       "stock_code         0\n",
       "description     1454\n",
       "quantity           0\n",
       "invoice_date       0\n",
       "unit_price         0\n",
       "country            0\n",
       "customer_id        0\n",
       "dtype: int64"
      ]
     },
     "execution_count": 14,
     "metadata": {},
     "output_type": "execute_result"
    }
   ],
   "source": [
    "df2.isna().sum()"
   ]
  },
  {
   "cell_type": "code",
   "execution_count": 15,
   "id": "c21e3dab-87ec-4596-95f6-8cc40184315e",
   "metadata": {
    "ExecuteTime": {
     "end_time": "2023-05-07T17:56:29.248451Z",
     "start_time": "2023-05-07T17:56:29.141201Z"
    },
    "hidden": true
   },
   "outputs": [
    {
     "name": "stdout",
     "output_type": "stream",
     "text": [
      "Removed data: 0.00\n"
     ]
    }
   ],
   "source": [
    "df2.dropna(subset=['description', 'customer_id'], inplace=True)\n",
    "print(f'Removed data: {1-(df2.shape[0]/df1.shape[0]):.2f}')"
   ]
  },
  {
   "cell_type": "code",
   "execution_count": 16,
   "id": "7f5bb75f-2518-4bd7-9dc4-5c818173eee5",
   "metadata": {
    "ExecuteTime": {
     "end_time": "2023-05-07T17:56:30.028630Z",
     "start_time": "2023-05-07T17:56:29.811110Z"
    },
    "hidden": true
   },
   "outputs": [
    {
     "data": {
      "text/plain": [
       "invoice_no      0\n",
       "stock_code      0\n",
       "description     0\n",
       "quantity        0\n",
       "invoice_date    0\n",
       "unit_price      0\n",
       "country         0\n",
       "customer_id     0\n",
       "dtype: int64"
      ]
     },
     "execution_count": 16,
     "metadata": {},
     "output_type": "execute_result"
    }
   ],
   "source": [
    "df2.isna().sum()"
   ]
  },
  {
   "cell_type": "markdown",
   "id": "da2cf976-1e11-4751-9d71-e6ed73c93071",
   "metadata": {
    "hidden": true
   },
   "source": [
    "## 2.3 Changing Dtypes"
   ]
  },
  {
   "cell_type": "code",
   "execution_count": 17,
   "id": "5560c80e-0d0c-4e02-98f8-8ee408ea647b",
   "metadata": {
    "ExecuteTime": {
     "end_time": "2023-05-07T17:56:30.238186Z",
     "start_time": "2023-05-07T17:56:30.200290Z"
    },
    "hidden": true
   },
   "outputs": [],
   "source": [
    "# Invoice Date\n",
    "df2['invoice_date'] = pd.to_datetime(df2['invoice_date'], format='%d-%b-%y')\n",
    "\n",
    "# Customer ID\n",
    "df2['customer_id'] = df2['customer_id'].astype(int)"
   ]
  },
  {
   "cell_type": "code",
   "execution_count": 18,
   "id": "dc946274-9ba0-44a6-8846-15ad54cdad03",
   "metadata": {
    "ExecuteTime": {
     "end_time": "2023-05-07T17:56:30.385127Z",
     "start_time": "2023-05-07T17:56:30.381117Z"
    },
    "hidden": true
   },
   "outputs": [
    {
     "data": {
      "text/plain": [
       "invoice_no              object\n",
       "stock_code              object\n",
       "description             object\n",
       "quantity                 int64\n",
       "invoice_date    datetime64[ns]\n",
       "unit_price             float64\n",
       "country                 object\n",
       "customer_id              int64\n",
       "dtype: object"
      ]
     },
     "execution_count": 18,
     "metadata": {},
     "output_type": "execute_result"
    }
   ],
   "source": [
    "df2.dtypes"
   ]
  },
  {
   "cell_type": "markdown",
   "id": "e313905c-e6cc-4917-9d88-02d917fdce4d",
   "metadata": {
    "hidden": true
   },
   "source": [
    "## 2.4 Drop Duplicates"
   ]
  },
  {
   "cell_type": "code",
   "execution_count": 19,
   "id": "e347a13b-a89c-4ad5-b8f0-10d59df6823d",
   "metadata": {
    "ExecuteTime": {
     "end_time": "2023-05-07T17:56:30.767654Z",
     "start_time": "2023-05-07T17:56:30.758685Z"
    },
    "hidden": true
   },
   "outputs": [
    {
     "data": {
      "text/html": [
       "<div>\n",
       "<style scoped>\n",
       "    .dataframe tbody tr th:only-of-type {\n",
       "        vertical-align: middle;\n",
       "    }\n",
       "\n",
       "    .dataframe tbody tr th {\n",
       "        vertical-align: top;\n",
       "    }\n",
       "\n",
       "    .dataframe thead th {\n",
       "        text-align: right;\n",
       "    }\n",
       "</style>\n",
       "<table border=\"1\" class=\"dataframe\">\n",
       "  <thead>\n",
       "    <tr style=\"text-align: right;\">\n",
       "      <th></th>\n",
       "      <th>customer_id</th>\n",
       "    </tr>\n",
       "  </thead>\n",
       "  <tbody>\n",
       "    <tr>\n",
       "      <th>0</th>\n",
       "      <td>17850</td>\n",
       "    </tr>\n",
       "    <tr>\n",
       "      <th>1</th>\n",
       "      <td>13047</td>\n",
       "    </tr>\n",
       "    <tr>\n",
       "      <th>2</th>\n",
       "      <td>12583</td>\n",
       "    </tr>\n",
       "    <tr>\n",
       "      <th>3</th>\n",
       "      <td>13748</td>\n",
       "    </tr>\n",
       "    <tr>\n",
       "      <th>4</th>\n",
       "      <td>15100</td>\n",
       "    </tr>\n",
       "  </tbody>\n",
       "</table>\n",
       "</div>"
      ],
      "text/plain": [
       "   customer_id\n",
       "0        17850\n",
       "1        13047\n",
       "2        12583\n",
       "3        13748\n",
       "4        15100"
      ]
     },
     "execution_count": 19,
     "metadata": {},
     "output_type": "execute_result"
    }
   ],
   "source": [
    "# Create DataFrame Reference\n",
    "\n",
    "df_ref = df2.drop(['invoice_no', 'stock_code', 'description', \n",
    "                   'quantity', 'invoice_date', 'unit_price', \n",
    "                   'country'], axis=1).drop_duplicates(ignore_index=True)\n",
    "df_ref.head()"
   ]
  },
  {
   "cell_type": "markdown",
   "id": "72d7dbb0-8699-4e4f-8b02-fe20c2ef0c21",
   "metadata": {
    "hidden": true
   },
   "source": [
    "## 2.5 Descriptive Statistics"
   ]
  },
  {
   "cell_type": "markdown",
   "id": "7bd742d7-4430-48bc-bfe0-ae05fedc0ba2",
   "metadata": {
    "hidden": true
   },
   "source": [
    "### 2.5.1. Numerical Features"
   ]
  },
  {
   "cell_type": "code",
   "execution_count": 20,
   "id": "5b117bdf-4f34-48aa-accb-f49f9e3a0443",
   "metadata": {
    "ExecuteTime": {
     "end_time": "2023-05-07T17:56:31.343178Z",
     "start_time": "2023-05-07T17:56:31.333802Z"
    },
    "hidden": true,
    "hide_input": true
   },
   "outputs": [],
   "source": [
    "num_cols = df2.select_dtypes(include=['number'])\n",
    "cat_cols = df2.select_dtypes(exclude=['number', 'datetime64[ns]'])"
   ]
  },
  {
   "cell_type": "code",
   "execution_count": 21,
   "id": "ea616080-b63c-4b6e-b1ad-0f500be435e6",
   "metadata": {
    "ExecuteTime": {
     "end_time": "2023-05-07T17:56:31.588211Z",
     "start_time": "2023-05-07T17:56:31.547000Z"
    },
    "hidden": true,
    "hide_input": true
   },
   "outputs": [
    {
     "data": {
      "text/html": [
       "<div>\n",
       "<style scoped>\n",
       "    .dataframe tbody tr th:only-of-type {\n",
       "        vertical-align: middle;\n",
       "    }\n",
       "\n",
       "    .dataframe tbody tr th {\n",
       "        vertical-align: top;\n",
       "    }\n",
       "\n",
       "    .dataframe thead th {\n",
       "        text-align: right;\n",
       "    }\n",
       "</style>\n",
       "<table border=\"1\" class=\"dataframe\">\n",
       "  <thead>\n",
       "    <tr style=\"text-align: right;\">\n",
       "      <th></th>\n",
       "      <th>attributes</th>\n",
       "      <th>min</th>\n",
       "      <th>max</th>\n",
       "      <th>range</th>\n",
       "      <th>mean</th>\n",
       "      <th>median</th>\n",
       "      <th>std</th>\n",
       "      <th>skew</th>\n",
       "      <th>kurtosis</th>\n",
       "    </tr>\n",
       "  </thead>\n",
       "  <tbody>\n",
       "    <tr>\n",
       "      <th>0</th>\n",
       "      <td>quantity</td>\n",
       "      <td>-80995.00</td>\n",
       "      <td>80995.00</td>\n",
       "      <td>161990.00</td>\n",
       "      <td>9.60</td>\n",
       "      <td>3.00</td>\n",
       "      <td>218.01</td>\n",
       "      <td>-0.28</td>\n",
       "      <td>120252.45</td>\n",
       "    </tr>\n",
       "    <tr>\n",
       "      <th>1</th>\n",
       "      <td>unit_price</td>\n",
       "      <td>-11062.06</td>\n",
       "      <td>38970.00</td>\n",
       "      <td>50032.06</td>\n",
       "      <td>4.62</td>\n",
       "      <td>2.08</td>\n",
       "      <td>96.89</td>\n",
       "      <td>186.26</td>\n",
       "      <td>58848.02</td>\n",
       "    </tr>\n",
       "    <tr>\n",
       "      <th>2</th>\n",
       "      <td>customer_id</td>\n",
       "      <td>12346.00</td>\n",
       "      <td>22709.00</td>\n",
       "      <td>10363.00</td>\n",
       "      <td>16678.15</td>\n",
       "      <td>16241.00</td>\n",
       "      <td>2907.57</td>\n",
       "      <td>0.49</td>\n",
       "      <td>-0.79</td>\n",
       "    </tr>\n",
       "  </tbody>\n",
       "</table>\n",
       "</div>"
      ],
      "text/plain": [
       "    attributes       min      max     range     mean   median     std   skew  kurtosis\n",
       "0     quantity -80995.00 80995.00 161990.00     9.60     3.00  218.01  -0.28 120252.45\n",
       "1   unit_price -11062.06 38970.00  50032.06     4.62     2.08   96.89 186.26  58848.02\n",
       "2  customer_id  12346.00 22709.00  10363.00 16678.15 16241.00 2907.57   0.49     -0.79"
      ]
     },
     "execution_count": 21,
     "metadata": {},
     "output_type": "execute_result"
    }
   ],
   "source": [
    "# Central Tendency - mean, median\n",
    "ct1 = pd.DataFrame(num_cols.apply(np.mean)).T\n",
    "ct2 = pd.DataFrame(num_cols.apply(np.median)).T\n",
    "\n",
    "\n",
    "#  Dispersion - Desvio Padrão, minimo, máximo, range, skew, kurtosis\n",
    "d1 = pd.DataFrame(num_cols.apply(np.std)).T\n",
    "d2 = pd.DataFrame(num_cols.apply(np.min)).T\n",
    "d3 = pd.DataFrame(num_cols.apply(np.max)).T\n",
    "d4 = pd.DataFrame(num_cols.apply(lambda x: x.max() - x.min())).T\n",
    "d5 = pd.DataFrame(num_cols.apply(lambda x: x.skew())).T\n",
    "d6 = pd.DataFrame(num_cols.apply(lambda x: x.kurtosis())).T\n",
    "\n",
    "# Concat\n",
    "descriptive = pd.concat([d2, d3, d4, ct1, ct2, d1, d5, d6]).T.reset_index()\n",
    "descriptive.columns = ['attributes', 'min', 'max', 'range', 'mean', 'median', 'std', 'skew', 'kurtosis']\n",
    "descriptive"
   ]
  },
  {
   "cell_type": "markdown",
   "id": "e32c433e-7c86-441f-84e5-15a42db1cca0",
   "metadata": {
    "hidden": true
   },
   "source": [
    "Investigar:\n",
    "1. Quantidade negativa: pode significar \"devolução\"\n",
    "2. Preço unitário igual a zero: pode ser promoção\n"
   ]
  },
  {
   "cell_type": "markdown",
   "id": "6571a623-276d-41d6-8daf-46a4114cd725",
   "metadata": {
    "hidden": true
   },
   "source": [
    "### 2.5.1. Categorical Features"
   ]
  },
  {
   "cell_type": "markdown",
   "id": "a30aa13d-7fb3-4c56-9a4b-6770db98fb09",
   "metadata": {
    "hidden": true
   },
   "source": [
    "#### Invoice No\n",
    "Problema: detectamos que Invoice_no apresenta letras além de números. Precisamos converter para inteiro."
   ]
  },
  {
   "cell_type": "code",
   "execution_count": 22,
   "id": "5891a14c-9ffa-4847-857c-ca331dce3bf8",
   "metadata": {
    "ExecuteTime": {
     "end_time": "2023-05-07T17:56:38.568318Z",
     "start_time": "2023-05-07T17:56:38.255057Z"
    },
    "hidden": true
   },
   "outputs": [
    {
     "name": "stdout",
     "output_type": "stream",
     "text": [
      "Número total de transações: 9291\n",
      "Número total de quantidades negativas: 9762\n"
     ]
    }
   ],
   "source": [
    "df_invoices_cat = cat_cols.loc[cat_cols['invoice_no'].apply(lambda x: bool(re.search('[^0-9+]', x))), 'invoice_no']\n",
    "\n",
    "# o regex acima procura necessariamente por CARACTERES != de numeros (^) sendo 1 ou mais caracteres.\n",
    "\n",
    "print(f'Número total de transações: {df_invoices_cat.shape[0]}')\n",
    "print(f'Número total de quantidades negativas: {df2.loc[df2[\"quantity\"] < 0].shape[0]}')"
   ]
  },
  {
   "cell_type": "markdown",
   "id": "a1d6458e-9e52-4c23-9902-cb6650324a2b",
   "metadata": {
    "hidden": true
   },
   "source": [
    "Podemos assumir que quando há uma letra no \"invoice_no\" significa que esta transação foi retornada ou cancelada. A letra \"C\" provalmente é um indicativo de _charge back_ (\"estorno\", em inglês)."
   ]
  },
  {
   "cell_type": "markdown",
   "id": "94db7e81-3298-4b73-aba3-a791b4c56608",
   "metadata": {
    "hidden": true
   },
   "source": [
    "#### Stock Code\n",
    "Não sabemos o que significam essas siglas, por isso iremos removê-las nesse primeiro momento."
   ]
  },
  {
   "cell_type": "code",
   "execution_count": 23,
   "id": "e3dcba4e-3b6c-4568-8ff5-9855f33a4fe3",
   "metadata": {
    "ExecuteTime": {
     "end_time": "2023-05-07T17:56:39.450063Z",
     "start_time": "2023-05-07T17:56:39.071795Z"
    },
    "hidden": true
   },
   "outputs": [
    {
     "data": {
      "text/plain": [
       "array(['POST', 'D', 'DOT', 'M', 'S', 'AMAZONFEE', 'm', 'DCGSSBOY',\n",
       "       'DCGSSGIRL', 'PADS', 'B', 'CRUK'], dtype=object)"
      ]
     },
     "execution_count": 23,
     "metadata": {},
     "output_type": "execute_result"
    }
   ],
   "source": [
    "# Stock Code\n",
    "\n",
    "cat_cols.loc[cat_cols['stock_code'].apply(lambda x: bool(re.search('^[a-zA-Z]+$', x))), 'stock_code'].unique()\n",
    "\n",
    "# O regex acima procura por strings que DEVEM começar com uma letra(^), e DEVEM terminar ($) com uma letra OU MAIS (+)"
   ]
  },
  {
   "cell_type": "markdown",
   "id": "8fb07006-e441-44ec-8318-d39d88c56924",
   "metadata": {
    "hidden": true
   },
   "source": [
    "#### Description\n",
    "Iremos também deletar a variável description, por não apresentar informações relevantes neste primeiro momento."
   ]
  },
  {
   "cell_type": "code",
   "execution_count": 24,
   "id": "462a5469-7acc-4bfd-80bf-fdbd24eee22c",
   "metadata": {
    "ExecuteTime": {
     "end_time": "2023-05-07T17:56:39.527665Z",
     "start_time": "2023-05-07T17:56:39.490706Z"
    },
    "hidden": true
   },
   "outputs": [
    {
     "data": {
      "text/plain": [
       "array(['WHITE HANGING HEART T-LIGHT HOLDER', 'WHITE METAL LANTERN',\n",
       "       'CREAM CUPID HEARTS COAT HANGER', ..., 'lost',\n",
       "       'CREAM HANGING HEART T-LIGHT HOLDER',\n",
       "       'PAPER CRAFT , LITTLE BIRDIE'], dtype=object)"
      ]
     },
     "execution_count": 24,
     "metadata": {},
     "output_type": "execute_result"
    }
   ],
   "source": [
    "df2['description'].unique()"
   ]
  },
  {
   "cell_type": "markdown",
   "id": "8623ae1b-464a-4dfa-b5fd-9ad6e421839c",
   "metadata": {
    "hidden": true
   },
   "source": [
    "#### Country\n",
    "Uma das formas de avaliar uma região, é observar o quão representativo cada uma delas é em nosso dataset. Vamos observar a seguir:"
   ]
  },
  {
   "cell_type": "code",
   "execution_count": 25,
   "id": "cc6f1655-569d-4767-a3dc-efd774a5f557",
   "metadata": {
    "ExecuteTime": {
     "end_time": "2023-05-07T17:56:39.859092Z",
     "start_time": "2023-05-07T17:56:39.841949Z"
    },
    "hidden": true
   },
   "outputs": [
    {
     "data": {
      "text/plain": [
       "array(['United Kingdom', 'France', 'Australia', 'Netherlands', 'Germany',\n",
       "       'Norway', 'EIRE', 'Switzerland', 'Spain', 'Poland', 'Portugal',\n",
       "       'Italy', 'Belgium', 'Lithuania', 'Japan', 'Iceland',\n",
       "       'Channel Islands', 'Denmark', 'Cyprus', 'Sweden', 'Austria',\n",
       "       'Israel', 'Finland', 'Bahrain', 'Greece', 'Hong Kong', 'Singapore',\n",
       "       'Lebanon', 'United Arab Emirates', 'Saudi Arabia',\n",
       "       'Czech Republic', 'Canada', 'Unspecified', 'Brazil', 'USA',\n",
       "       'European Community', 'Malta', 'RSA'], dtype=object)"
      ]
     },
     "execution_count": 25,
     "metadata": {},
     "output_type": "execute_result"
    }
   ],
   "source": [
    "df2['country'].unique()"
   ]
  },
  {
   "cell_type": "code",
   "execution_count": 26,
   "id": "cb0b6ca3-6f3d-4961-a10b-bdad40837fb8",
   "metadata": {
    "ExecuteTime": {
     "end_time": "2023-05-07T17:56:40.050725Z",
     "start_time": "2023-05-07T17:56:40.021388Z"
    },
    "hidden": true
   },
   "outputs": [
    {
     "data": {
      "text/html": [
       "<div>\n",
       "<style scoped>\n",
       "    .dataframe tbody tr th:only-of-type {\n",
       "        vertical-align: middle;\n",
       "    }\n",
       "\n",
       "    .dataframe tbody tr th {\n",
       "        vertical-align: top;\n",
       "    }\n",
       "\n",
       "    .dataframe thead th {\n",
       "        text-align: right;\n",
       "    }\n",
       "</style>\n",
       "<table border=\"1\" class=\"dataframe\">\n",
       "  <thead>\n",
       "    <tr style=\"text-align: right;\">\n",
       "      <th></th>\n",
       "      <th>country</th>\n",
       "      <th>proportion</th>\n",
       "    </tr>\n",
       "  </thead>\n",
       "  <tbody>\n",
       "    <tr>\n",
       "      <th>0</th>\n",
       "      <td>United Kingdom</td>\n",
       "      <td>0.91</td>\n",
       "    </tr>\n",
       "    <tr>\n",
       "      <th>1</th>\n",
       "      <td>Germany</td>\n",
       "      <td>0.02</td>\n",
       "    </tr>\n",
       "    <tr>\n",
       "      <th>2</th>\n",
       "      <td>France</td>\n",
       "      <td>0.02</td>\n",
       "    </tr>\n",
       "    <tr>\n",
       "      <th>3</th>\n",
       "      <td>EIRE</td>\n",
       "      <td>0.02</td>\n",
       "    </tr>\n",
       "    <tr>\n",
       "      <th>4</th>\n",
       "      <td>Spain</td>\n",
       "      <td>0.00</td>\n",
       "    </tr>\n",
       "    <tr>\n",
       "      <th>5</th>\n",
       "      <td>Netherlands</td>\n",
       "      <td>0.00</td>\n",
       "    </tr>\n",
       "    <tr>\n",
       "      <th>6</th>\n",
       "      <td>Belgium</td>\n",
       "      <td>0.00</td>\n",
       "    </tr>\n",
       "    <tr>\n",
       "      <th>7</th>\n",
       "      <td>Switzerland</td>\n",
       "      <td>0.00</td>\n",
       "    </tr>\n",
       "    <tr>\n",
       "      <th>8</th>\n",
       "      <td>Portugal</td>\n",
       "      <td>0.00</td>\n",
       "    </tr>\n",
       "    <tr>\n",
       "      <th>9</th>\n",
       "      <td>Australia</td>\n",
       "      <td>0.00</td>\n",
       "    </tr>\n",
       "  </tbody>\n",
       "</table>\n",
       "</div>"
      ],
      "text/plain": [
       "          country  proportion\n",
       "0  United Kingdom        0.91\n",
       "1         Germany        0.02\n",
       "2          France        0.02\n",
       "3            EIRE        0.02\n",
       "4           Spain        0.00\n",
       "5     Netherlands        0.00\n",
       "6         Belgium        0.00\n",
       "7     Switzerland        0.00\n",
       "8        Portugal        0.00\n",
       "9       Australia        0.00"
      ]
     },
     "execution_count": 26,
     "metadata": {},
     "output_type": "execute_result"
    }
   ],
   "source": [
    "df2['country'].value_counts(normalize=True).reset_index().head(10)"
   ]
  },
  {
   "cell_type": "markdown",
   "id": "f40e984b-1a93-4d10-b448-cd89c6f1f89b",
   "metadata": {
    "hidden": true
   },
   "source": [
    "Podemos visualizar também a quantidade de clientes únicos por país. Vamos visualizar os 10 países com mais clientes:"
   ]
  },
  {
   "cell_type": "code",
   "execution_count": 27,
   "id": "94d712ca-ebd4-4bb4-9300-1b214859cbd7",
   "metadata": {
    "ExecuteTime": {
     "end_time": "2023-05-07T17:56:40.416258Z",
     "start_time": "2023-05-07T17:56:40.383155Z"
    },
    "hidden": true
   },
   "outputs": [
    {
     "data": {
      "text/html": [
       "<div>\n",
       "<style scoped>\n",
       "    .dataframe tbody tr th:only-of-type {\n",
       "        vertical-align: middle;\n",
       "    }\n",
       "\n",
       "    .dataframe tbody tr th {\n",
       "        vertical-align: top;\n",
       "    }\n",
       "\n",
       "    .dataframe thead th {\n",
       "        text-align: right;\n",
       "    }\n",
       "</style>\n",
       "<table border=\"1\" class=\"dataframe\">\n",
       "  <thead>\n",
       "    <tr style=\"text-align: right;\">\n",
       "      <th></th>\n",
       "      <th>country</th>\n",
       "      <th>customer_id</th>\n",
       "    </tr>\n",
       "  </thead>\n",
       "  <tbody>\n",
       "    <tr>\n",
       "      <th>36</th>\n",
       "      <td>United Kingdom</td>\n",
       "      <td>6133</td>\n",
       "    </tr>\n",
       "    <tr>\n",
       "      <th>14</th>\n",
       "      <td>Germany</td>\n",
       "      <td>95</td>\n",
       "    </tr>\n",
       "    <tr>\n",
       "      <th>13</th>\n",
       "      <td>France</td>\n",
       "      <td>90</td>\n",
       "    </tr>\n",
       "    <tr>\n",
       "      <th>10</th>\n",
       "      <td>EIRE</td>\n",
       "      <td>44</td>\n",
       "    </tr>\n",
       "    <tr>\n",
       "      <th>31</th>\n",
       "      <td>Spain</td>\n",
       "      <td>31</td>\n",
       "    </tr>\n",
       "    <tr>\n",
       "      <th>3</th>\n",
       "      <td>Belgium</td>\n",
       "      <td>25</td>\n",
       "    </tr>\n",
       "    <tr>\n",
       "      <th>33</th>\n",
       "      <td>Switzerland</td>\n",
       "      <td>24</td>\n",
       "    </tr>\n",
       "    <tr>\n",
       "      <th>27</th>\n",
       "      <td>Portugal</td>\n",
       "      <td>20</td>\n",
       "    </tr>\n",
       "    <tr>\n",
       "      <th>19</th>\n",
       "      <td>Italy</td>\n",
       "      <td>15</td>\n",
       "    </tr>\n",
       "    <tr>\n",
       "      <th>16</th>\n",
       "      <td>Hong Kong</td>\n",
       "      <td>15</td>\n",
       "    </tr>\n",
       "  </tbody>\n",
       "</table>\n",
       "</div>"
      ],
      "text/plain": [
       "           country  customer_id\n",
       "36  United Kingdom         6133\n",
       "14         Germany           95\n",
       "13          France           90\n",
       "10            EIRE           44\n",
       "31           Spain           31\n",
       "3          Belgium           25\n",
       "33     Switzerland           24\n",
       "27        Portugal           20\n",
       "19           Italy           15\n",
       "16       Hong Kong           15"
      ]
     },
     "execution_count": 27,
     "metadata": {},
     "output_type": "execute_result"
    }
   ],
   "source": [
    "df2[['customer_id', 'country']].drop_duplicates().groupby('country').count().reset_index().sort_values(by='customer_id',ascending=False).head(10)"
   ]
  },
  {
   "cell_type": "markdown",
   "id": "3d71db2a-5504-402f-a70d-2f7cc0730019",
   "metadata": {
    "hidden": true
   },
   "source": [
    "Os 10 países com menos clientes:"
   ]
  },
  {
   "cell_type": "code",
   "execution_count": 28,
   "id": "aa223c6a-37d2-458d-a9ec-ae7e0fbeec1c",
   "metadata": {
    "ExecuteTime": {
     "end_time": "2023-05-07T17:56:40.980117Z",
     "start_time": "2023-05-07T17:56:40.947247Z"
    },
    "hidden": true,
    "scrolled": true
   },
   "outputs": [
    {
     "data": {
      "text/html": [
       "<div>\n",
       "<style scoped>\n",
       "    .dataframe tbody tr th:only-of-type {\n",
       "        vertical-align: middle;\n",
       "    }\n",
       "\n",
       "    .dataframe tbody tr th {\n",
       "        vertical-align: top;\n",
       "    }\n",
       "\n",
       "    .dataframe thead th {\n",
       "        text-align: right;\n",
       "    }\n",
       "</style>\n",
       "<table border=\"1\" class=\"dataframe\">\n",
       "  <thead>\n",
       "    <tr style=\"text-align: right;\">\n",
       "      <th></th>\n",
       "      <th>country</th>\n",
       "      <th>customer_id</th>\n",
       "    </tr>\n",
       "  </thead>\n",
       "  <tbody>\n",
       "    <tr>\n",
       "      <th>35</th>\n",
       "      <td>United Arab Emirates</td>\n",
       "      <td>2</td>\n",
       "    </tr>\n",
       "    <tr>\n",
       "      <th>8</th>\n",
       "      <td>Czech Republic</td>\n",
       "      <td>1</td>\n",
       "    </tr>\n",
       "    <tr>\n",
       "      <th>22</th>\n",
       "      <td>Lithuania</td>\n",
       "      <td>1</td>\n",
       "    </tr>\n",
       "    <tr>\n",
       "      <th>11</th>\n",
       "      <td>European Community</td>\n",
       "      <td>1</td>\n",
       "    </tr>\n",
       "    <tr>\n",
       "      <th>21</th>\n",
       "      <td>Lebanon</td>\n",
       "      <td>1</td>\n",
       "    </tr>\n",
       "    <tr>\n",
       "      <th>28</th>\n",
       "      <td>RSA</td>\n",
       "      <td>1</td>\n",
       "    </tr>\n",
       "    <tr>\n",
       "      <th>29</th>\n",
       "      <td>Saudi Arabia</td>\n",
       "      <td>1</td>\n",
       "    </tr>\n",
       "    <tr>\n",
       "      <th>30</th>\n",
       "      <td>Singapore</td>\n",
       "      <td>1</td>\n",
       "    </tr>\n",
       "    <tr>\n",
       "      <th>17</th>\n",
       "      <td>Iceland</td>\n",
       "      <td>1</td>\n",
       "    </tr>\n",
       "    <tr>\n",
       "      <th>4</th>\n",
       "      <td>Brazil</td>\n",
       "      <td>1</td>\n",
       "    </tr>\n",
       "  </tbody>\n",
       "</table>\n",
       "</div>"
      ],
      "text/plain": [
       "                 country  customer_id\n",
       "35  United Arab Emirates            2\n",
       "8         Czech Republic            1\n",
       "22             Lithuania            1\n",
       "11    European Community            1\n",
       "21               Lebanon            1\n",
       "28                   RSA            1\n",
       "29          Saudi Arabia            1\n",
       "30             Singapore            1\n",
       "17               Iceland            1\n",
       "4                 Brazil            1"
      ]
     },
     "execution_count": 28,
     "metadata": {},
     "output_type": "execute_result"
    }
   ],
   "source": [
    "df2[['customer_id', 'country']].drop_duplicates().groupby('country').count().reset_index().sort_values(by='customer_id',ascending=False).tail(10)"
   ]
  },
  {
   "cell_type": "code",
   "execution_count": 29,
   "id": "9c18d042-ad91-4d03-ae66-5e83fd916e73",
   "metadata": {},
   "outputs": [
    {
     "name": "stdout",
     "output_type": "stream",
     "text": [
      "-80995 80995\n",
      "(9762, 8)\n",
      "(530693, 8)\n",
      "(0, 8)\n",
      "(540455, 8)\n"
     ]
    }
   ],
   "source": [
    "print(df2['quantity'].min(), df2['quantity'].max())\n",
    "print(df2[df2['quantity'] < 0].shape)\n",
    "print(df2[df2['quantity'] > 0].shape)\n",
    "print(df2[df2['quantity'] == 0].shape)\n",
    "print(df2.shape)"
   ]
  },
  {
   "cell_type": "code",
   "execution_count": 30,
   "id": "e0262214-90fa-4db2-a802-9f8eb8e7b510",
   "metadata": {},
   "outputs": [],
   "source": [
    "df2_country_count = df2[['customer_id', 'country']].drop_duplicates().groupby('country').count().reset_index().sort_values(by='customer_id',ascending=False).rename(columns={'customer_id':'qt_customers'})"
   ]
  },
  {
   "cell_type": "code",
   "execution_count": 31,
   "id": "7a4507f7-18bd-4a4d-89fd-2a1f37f83a9c",
   "metadata": {},
   "outputs": [
    {
     "data": {
      "image/png": "[encoded data removed]",
      "text/plain": [
       "<Figure size 1200x600 with 1 Axes>"
      ]
     },
     "metadata": {},
     "output_type": "display_data"
    }
   ],
   "source": [
    "sns.barplot(data=df2_country_count[df2_country_count['qt_customers'] > 10], x='qt_customers', y='country');"
   ]
  },
  {
   "cell_type": "markdown",
   "id": "dcb2e016-3977-4028-93d9-520345b92767",
   "metadata": {},
   "source": [
    "Seguiremos as análises filtrando apenas os clientes do Reino Unido (\"United Kingdom\"), pela discrepância em relação a todo o resto."
   ]
  },
  {
   "cell_type": "markdown",
   "id": "d93b4e99-bdf0-4f25-8105-c86e1ad0db84",
   "metadata": {
    "heading_collapsed": true,
    "jp-MarkdownHeadingCollapsed": true,
    "tags": []
   },
   "source": [
    "# 3.0 Feature Filtering"
   ]
  },
  {
   "cell_type": "markdown",
   "id": "f23fe95e-5ce6-43f2-8340-78bf20c7f742",
   "metadata": {
    "hidden": true
   },
   "source": [
    "Aqui tomaremos as ações decididas na seção anterior para selecionar da melhor forma as nossas features para análise."
   ]
  },
  {
   "cell_type": "code",
   "execution_count": 32,
   "id": "f4d49364-476a-496d-a4c6-ba55354ae24a",
   "metadata": {
    "ExecuteTime": {
     "end_time": "2023-05-07T17:56:42.285509Z",
     "start_time": "2023-05-07T17:56:42.277956Z"
    },
    "hidden": true
   },
   "outputs": [],
   "source": [
    "df3 = df2.copy()"
   ]
  },
  {
   "cell_type": "code",
   "execution_count": 33,
   "id": "5b5a83d6-3318-4243-b431-cfaa1f07436d",
   "metadata": {
    "ExecuteTime": {
     "end_time": "2023-05-07T17:56:43.140147Z",
     "start_time": "2023-05-07T17:56:43.004679Z"
    },
    "hidden": true
   },
   "outputs": [],
   "source": [
    "###### Numerical Cols ######\n",
    "df3 = df3.loc[df3['unit_price'] > 0.04, :]\n",
    "\n",
    "\n",
    "###### Categorical Cols ######\n",
    "df3 = df3.loc[~df3['stock_code'].isin(['POST', 'D', 'DOT', 'M', 'S', 'AMAZONFEE', 'm', 'DCGSSBOY','DCGSSGIRL', 'PADS', 'B', 'CRUK'])]\n",
    "\n",
    "\n",
    "# Description\n",
    "df3 = df3.drop(columns='description', axis=1)\n",
    "\n",
    "\n",
    "# Map\n",
    "df3 = df3[df3['country'].isin(['United Kingdom'])]\n",
    "# df3 = df3[~df3['country'].isin(['European Community', 'Unspecified'])]\n",
    "\n",
    "\n",
    "# Bad Users - Atualizado após Análise Univariada\n",
    "df3 = df3[~df3['customer_id'].isin([16464])]\n",
    "\n",
    "# Quantity - negative numbers means product returns\n",
    "df3_returns = df3.loc[df3['quantity'] < 0, :]\n",
    "df3_purchases = df3.loc[df3['quantity'] > 0, :]\n"
   ]
  },
  {
   "cell_type": "markdown",
   "id": "0c9576ed-d77e-491a-b550-385b6c576c15",
   "metadata": {
    "heading_collapsed": true,
    "jp-MarkdownHeadingCollapsed": true,
    "tags": [],
    "toc-hr-collapsed": true
   },
   "source": [
    "# 4.0 Feature Engineering"
   ]
  },
  {
   "cell_type": "markdown",
   "id": "a5d1c97c-f8e4-4c9f-a1e1-9f5df3886f64",
   "metadata": {
    "hidden": true
   },
   "source": [
    "- Algumas ideias:\n",
    "    \n",
    "    - Moving average: 7d, 14d, 30d\n",
    "    - Quantidade de compras por mês: antes do dia 15 e depois do 15;\n",
    "    - Average Financial\n",
    "    - Basket Size * Price: Quantidade de preços por cesta\n",
    "    \n"
   ]
  },
  {
   "cell_type": "code",
   "execution_count": 34,
   "id": "14b20185",
   "metadata": {},
   "outputs": [
    {
     "data": {
      "text/plain": [
       "((7387, 7), (483761, 7), (491148, 7))"
      ]
     },
     "execution_count": 34,
     "metadata": {},
     "output_type": "execute_result"
    }
   ],
   "source": [
    "df3_returns.shape, df3_purchases.shape, df3.shape"
   ]
  },
  {
   "cell_type": "code",
   "execution_count": 35,
   "id": "36230ea6-5ebc-427a-ba89-9a1e9ada955b",
   "metadata": {
    "ExecuteTime": {
     "end_time": "2023-05-07T17:56:45.536423Z",
     "start_time": "2023-05-07T17:56:45.519730Z"
    },
    "hidden": true
   },
   "outputs": [],
   "source": [
    "df4 = df3.copy()"
   ]
  },
  {
   "cell_type": "code",
   "execution_count": 36,
   "id": "dfbfd9d2-1f96-4518-84d1-c2b3bcfeb766",
   "metadata": {
    "ExecuteTime": {
     "end_time": "2023-05-07T17:56:45.810483Z",
     "start_time": "2023-05-07T17:56:45.801243Z"
    },
    "hidden": true
   },
   "outputs": [],
   "source": [
    "# data reference\n",
    "df_ref = df4.drop(['invoice_no', 'stock_code', 'quantity', 'invoice_date', 'unit_price', 'country'], axis=1).drop_duplicates(ignore_index=True)"
   ]
  },
  {
   "cell_type": "code",
   "execution_count": 37,
   "id": "00494870",
   "metadata": {},
   "outputs": [],
   "source": [
    "def create_features(df):\n",
    "    \"\"\"\n",
    "    Adds features to train set.   \n",
    "    \"\"\"\n",
    "    \n",
    "    df_ref = df.drop(['invoice_no', 'stock_code', 'quantity', 'invoice_date', 'unit_price', 'country'], axis=1).drop_duplicates(ignore_index=True)    \n",
    "    \n",
    "    # Gross Revenue (Faturamento = Quantidade * Preço)\n",
    "    df['gross_revenue'] = df['quantity'] * df['unit_price']\n",
    "    # Monetary\n",
    "    df_monetary = df.loc[:, ['customer_id', 'gross_revenue']].groupby('customer_id').sum().reset_index().copy()\n",
    "    \n",
    "    \n",
    "    # Recency: Dia da última compra\n",
    "    df_recency = df.groupby('customer_id')['invoice_date'].max().reset_index()\n",
    "    df_recency['recency'] = (df['invoice_date'].max() - df_recency['invoice_date']).dt.days\n",
    "    df_recency = df_recency[['customer_id', 'recency']].copy()\n",
    "    \n",
    "    \n",
    "    # Frequency - Contagem do número de compras feitas pelo cliente\n",
    "    df_freq = (df[['customer_id', 'invoice_no']].drop_duplicates()\n",
    "                                                          .groupby('customer_id')\n",
    "                                                          .count()\n",
    "                                                          .reset_index()\n",
    "                                                          .astype(int)\n",
    "                                                          .rename(columns={'invoice_no':'frequency'}))\n",
    "    \n",
    "    # Freq Quantity items\n",
    "    df_freq2 = (df[['customer_id', 'quantity']].groupby('customer_id').sum()\n",
    "                                                    .reset_index()\n",
    "                                                    .rename(columns={'quantity':'qtde_items'}))\n",
    "    \n",
    "    df_freq3 = (df[['customer_id', 'stock_code']].groupby('customer_id').count()\n",
    "                                                .reset_index()\n",
    "                                                .rename(columns={'stock_code':'qtde_products'}))\n",
    "    \n",
    "    # Avg Ticket - Ticket Médio\n",
    "    df_avg_ticket = (df[['customer_id', 'gross_revenue']].groupby('customer_id')\n",
    "                                                         .mean()\n",
    "                                                         .reset_index()\n",
    "                                                         .rename(columns={'gross_revenue':'avg_ticket'}))\n",
    "\n",
    "\n",
    "    df_aux49 = (df.loc[:, ['customer_id', 'invoice_no', 'quantity']].groupby('customer_id') \\\n",
    "                                                                              .agg(n_purchase=('invoice_no', 'nunique'),\n",
    "                                                                               n_products=('quantity', 'sum')) \\\n",
    "                                                                              .reset_index())\n",
    "    serie_49 = df_aux49['n_products'] / df_aux49['n_purchase']\n",
    "    df_aux49['avg_basket_size'] = serie_49\n",
    "\n",
    "    df_aux410 = (df.loc[:, ['customer_id', 'invoice_no', 'stock_code']].groupby('customer_id') \\\n",
    "                                                                          .agg(n_purchase=('invoice_no', 'nunique'),\n",
    "                                                                               n_products=('stock_code', 'nunique')) \\\n",
    "                                                                          .reset_index())\n",
    "    serie_410 = df_aux410['n_products'] / df_aux410['n_purchase']\n",
    "    df_aux410['avg_unique_basket_size'] = serie_410\n",
    "\n",
    "    \n",
    "    df_ref = pd.merge(df_ref, df_monetary, how='left', on='customer_id')\n",
    "    df_ref = pd.merge(df_ref, df_recency, how='left', on='customer_id')\n",
    "    df_ref = pd.merge(df_ref, df_freq, how='left', on='customer_id')\n",
    "    df_ref = pd.merge(df_ref, df_freq2, how='left', on='customer_id')\n",
    "    df_ref = pd.merge(df_ref, df_freq3, how='left', on='customer_id')\n",
    "    df_ref = pd.merge(df_ref, df_avg_ticket, on='customer_id', how='left')\n",
    "    df_ref = pd.merge(df_ref, df_aux49[['customer_id', 'avg_basket_size']], how='left', on='customer_id')\n",
    "    df_ref = pd.merge(df_ref, df_aux410[['customer_id', 'avg_unique_basket_size']], how='left', on='customer_id')\n",
    "    \n",
    "    df_ref.rename(columns={'gross_revenue':'monetary',\n",
    "    #                'invoice_no':'quantity'\n",
    "                          },\n",
    "                    inplace=True)\n",
    "    \n",
    "    \n",
    "    return df_ref"
   ]
  },
  {
   "cell_type": "code",
   "execution_count": 38,
   "id": "a56e3e4b",
   "metadata": {},
   "outputs": [],
   "source": [
    "df_ref = create_features(df4)"
   ]
  },
  {
   "cell_type": "code",
   "execution_count": null,
   "id": "3786f34e",
   "metadata": {},
   "outputs": [],
   "source": []
  },
  {
   "cell_type": "markdown",
   "id": "b7d05391",
   "metadata": {
    "heading_collapsed": true,
    "jp-MarkdownHeadingCollapsed": true,
    "tags": [],
    "toc-hr-collapsed": true
   },
   "source": [
    "# 5.0 Pipeline Structure: Feature Normalization, Space Creation, Model Selection"
   ]
  },
  {
   "cell_type": "code",
   "execution_count": 95,
   "id": "a6846746",
   "metadata": {},
   "outputs": [],
   "source": [
    "X = df_ref.copy()"
   ]
  },
  {
   "cell_type": "code",
   "execution_count": 96,
   "id": "99d95163",
   "metadata": {},
   "outputs": [],
   "source": [
    "X_train = X.drop(columns='customer_id', axis=1)"
   ]
  },
  {
   "cell_type": "markdown",
   "id": "6ef4612a",
   "metadata": {
    "jp-MarkdownHeadingCollapsed": true,
    "tags": []
   },
   "source": [
    "## 5.1 PCA Optimal Number "
   ]
  },
  {
   "cell_type": "code",
   "execution_count": 50,
   "id": "7def232d",
   "metadata": {},
   "outputs": [
    {
     "name": "stdout",
     "output_type": "stream",
     "text": [
      "The optimal number of PCA's is: 8\n"
     ]
    },
    {
     "data": {
      "image/png": "[encoded data removed]",
      "text/plain": [
       "<Figure size 1200x600 with 1 Axes>"
      ]
     },
     "metadata": {},
     "output_type": "display_data"
    }
   ],
   "source": [
    "# CROSS VALIDATED - 08/02/2025\n",
    "\n",
    "# Standardize the data\n",
    "scaler = StandardScaler()\n",
    "X_train_scaled = scaler.fit_transform(X_train)\n",
    "\n",
    "# Find the optimal number of PCA \n",
    "pca = PCA(n_components=X_train_scaled.shape[1])\n",
    "pca.fit(X_train_scaled)\n",
    "ratios = pca.explained_variance_ratio_\n",
    "\n",
    "# Plot the explained variance ratios\n",
    "x = np.arange(X_train_scaled.shape[1])\n",
    "plt.plot(x, np.cumsum(ratios), '-o')\n",
    "plt.xlabel(\"Number of PCA's\")\n",
    "plt.ylabel(\"Cumulated Sum of Explained Variance\")\n",
    "plt.title(\"Variance Explained by PCA's\")\n",
    "\n",
    "# Find the optimal number of PCA's\n",
    "for i in range(np.cumsum(ratios).shape[0]):\n",
    "    if np.cumsum(ratios)[i] >= 0.99:\n",
    "        num_pca = i + 1\n",
    "        print (\"The optimal number of PCA's is: {}\".format(num_pca))\n",
    "        break\n",
    "    else:\n",
    "\n",
    "        continue"
   ]
  },
  {
   "cell_type": "code",
   "execution_count": 68,
   "id": "603d717f",
   "metadata": {},
   "outputs": [
    {
     "data": {
      "image/png": "[encoded data removed]",
      "text/plain": [
       "<Figure size 1200x600 with 1 Axes>"
      ]
     },
     "metadata": {},
     "output_type": "display_data"
    }
   ],
   "source": [
    "def myplot(score,coeff,labels=None):\n",
    "    xs = score[:,0]\n",
    "    ys = score[:,1]\n",
    "    n = coeff.shape[0]\n",
    "    scalex = 1.0/(xs.max() - xs.min())\n",
    "    scaley = 1.0/(ys.max() - ys.min())\n",
    "    plt.scatter(xs * scalex,ys * scaley, c = X_train['monetary'])\n",
    "    for i in range(n):\n",
    "        plt.arrow(0, 0, coeff[i,0], coeff[i,1],color = 'r',alpha = 0.5)\n",
    "        if labels is None:\n",
    "            plt.text(coeff[i,0]* 1.15, coeff[i,1] * 1.15, \"Var\"+str(i+1), color = 'g', ha = 'center', va = 'center')\n",
    "        else:\n",
    "            plt.text(coeff[i,0]* 1.15, coeff[i,1] * 1.15, labels[i], color = 'g', ha = 'center', va = 'center')\n",
    "plt.xlim(-1,1)\n",
    "plt.ylim(-1,1)\n",
    "plt.xlabel(\"PC{}\".format(1))\n",
    "plt.ylabel(\"PC{}\".format(2))\n",
    "plt.grid()\n",
    "\n",
    "#Call the function. Use only the 2 PCs.\n",
    "myplot(x_new[:,0:2], np.transpose(pca.components_[0:2, :]))\n",
    "plt.show()"
   ]
  },
  {
   "cell_type": "markdown",
   "id": "390dfbcc",
   "metadata": {},
   "source": [
    "PC1 explica 36.8% e PC2 19.4%."
   ]
  },
  {
   "cell_type": "markdown",
   "id": "667b94c0",
   "metadata": {},
   "source": [
    "Aqui, `pca.components_` tem as dimensões: [n_components, n_features]. Assim, olhando para o PC1, cuja linha é [[0.49257252 0.1917196  0.46215589 0.5126115  0.4154446  0.0977349  0.22774491 0.10120875]], podemos concluir que as features 1, 3, 4 e 5 são as mais importantes. Isso também fica claramente visível no biplot (é por isso que frequentemente usamos esse gráfico para resumir as informações de forma visual).\n",
    "\n",
    "Para resumir, podemos obseravr os valores absolutos dos componentes dos Autovetores correspondentes aos k maiores Autovalores. No sklearn, os componentes são classificados por `explained_variance_`. Quanto maiores forem esses valores absolutos, mais uma feature específica contribui para esse componente principal."
   ]
  },
  {
   "cell_type": "markdown",
   "id": "391d4eb6",
   "metadata": {},
   "source": [
    "As features importantes são aquelas que influenciam mais os componentes e, portanto, têm um grande valor/pontuação absoluto no componente.\n",
    "\n",
    "Para obtê-las nos PCs com nomes e salvá-los em um dataframe pandas, faremos isto:"
   ]
  },
  {
   "cell_type": "code",
   "execution_count": 91,
   "id": "97cbc0d1",
   "metadata": {
    "scrolled": true
   },
   "outputs": [
    {
     "data": {
      "text/html": [
       "<div>\n",
       "<style scoped>\n",
       "    .dataframe tbody tr th:only-of-type {\n",
       "        vertical-align: middle;\n",
       "    }\n",
       "\n",
       "    .dataframe tbody tr th {\n",
       "        vertical-align: top;\n",
       "    }\n",
       "\n",
       "    .dataframe thead th {\n",
       "        text-align: right;\n",
       "    }\n",
       "</style>\n",
       "<table border=\"1\" class=\"dataframe\">\n",
       "  <thead>\n",
       "    <tr style=\"text-align: right;\">\n",
       "      <th></th>\n",
       "      <th>monetary</th>\n",
       "      <th>recency</th>\n",
       "      <th>frequency</th>\n",
       "      <th>qtde_items</th>\n",
       "      <th>qtde_products</th>\n",
       "      <th>avg_ticket</th>\n",
       "      <th>avg_basket_size</th>\n",
       "      <th>avg_unique_basket_size</th>\n",
       "    </tr>\n",
       "  </thead>\n",
       "  <tbody>\n",
       "    <tr>\n",
       "      <th>0</th>\n",
       "      <td>0.55</td>\n",
       "      <td>0.69</td>\n",
       "      <td>0.65</td>\n",
       "      <td>0.22</td>\n",
       "      <td>0.71</td>\n",
       "      <td>0.24</td>\n",
       "      <td>0.33</td>\n",
       "      <td>0.75</td>\n",
       "    </tr>\n",
       "    <tr>\n",
       "      <th>1</th>\n",
       "      <td>0.65</td>\n",
       "      <td>0.85</td>\n",
       "      <td>0.66</td>\n",
       "      <td>0.57</td>\n",
       "      <td>0.09</td>\n",
       "      <td>0.37</td>\n",
       "      <td>0.27</td>\n",
       "      <td>0.24</td>\n",
       "    </tr>\n",
       "    <tr>\n",
       "      <th>2</th>\n",
       "      <td>0.97</td>\n",
       "      <td>0.39</td>\n",
       "      <td>0.89</td>\n",
       "      <td>0.63</td>\n",
       "      <td>0.79</td>\n",
       "      <td>0.50</td>\n",
       "      <td>0.58</td>\n",
       "      <td>0.49</td>\n",
       "    </tr>\n",
       "    <tr>\n",
       "      <th>3</th>\n",
       "      <td>0.20</td>\n",
       "      <td>0.72</td>\n",
       "      <td>0.28</td>\n",
       "      <td>0.02</td>\n",
       "      <td>0.65</td>\n",
       "      <td>0.18</td>\n",
       "      <td>0.94</td>\n",
       "      <td>0.95</td>\n",
       "    </tr>\n",
       "    <tr>\n",
       "      <th>4</th>\n",
       "      <td>0.91</td>\n",
       "      <td>0.37</td>\n",
       "      <td>0.02</td>\n",
       "      <td>0.93</td>\n",
       "      <td>0.43</td>\n",
       "      <td>0.97</td>\n",
       "      <td>0.96</td>\n",
       "      <td>0.85</td>\n",
       "    </tr>\n",
       "    <tr>\n",
       "      <th>5</th>\n",
       "      <td>0.29</td>\n",
       "      <td>0.39</td>\n",
       "      <td>0.85</td>\n",
       "      <td>0.32</td>\n",
       "      <td>0.17</td>\n",
       "      <td>0.56</td>\n",
       "      <td>0.94</td>\n",
       "      <td>0.70</td>\n",
       "    </tr>\n",
       "    <tr>\n",
       "      <th>6</th>\n",
       "      <td>0.57</td>\n",
       "      <td>0.10</td>\n",
       "      <td>0.62</td>\n",
       "      <td>0.99</td>\n",
       "      <td>0.14</td>\n",
       "      <td>0.52</td>\n",
       "      <td>0.88</td>\n",
       "      <td>0.74</td>\n",
       "    </tr>\n",
       "    <tr>\n",
       "      <th>7</th>\n",
       "      <td>0.70</td>\n",
       "      <td>0.70</td>\n",
       "      <td>0.36</td>\n",
       "      <td>0.29</td>\n",
       "      <td>0.81</td>\n",
       "      <td>0.81</td>\n",
       "      <td>0.87</td>\n",
       "      <td>0.91</td>\n",
       "    </tr>\n",
       "    <tr>\n",
       "      <th>8</th>\n",
       "      <td>0.51</td>\n",
       "      <td>0.50</td>\n",
       "      <td>0.80</td>\n",
       "      <td>0.65</td>\n",
       "      <td>0.70</td>\n",
       "      <td>0.80</td>\n",
       "      <td>0.89</td>\n",
       "      <td>0.34</td>\n",
       "    </tr>\n",
       "    <tr>\n",
       "      <th>9</th>\n",
       "      <td>0.38</td>\n",
       "      <td>0.09</td>\n",
       "      <td>0.58</td>\n",
       "      <td>0.04</td>\n",
       "      <td>0.47</td>\n",
       "      <td>0.54</td>\n",
       "      <td>0.29</td>\n",
       "      <td>0.59</td>\n",
       "    </tr>\n",
       "  </tbody>\n",
       "</table>\n",
       "</div>"
      ],
      "text/plain": [
       "   monetary  recency  frequency  qtde_items  qtde_products  avg_ticket  avg_basket_size  avg_unique_basket_size\n",
       "0      0.55     0.69       0.65        0.22           0.71        0.24             0.33                    0.75\n",
       "1      0.65     0.85       0.66        0.57           0.09        0.37             0.27                    0.24\n",
       "2      0.97     0.39       0.89        0.63           0.79        0.50             0.58                    0.49\n",
       "3      0.20     0.72       0.28        0.02           0.65        0.18             0.94                    0.95\n",
       "4      0.91     0.37       0.02        0.93           0.43        0.97             0.96                    0.85\n",
       "5      0.29     0.39       0.85        0.32           0.17        0.56             0.94                    0.70\n",
       "6      0.57     0.10       0.62        0.99           0.14        0.52             0.88                    0.74\n",
       "7      0.70     0.70       0.36        0.29           0.81        0.81             0.87                    0.91\n",
       "8      0.51     0.50       0.80        0.65           0.70        0.80             0.89                    0.34\n",
       "9      0.38     0.09       0.58        0.04           0.47        0.54             0.29                    0.59"
      ]
     },
     "execution_count": 91,
     "metadata": {},
     "output_type": "execute_result"
    }
   ],
   "source": [
    "pd.DataFrame(train_features, columns=X_train.columns)"
   ]
  },
  {
   "cell_type": "code",
   "execution_count": 84,
   "id": "00fea94c",
   "metadata": {},
   "outputs": [
    {
     "data": {
      "text/plain": [
       "(10, 8)"
      ]
     },
     "execution_count": 84,
     "metadata": {},
     "output_type": "execute_result"
    }
   ],
   "source": [
    "train_features.shape"
   ]
  },
  {
   "cell_type": "code",
   "execution_count": 100,
   "id": "3ed8d609",
   "metadata": {},
   "outputs": [],
   "source": [
    "def get_most_important_feature(X_train, X_train_scaled, model):\n",
    "\n",
    "    # model = PCA(n_components=2).fit(train_features)\n",
    "    X_pc = model.fit_transform(X_train_scaled)\n",
    "\n",
    "    # number of components\n",
    "    n_pcs= model.components_.shape[0]\n",
    "\n",
    "    # get the index of the most important feature on EACH component\n",
    "    # LIST COMPREHENSION HERE\n",
    "    most_important = [np.abs(model.components_[i]).argmax() for i in range(n_pcs)]\n",
    "\n",
    "    # get the names\n",
    "    initial_feature_names = X_train.columns\n",
    "    assert len(X_train.columns) == pca.components_.shape[0], 'PCs not in the same shape of X columns'\n",
    "    most_important_names = [initial_feature_names[most_important[i]] for i in range(n_pcs)]\n",
    "\n",
    "    # LIST COMPREHENSION HERE AGAIN\n",
    "    dic = {'PC{}'.format(i): most_important_names[i] for i in range(n_pcs)}\n",
    "\n",
    "    # build the dataframe\n",
    "    df = pd.DataFrame(dic.items())\n",
    "    \n",
    "    return df"
   ]
  },
  {
   "cell_type": "code",
   "execution_count": 101,
   "id": "f7cc23bf",
   "metadata": {},
   "outputs": [],
   "source": [
    "features_imp = get_most_important_feature(X_train, X_train_scaled, pca)"
   ]
  },
  {
   "cell_type": "code",
   "execution_count": 102,
   "id": "a6c2183b",
   "metadata": {},
   "outputs": [
    {
     "data": {
      "text/html": [
       "<div>\n",
       "<style scoped>\n",
       "    .dataframe tbody tr th:only-of-type {\n",
       "        vertical-align: middle;\n",
       "    }\n",
       "\n",
       "    .dataframe tbody tr th {\n",
       "        vertical-align: top;\n",
       "    }\n",
       "\n",
       "    .dataframe thead th {\n",
       "        text-align: right;\n",
       "    }\n",
       "</style>\n",
       "<table border=\"1\" class=\"dataframe\">\n",
       "  <thead>\n",
       "    <tr style=\"text-align: right;\">\n",
       "      <th></th>\n",
       "      <th>0</th>\n",
       "      <th>1</th>\n",
       "    </tr>\n",
       "  </thead>\n",
       "  <tbody>\n",
       "    <tr>\n",
       "      <th>0</th>\n",
       "      <td>PC0</td>\n",
       "      <td>qtde_items</td>\n",
       "    </tr>\n",
       "    <tr>\n",
       "      <th>1</th>\n",
       "      <td>PC1</td>\n",
       "      <td>avg_unique_basket_size</td>\n",
       "    </tr>\n",
       "    <tr>\n",
       "      <th>2</th>\n",
       "      <td>PC2</td>\n",
       "      <td>avg_ticket</td>\n",
       "    </tr>\n",
       "    <tr>\n",
       "      <th>3</th>\n",
       "      <td>PC3</td>\n",
       "      <td>recency</td>\n",
       "    </tr>\n",
       "    <tr>\n",
       "      <th>4</th>\n",
       "      <td>PC4</td>\n",
       "      <td>avg_ticket</td>\n",
       "    </tr>\n",
       "    <tr>\n",
       "      <th>5</th>\n",
       "      <td>PC5</td>\n",
       "      <td>avg_basket_size</td>\n",
       "    </tr>\n",
       "    <tr>\n",
       "      <th>6</th>\n",
       "      <td>PC6</td>\n",
       "      <td>frequency</td>\n",
       "    </tr>\n",
       "    <tr>\n",
       "      <th>7</th>\n",
       "      <td>PC7</td>\n",
       "      <td>qtde_items</td>\n",
       "    </tr>\n",
       "  </tbody>\n",
       "</table>\n",
       "</div>"
      ],
      "text/plain": [
       "     0                       1\n",
       "0  PC0              qtde_items\n",
       "1  PC1  avg_unique_basket_size\n",
       "2  PC2              avg_ticket\n",
       "3  PC3                 recency\n",
       "4  PC4              avg_ticket\n",
       "5  PC5         avg_basket_size\n",
       "6  PC6               frequency\n",
       "7  PC7              qtde_items"
      ]
     },
     "execution_count": 102,
     "metadata": {},
     "output_type": "execute_result"
    }
   ],
   "source": [
    "features_imp"
   ]
  },
  {
   "cell_type": "code",
   "execution_count": null,
   "id": "3145d759",
   "metadata": {},
   "outputs": [],
   "source": []
  },
  {
   "cell_type": "markdown",
   "id": "f30a82ad",
   "metadata": {
    "jp-MarkdownHeadingCollapsed": true,
    "tags": []
   },
   "source": [
    "## 5.2 Pipeline"
   ]
  },
  {
   "cell_type": "code",
   "execution_count": 39,
   "id": "6264313b",
   "metadata": {},
   "outputs": [],
   "source": [
    "class TreeBasedEmbedding(BaseEstimator, TransformerMixin):\n",
    "    \"\"\"\n",
    "    Custom transformer that uses Random Forest's apply method to create tree-based embeddings.\n",
    "    This always will only use 2 components.\n",
    "    \"\"\"\n",
    "    def __init__(self, n_components=2, n_estimators=100, random_state=42):\n",
    "        self.n_components = 2  # Hardcoded to 2 as per your original implementation\n",
    "        self.n_estimators = n_estimators\n",
    "        self.random_state = random_state\n",
    "        self.rf = None\n",
    "        \n",
    "    def fit(self, X, y=None):\n",
    "        # Validate y\n",
    "        if y is None:\n",
    "            raise ValueError(\"A target variable is required for fitting\")\n",
    "        \n",
    "        # Ensure y is a Series or can be converted to one\n",
    "        if not isinstance(y, pd.Series):\n",
    "            y = pd.Series(y)\n",
    "        \n",
    "        # Handle DataFrame or numpy array input\n",
    "        if isinstance(X, pd.DataFrame):\n",
    "            X_features = X.drop(columns=[y.name])\n",
    "        else:\n",
    "            X_features = X\n",
    "        \n",
    "        # Train a RandomForestRegressor\n",
    "        self.rf = RandomForestRegressor(\n",
    "            n_estimators=self.n_estimators,\n",
    "            random_state=self.random_state\n",
    "        )\n",
    "        self.rf.fit(X_features, y)\n",
    "        return self\n",
    "    \n",
    "    def transform(self, X):\n",
    "        # Get leaf indices for each sample across all trees\n",
    "        if self.rf is None:\n",
    "            raise ValueError(\"Transformer not fitted. Call fit before transform.\")\n",
    "        \n",
    "        # Handle DataFrame or numpy array input\n",
    "        if isinstance(X, pd.DataFrame):\n",
    "            X_features = X.values\n",
    "        else:\n",
    "            X_features = X\n",
    "        \n",
    "        leaf_indices = self.rf.apply(X_features)\n",
    "        return leaf_indices\n",
    "    \n",
    "    def fit_transform(self, X, y):\n",
    "        # Validate y\n",
    "        if not isinstance(y, pd.Series):\n",
    "            y = pd.Series(y)\n",
    "        \n",
    "        # Handle DataFrame or numpy array input\n",
    "        if isinstance(X, pd.DataFrame):\n",
    "            X_features = X.drop(columns=[y.name])\n",
    "        else:\n",
    "            X_features = X\n",
    "        \n",
    "        # Train a RandomForestRegressor\n",
    "        self.rf = RandomForestRegressor(\n",
    "            n_estimators=self.n_estimators,\n",
    "            random_state=self.random_state\n",
    "        )\n",
    "        self.rf.fit(X_features, y)\n",
    "        \n",
    "        leaf_indices = self.rf.apply(X_features)\n",
    "        return leaf_indices\n",
    "    \n",
    "\n",
    "\n",
    "def making_preds(X, y, component_range, cluster_range, eps_range, n_estimators=100):\n",
    "    results = []\n",
    "    best_pipeline = None\n",
    "    best_score = -np.inf\n",
    "    best_params = None\n",
    "\n",
    "    scalers = {\n",
    "        \"StandardScaler\": StandardScaler(),\n",
    "        \"MinMaxScaler\": MinMaxScaler(),\n",
    "        \"RobustScaler\": RobustScaler(),\n",
    "    }\n",
    "    \n",
    "    reductors = {\n",
    "        'PCA': PCA,  \n",
    "        'UMAP': umap.UMAP, \n",
    "        'TreeBasedEmbedding': TreeBasedEmbedding, \n",
    "    }\n",
    "    \n",
    "    metrics = {\n",
    "        \"Silhouette Score\": silhouette_score,\n",
    "        \"Calinski Harabasz Score\": calinski_harabasz_score,\n",
    "        \"Davies Bouldin Score\": davies_bouldin_score,\n",
    "    }\n",
    "    \n",
    "    # Main loop\n",
    "    for scaler_name, scaler in tqdm(scalers.items(), desc=\"Scalers\"):\n",
    "        for red_name, reductor in tqdm(reductors.items()):\n",
    "            for model_name in tqdm(['DBSCAN', 'K-Means', 'Hierarchical', 'Gaussian Mixture']):\n",
    "                if model_name == 'DBSCAN':\n",
    "                    for component in component_range:\n",
    "                        X_scaled = scaler.fit_transform(X)\n",
    "                        \n",
    "                        # Properly instantiate reductor\n",
    "                        if red_name != 'TreeBasedEmbedding':\n",
    "                            X_pca = reductor(n_components=component, random_state=42).fit_transform(X_scaled)\n",
    "                        else:\n",
    "                            X_leaf = reductor(n_estimators=n_estimators).fit_transform(X, y)\n",
    "                            X_pca = PCA(n_components=2).fit_transform(X_leaf)\n",
    "                        \n",
    "                        for eps_val in eps_range:\n",
    "                            model = DBSCAN(eps=eps_val, min_samples=20)\n",
    "                            labels = model.fit_predict(X_pca)\n",
    "\n",
    "                            # Calculate only if at least 5 clusters exist, removing noise\n",
    "                            unique_labels = np.unique(labels)\n",
    "                            unique_labels = unique_labels[unique_labels != -1]\n",
    "\n",
    "                            if len(unique_labels) >= 5:\n",
    "                                sil = silhouette_score(X, labels)\n",
    "                                ch = calinski_harabasz_score(X, labels)\n",
    "                                db = davies_bouldin_score(X, labels)\n",
    "\n",
    "                                # Store results\n",
    "                                results.append({\n",
    "                                    'scaler': scaler_name,\n",
    "                                    'dim_reduction': red_name,\n",
    "                                    'n_components': component,\n",
    "                                    'model': model,\n",
    "                                    'n_clusters/eps': eps_val,\n",
    "                                    'silhouette': sil,\n",
    "                                    'calinski_harabasz': ch,\n",
    "                                    'davies_bouldin': db,\n",
    "#                                     'labels': labels\n",
    "                                })\n",
    "                else:\n",
    "                    for component in component_range:\n",
    "                        X_scaled = scaler.fit_transform(X)\n",
    "                        \n",
    "                        # Properly instantiate reductor\n",
    "                        if red_name != 'TreeBasedEmbedding':\n",
    "                            X_pca = reductor(n_components=component, random_state=42).fit_transform(X_scaled)\n",
    "                        else:\n",
    "                            X_leaf = reductor(n_estimators=n_estimators).fit_transform(X, y)\n",
    "                            X_pca = PCA(n_components=2).fit_transform(X_leaf)\n",
    "                        \n",
    "                        for cluster in cluster_range:\n",
    "                            if model_name == 'K-Means':\n",
    "                                model = KMeans(n_clusters=cluster, random_state=42, n_init=20)\n",
    "                            elif model_name == 'Hierarchical':\n",
    "                                model = AgglomerativeClustering(n_clusters=cluster)\n",
    "                            elif model_name == 'Gaussian Mixture':\n",
    "                                model = GaussianMixture(n_components=cluster, random_state=42)\n",
    "                            \n",
    "                            labels = model.fit_predict(X_pca)\n",
    "                            sil = silhouette_score(X, labels)\n",
    "                            ch = calinski_harabasz_score(X, labels)\n",
    "                            db = davies_bouldin_score(X, labels)\n",
    "                            \n",
    "                            results.append({\n",
    "                                'scaler': scaler_name,\n",
    "                                'dim_reduction': red_name,\n",
    "                                'n_components': component,\n",
    "                                'model': model,\n",
    "                                'n_clusters/eps': cluster,\n",
    "                                'silhouette': sil,\n",
    "                                'calinski_harabasz': ch,\n",
    "                                'davies_bouldin': db,\n",
    "#                                 'labels': labels\n",
    "                            })\n",
    "                            \n",
    "    results_no_pipeline = [{k: v for k, v in r.items() if k != 'pipeline' and k != 'labels'} for r in results]\n",
    "    results_pd = pd.DataFrame(results_no_pipeline)\n",
    "    best_result = results_pd.sort_values(['silhouette', 'calinski_harabasz', 'davies_bouldin'], ascending=[False, False, False])[0]\n",
    "    return pd.DataFrame(results_no_pipeline)"
   ]
  },
  {
   "cell_type": "code",
   "execution_count": 40,
   "id": "1b1b23b1",
   "metadata": {},
   "outputs": [],
   "source": [
    "comp_range = np.arange(2, 9)\n",
    "clust_range = np.arange(5, 11)\n",
    "eps_range = np.arange(0.2, 1.0, 0.1)"
   ]
  },
  {
   "cell_type": "code",
   "execution_count": 196,
   "id": "4f984882",
   "metadata": {
    "collapsed": true,
    "jupyter": {
     "outputs_hidden": true
    },
    "tags": []
   },
   "outputs": [
    {
     "name": "stderr",
     "output_type": "stream",
     "text": [
      "Scalers:   0%|                                                                                    | 0/3 [00:00<?, ?it/s]\n",
      "  0%|                                                                                             | 0/3 [00:00<?, ?it/s]\u001b[A\n",
      "\n",
      "  0%|                                                                                             | 0/4 [00:00<?, ?it/s]\u001b[A\u001b[A\n",
      "\n",
      " 25%|█████████████████████▎                                                               | 1/4 [00:06<00:20,  6.72s/it]\u001b[A\u001b[A\n",
      "\n",
      " 50%|██████████████████████████████████████████▌                                          | 2/4 [01:12<01:23, 41.62s/it]\u001b[A\u001b[A\n",
      "\n",
      " 75%|███████████████████████████████████████████████████████████████▊                     | 3/4 [01:45<00:37, 37.47s/it]\u001b[A\u001b[A\n",
      "\n",
      "100%|█████████████████████████████████████████████████████████████████████████████████████| 4/4 [02:19<00:00, 34.88s/it]\u001b[A\u001b[A\n",
      "\n",
      " 33%|████████████████████████████                                                        | 1/3 [02:19<04:39, 139.50s/it]\u001b[A\n",
      "\n",
      "  0%|                                                                                             | 0/4 [00:00<?, ?it/s]\u001b[A\u001b[A\n",
      "\n",
      " 25%|█████████████████████▎                                                               | 1/4 [00:49<02:29, 49.94s/it]\u001b[A\u001b[A\n",
      "\n",
      " 50%|██████████████████████████████████████████▌                                          | 2/4 [01:41<01:41, 50.84s/it]\u001b[A\u001b[A\n",
      "\n",
      " 75%|███████████████████████████████████████████████████████████████▊                     | 3/4 [02:43<00:56, 56.15s/it]\u001b[A\u001b[A\n",
      "\n",
      "100%|█████████████████████████████████████████████████████████████████████████████████████| 4/4 [03:41<00:00, 55.31s/it]\u001b[A\u001b[A\n",
      "\n",
      " 67%|████████████████████████████████████████████████████████                            | 2/3 [06:00<03:07, 187.59s/it]\u001b[A\n",
      "\n",
      "  0%|                                                                                             | 0/4 [00:00<?, ?it/s]\u001b[A\u001b[A\n",
      "\n",
      " 25%|█████████████████████▎                                                               | 1/4 [00:14<00:42, 14.22s/it]\u001b[A\u001b[A\n",
      "\n",
      " 50%|██████████████████████████████████████████▌                                          | 2/4 [01:29<01:40, 50.24s/it]\u001b[A\u001b[A\n",
      "\n",
      " 75%|███████████████████████████████████████████████████████████████▊                     | 3/4 [02:11<00:46, 46.22s/it]\u001b[A\u001b[A\n",
      "\n",
      "100%|█████████████████████████████████████████████████████████████████████████████████████| 4/4 [02:40<00:00, 40.22s/it]\u001b[A\u001b[A\n",
      "\n",
      "100%|████████████████████████████████████████████████████████████████████████████████████| 3/3 [08:41<00:00, 173.88s/it]\u001b[A\n",
      "Scalers:  33%|█████████████████████████                                                  | 1/3 [08:41<17:23, 521.64s/it]\n",
      "  0%|                                                                                             | 0/3 [00:00<?, ?it/s]\u001b[A\n",
      "\n",
      "  0%|                                                                                             | 0/4 [00:00<?, ?it/s]\u001b[A\u001b[A\n",
      "\n",
      " 25%|█████████████████████▎                                                               | 1/4 [00:10<00:30, 10.15s/it]\u001b[A\u001b[A\n",
      "\n",
      " 50%|██████████████████████████████████████████▌                                          | 2/4 [01:16<01:26, 43.05s/it]\u001b[A\u001b[A\n",
      "\n",
      " 75%|███████████████████████████████████████████████████████████████▊                     | 3/4 [01:46<00:37, 37.14s/it]\u001b[A\u001b[A\n",
      "\n",
      "100%|█████████████████████████████████████████████████████████████████████████████████████| 4/4 [02:21<00:00, 35.32s/it]\u001b[A\u001b[A\n",
      "\n",
      " 33%|████████████████████████████                                                        | 1/3 [02:21<04:42, 141.30s/it]\u001b[A\n",
      "\n",
      "  0%|                                                                                             | 0/4 [00:00<?, ?it/s]\u001b[A\u001b[A\n",
      "\n",
      " 25%|█████████████████████▎                                                               | 1/4 [00:53<02:40, 53.48s/it]\u001b[A\u001b[A\n",
      "\n",
      " 50%|██████████████████████████████████████████▌                                          | 2/4 [01:45<01:45, 52.68s/it]\u001b[A\u001b[A\n",
      "\n",
      " 75%|███████████████████████████████████████████████████████████████▊                     | 3/4 [02:49<00:57, 57.59s/it]\u001b[A\u001b[A\n",
      "\n",
      "100%|█████████████████████████████████████████████████████████████████████████████████████| 4/4 [03:42<00:00, 55.75s/it]\u001b[A\u001b[A\n",
      "\n",
      " 67%|████████████████████████████████████████████████████████                            | 2/3 [06:04<03:09, 189.36s/it]\u001b[A\n",
      "\n",
      "  0%|                                                                                             | 0/4 [00:00<?, ?it/s]\u001b[A\u001b[A\n",
      "\n",
      " 25%|█████████████████████▎                                                               | 1/4 [00:13<00:41, 13.74s/it]\u001b[A\u001b[A\n",
      "\n",
      " 50%|██████████████████████████████████████████▌                                          | 2/4 [01:30<01:41, 50.85s/it]\u001b[A\u001b[A\n",
      "\n",
      " 75%|███████████████████████████████████████████████████████████████▊                     | 3/4 [02:11<00:46, 46.40s/it]\u001b[A\u001b[A\n",
      "\n",
      "100%|█████████████████████████████████████████████████████████████████████████████████████| 4/4 [02:42<00:00, 40.58s/it]\u001b[A\u001b[A\n",
      "\n",
      "100%|████████████████████████████████████████████████████████████████████████████████████| 3/3 [08:46<00:00, 175.54s/it]\u001b[A\n",
      "Scalers:  67%|██████████████████████████████████████████████████                         | 2/3 [17:28<08:44, 524.58s/it]\n",
      "  0%|                                                                                             | 0/3 [00:00<?, ?it/s]\u001b[A\n",
      "\n",
      "  0%|                                                                                             | 0/4 [00:00<?, ?it/s]\u001b[A\u001b[A\n",
      "\n",
      " 25%|█████████████████████▎                                                               | 1/4 [00:04<00:12,  4.32s/it]\u001b[A\u001b[A\n",
      "\n",
      " 50%|██████████████████████████████████████████▌                                          | 2/4 [01:05<01:15, 37.75s/it]\u001b[A\u001b[A\n",
      "\n",
      " 75%|███████████████████████████████████████████████████████████████▊                     | 3/4 [01:39<00:35, 35.91s/it]\u001b[A\u001b[A\n",
      "\n",
      "100%|█████████████████████████████████████████████████████████████████████████████████████| 4/4 [02:15<00:00, 33.95s/it]\u001b[A\u001b[A\n",
      "\n",
      " 33%|████████████████████████████                                                        | 1/3 [02:15<04:31, 135.82s/it]\u001b[A\n",
      "\n",
      "  0%|                                                                                             | 0/4 [00:00<?, ?it/s]\u001b[A\u001b[A\n",
      "\n",
      " 25%|█████████████████████▎                                                               | 1/4 [00:52<02:37, 52.60s/it]\u001b[A\u001b[A\n",
      "\n",
      " 50%|██████████████████████████████████████████▌                                          | 2/4 [01:42<01:41, 51.00s/it]\u001b[A\u001b[A\n",
      "\n",
      " 75%|███████████████████████████████████████████████████████████████▊                     | 3/4 [02:42<00:55, 55.10s/it]\u001b[A\u001b[A\n",
      "\n",
      "100%|█████████████████████████████████████████████████████████████████████████████████████| 4/4 [03:40<00:00, 55.05s/it]\u001b[A\u001b[A\n",
      "\n",
      " 67%|████████████████████████████████████████████████████████                            | 2/3 [05:56<03:05, 185.45s/it]\u001b[A\n",
      "\n",
      "  0%|                                                                                             | 0/4 [00:00<?, ?it/s]\u001b[A\u001b[A\n",
      "\n",
      " 25%|█████████████████████▎                                                               | 1/4 [00:13<00:40, 13.60s/it]\u001b[A\u001b[A\n",
      "\n",
      " 50%|██████████████████████████████████████████▌                                          | 2/4 [01:20<01:29, 44.86s/it]\u001b[A\u001b[A\n",
      "\n",
      " 75%|███████████████████████████████████████████████████████████████▊                     | 3/4 [02:01<00:42, 42.95s/it]\u001b[A\u001b[A\n",
      "\n",
      "100%|█████████████████████████████████████████████████████████████████████████████████████| 4/4 [02:31<00:00, 37.84s/it]\u001b[A\u001b[A\n",
      "\n",
      "100%|████████████████████████████████████████████████████████████████████████████████████| 3/3 [08:27<00:00, 169.12s/it]\u001b[A\n",
      "Scalers: 100%|███████████████████████████████████████████████████████████████████████████| 3/3 [25:55<00:00, 518.55s/it]"
     ]
    },
    {
     "name": "stdout",
     "output_type": "stream",
     "text": [
      "CPU times: user 1h 6min 25s, sys: 1h 8min 19s, total: 2h 14min 44s\n",
      "Wall time: 25min 55s\n"
     ]
    },
    {
     "name": "stderr",
     "output_type": "stream",
     "text": [
      "\n"
     ]
    }
   ],
   "source": [
    "%%time\n",
    "\n",
    "final_preds = making_preds(X=X_train, y=y, component_range=comp_range, cluster_range=clust_range, eps_range=eps_range)"
   ]
  },
  {
   "cell_type": "code",
   "execution_count": 201,
   "id": "ce58a1a4",
   "metadata": {},
   "outputs": [],
   "source": [
    "results_no_pipeline = [{k: v for k, v in r.items() if k != 'pipeline' and k != 'labels'} for r in final_preds]\n",
    "final_preds_df = pd.DataFrame(results_no_pipeline)"
   ]
  },
  {
   "cell_type": "code",
   "execution_count": 208,
   "id": "ac26bbc6",
   "metadata": {},
   "outputs": [
    {
     "data": {
      "text/html": [
       "<div>\n",
       "<style scoped>\n",
       "    .dataframe tbody tr th:only-of-type {\n",
       "        vertical-align: middle;\n",
       "    }\n",
       "\n",
       "    .dataframe tbody tr th {\n",
       "        vertical-align: top;\n",
       "    }\n",
       "\n",
       "    .dataframe thead th {\n",
       "        text-align: right;\n",
       "    }\n",
       "</style>\n",
       "<table border=\"1\" class=\"dataframe\">\n",
       "  <thead>\n",
       "    <tr style=\"text-align: right;\">\n",
       "      <th></th>\n",
       "      <th>scaler</th>\n",
       "      <th>dim_reduction</th>\n",
       "      <th>n_components</th>\n",
       "      <th>model</th>\n",
       "      <th>n_clusters/eps</th>\n",
       "      <th>silhouette</th>\n",
       "      <th>calinski_harabasz</th>\n",
       "      <th>davies_bouldin</th>\n",
       "    </tr>\n",
       "  </thead>\n",
       "  <tbody>\n",
       "    <tr>\n",
       "      <th>872</th>\n",
       "      <td>RobustScaler</td>\n",
       "      <td>PCA</td>\n",
       "      <td>6</td>\n",
       "      <td>KMeans(n_clusters=5, n_init=20, random_state=42)</td>\n",
       "      <td>5.00</td>\n",
       "      <td>0.67</td>\n",
       "      <td>1446.53</td>\n",
       "      <td>1.57</td>\n",
       "    </tr>\n",
       "    <tr>\n",
       "      <th>848</th>\n",
       "      <td>RobustScaler</td>\n",
       "      <td>PCA</td>\n",
       "      <td>2</td>\n",
       "      <td>KMeans(n_clusters=5, n_init=20, random_state=42)</td>\n",
       "      <td>5.00</td>\n",
       "      <td>0.67</td>\n",
       "      <td>1440.64</td>\n",
       "      <td>1.60</td>\n",
       "    </tr>\n",
       "    <tr>\n",
       "      <th>878</th>\n",
       "      <td>RobustScaler</td>\n",
       "      <td>PCA</td>\n",
       "      <td>7</td>\n",
       "      <td>KMeans(n_clusters=5, n_init=20, random_state=42)</td>\n",
       "      <td>5.00</td>\n",
       "      <td>0.67</td>\n",
       "      <td>1479.89</td>\n",
       "      <td>1.64</td>\n",
       "    </tr>\n",
       "    <tr>\n",
       "      <th>850</th>\n",
       "      <td>RobustScaler</td>\n",
       "      <td>PCA</td>\n",
       "      <td>2</td>\n",
       "      <td>KMeans(n_clusters=7, n_init=20, random_state=42)</td>\n",
       "      <td>7.00</td>\n",
       "      <td>0.64</td>\n",
       "      <td>5835.54</td>\n",
       "      <td>1.17</td>\n",
       "    </tr>\n",
       "    <tr>\n",
       "      <th>6</th>\n",
       "      <td>StandardScaler</td>\n",
       "      <td>PCA</td>\n",
       "      <td>3</td>\n",
       "      <td>KMeans(n_clusters=5, n_init=20, random_state=42)</td>\n",
       "      <td>5.00</td>\n",
       "      <td>0.57</td>\n",
       "      <td>1767.84</td>\n",
       "      <td>1.34</td>\n",
       "    </tr>\n",
       "  </tbody>\n",
       "</table>\n",
       "</div>"
      ],
      "text/plain": [
       "             scaler dim_reduction  n_components                                             model  n_clusters/eps  silhouette  calinski_harabasz  davies_bouldin\n",
       "872    RobustScaler           PCA             6  KMeans(n_clusters=5, n_init=20, random_state=42)            5.00        0.67            1446.53            1.57\n",
       "848    RobustScaler           PCA             2  KMeans(n_clusters=5, n_init=20, random_state=42)            5.00        0.67            1440.64            1.60\n",
       "878    RobustScaler           PCA             7  KMeans(n_clusters=5, n_init=20, random_state=42)            5.00        0.67            1479.89            1.64\n",
       "850    RobustScaler           PCA             2  KMeans(n_clusters=7, n_init=20, random_state=42)            7.00        0.64            5835.54            1.17\n",
       "6    StandardScaler           PCA             3  KMeans(n_clusters=5, n_init=20, random_state=42)            5.00        0.57            1767.84            1.34"
      ]
     },
     "execution_count": 208,
     "metadata": {},
     "output_type": "execute_result"
    }
   ],
   "source": [
    "final_preds_df.sort_values(['silhouette', 'calinski_harabasz', 'davies_bouldin'], ascending=[False, False, False]).head()"
   ]
  },
  {
   "cell_type": "code",
   "execution_count": 127,
   "id": "96adc8d9",
   "metadata": {},
   "outputs": [
    {
     "data": {
      "image/png": "[encoded data removed]",
      "text/plain": [
       "<Figure size 1500x500 with 3 Axes>"
      ]
     },
     "metadata": {},
     "output_type": "display_data"
    }
   ],
   "source": [
    "# Pivot the data to have algorithms as columns and metrics as rows\n",
    "pivoted_df = pred_df.pivot_table(\n",
    "    index=\"Metric\", columns=\"Algorithm\", values=\"Score\"\n",
    ")\n",
    "\n",
    "# Define the three metrics to plot\n",
    "metrics = [\n",
    "    \"Silhouette Score\",\n",
    "    \"Calinski Harabasz Score\",\n",
    "    \"Davies Bouldin Score\",\n",
    "]\n",
    "\n",
    "# Define a colormap to use for each algorithm\n",
    "cmap = plt.get_cmap(\"Set3\")\n",
    "\n",
    "# Plot a bar chart for each metric\n",
    "fig, axs = plt.subplots(nrows=1, ncols=3, figsize=(15, 5))\n",
    "\n",
    "# Add a main title to the figure\n",
    "fig.suptitle(\"Comparing Evaluation Metrics\", fontsize=16, fontweight=\"bold\")\n",
    "\n",
    "for i, metric in enumerate(metrics):\n",
    "    ax = pivoted_df.loc[metric].plot(kind=\"bar\", ax=axs[i], rot=45)\n",
    "    ax.set_xticklabels(ax.get_xticklabels(), ha=\"right\")\n",
    "    ax.set_ylabel(metric)\n",
    "    ax.set_title(metric, fontstyle=\"italic\")\n",
    "\n",
    "    # Iterate through the algorithm names and set the color for each bar\n",
    "    for j, alg in enumerate(pivoted_df.columns):\n",
    "        ax.get_children()[j].set_color(cmap(j))\n",
    "plt.show()"
   ]
  },
  {
   "cell_type": "code",
   "execution_count": 167,
   "id": "fea50cc9",
   "metadata": {},
   "outputs": [
    {
     "data": {
      "text/plain": [
       "((5315, 8), (10, 2), (5315, 8))"
      ]
     },
     "execution_count": 167,
     "metadata": {},
     "output_type": "execute_result"
    }
   ],
   "source": [
    "X_train_scaled.shape, X_pc.shape, x_new.shape"
   ]
  },
  {
   "cell_type": "code",
   "execution_count": 168,
   "id": "58774044",
   "metadata": {},
   "outputs": [
    {
     "data": {
      "image/png": "[encoded data removed]",
      "text/plain": [
       "<Figure size 1200x600 with 2 Axes>"
      ]
     },
     "metadata": {},
     "output_type": "display_data"
    }
   ],
   "source": [
    "fig, axes = plt.subplots(1,2)\n",
    "axes[0].scatter(X_train.iloc[:, 1], X_train.iloc[:,2], c=X_train['monetary'])\n",
    "axes[0].set_xlabel('x1')\n",
    "axes[0].set_ylabel('x2')\n",
    "axes[0].set_title('Before PCA')\n",
    "axes[1].scatter(x_new[:, 1], x_new[:, 2], c=X_train['monetary'])\n",
    "axes[1].set_xlabel('PC1')\n",
    "axes[1].set_ylabel('PC2')\n",
    "axes[1].set_title('After PCA')\n",
    "plt.show()"
   ]
  },
  {
   "cell_type": "code",
   "execution_count": null,
   "id": "f39000a8",
   "metadata": {},
   "outputs": [],
   "source": []
  },
  {
   "cell_type": "markdown",
   "id": "f436bd8d",
   "metadata": {
    "tags": []
   },
   "source": [
    "## 5.3 Final Configuration"
   ]
  },
  {
   "cell_type": "code",
   "execution_count": 76,
   "id": "9fc3f11c-f266-4566-b1fe-2c5b1e3c6f92",
   "metadata": {},
   "outputs": [],
   "source": [
    "best_result_columns = ['scaler', 'dim_reduction', 'n_components', 'model', 'n_clusters/eps', 'silhouette', 'calinski_harabasz', 'davies_bouldin']\n",
    "best_result_values = ['RobustScaler', 'PCA', '6', 'KMeans(n_clusters=5, n_init=20, random_state=42)', '5.00', '0.67', '1479.89', '1.64']\n",
    "best_result_values_2 = ['RobustScaler', 'PCA', '7', 'KMeans(n_clusters=5, n_init=20, random_state=42)', '5.00', '0.67', '1440.64', '1.60']\n",
    "best_result_df = pd.DataFrame(columns=best_result_columns, data=[best_result_values])"
   ]
  },
  {
   "cell_type": "code",
   "execution_count": 84,
   "id": "aee24e31-e896-47db-939c-bbaa1e3b016a",
   "metadata": {},
   "outputs": [
    {
     "data": {
      "text/html": [
       "<div>\n",
       "<style scoped>\n",
       "    .dataframe tbody tr th:only-of-type {\n",
       "        vertical-align: middle;\n",
       "    }\n",
       "\n",
       "    .dataframe tbody tr th {\n",
       "        vertical-align: top;\n",
       "    }\n",
       "\n",
       "    .dataframe thead th {\n",
       "        text-align: right;\n",
       "    }\n",
       "</style>\n",
       "<table border=\"1\" class=\"dataframe\">\n",
       "  <thead>\n",
       "    <tr style=\"text-align: right;\">\n",
       "      <th></th>\n",
       "      <th>scaler</th>\n",
       "      <th>dim_reduction</th>\n",
       "      <th>n_components</th>\n",
       "      <th>model</th>\n",
       "      <th>n_clusters/eps</th>\n",
       "      <th>silhouette</th>\n",
       "      <th>calinski_harabasz</th>\n",
       "      <th>davies_bouldin</th>\n",
       "    </tr>\n",
       "  </thead>\n",
       "  <tbody>\n",
       "    <tr>\n",
       "      <th>0</th>\n",
       "      <td>RobustScaler</td>\n",
       "      <td>PCA</td>\n",
       "      <td>6</td>\n",
       "      <td>KMeans(n_clusters=5, n_init=20, random_state=42)</td>\n",
       "      <td>5.00</td>\n",
       "      <td>0.67</td>\n",
       "      <td>1479.89</td>\n",
       "      <td>1.64</td>\n",
       "    </tr>\n",
       "  </tbody>\n",
       "</table>\n",
       "</div>"
      ],
      "text/plain": [
       "         scaler dim_reduction n_components                                             model n_clusters/eps silhouette calinski_harabasz davies_bouldin\n",
       "0  RobustScaler           PCA            6  KMeans(n_clusters=5, n_init=20, random_state=42)           5.00       0.67           1479.89           1.64"
      ]
     },
     "execution_count": 84,
     "metadata": {},
     "output_type": "execute_result"
    }
   ],
   "source": [
    "best_result_df"
   ]
  },
  {
   "cell_type": "code",
   "execution_count": null,
   "id": "671ffb30-b82d-4d78-9f75-352635864ba2",
   "metadata": {},
   "outputs": [],
   "source": [
    "# Step 1: Dynamically select and apply scaler\n",
    "scaler_class = best_result_df['scaler'][0]  # 'RobustScaler'\n",
    "scaler = eval(scaler_class + '()')  # Equivalent to RobustScaler()\n",
    "X_scaled = scaler.fit_transform(X_train)"
   ]
  },
  {
   "cell_type": "code",
   "execution_count": null,
   "id": "329d574d-5858-4457-ad50-c964c70223c4",
   "metadata": {},
   "outputs": [],
   "source": [
    "# Step 2: Dynamically select and apply dimensionality reduction\n",
    "dim_reduction_class = best_result_df['dim_reduction'][0]  # 'PCA'\n",
    "n_components = int(best_result_df['n_components'][0])\n",
    "dim_reduction = eval(dim_reduction_class + f'(n_components={n_components})')  # Equivalent to PCA(n_components=6)\n",
    "X_reduced = dim_reduction.fit_transform(X_scaled)\n",
    "\n",
    "# Step 3: Dynamically select and train clustering model\n",
    "model_code = best_result_df['model'][0]  # \"KMeans(n_clusters=5, n_init=20, random_state=42)\"\n",
    "clustering_model = eval(model_code)  # Equivalent to KMeans(...)\n",
    "clustering_model.fit(X_reduced)\n",
    "\n",
    "# Output\n",
    "print(\"Final clustering model trained successfully!\")\n",
    "print(f\"Cluster Centers Shape: {clustering_model.cluster_centers_.shape}\" if hasattr(clustering_model, \"cluster_centers_\") else \"No cluster centers (DBSCAN)\")\n",
    "\n",
    "# Predict cluster labels\n",
    "cluster_labels = clustering_model.fit_predict(X_reduced)\n",
    "print(f\"Cluster Labels: {np.unique(cluster_labels)}\")"
   ]
  },
  {
   "cell_type": "code",
   "execution_count": null,
   "id": "b8b9c421-2108-4a71-a0e4-c8d6b0f07d41",
   "metadata": {},
   "outputs": [],
   "source": [
    "X_reducted   = eval(best_result_df['dim_reduction'] + '()').fit_transform(X_scaled)\n",
    "model_final  = eval(best_result_df['model'][0])\n",
    "final_labels = model_final.fit_predict(X_reducted)\n",
    "\n",
    "idx_order = np.argsort(model_final.means_.sum(axis=1))\n",
    "print(idx_order)\n",
    "df_final = X.copy()\n",
    "df_final['cluster'] = final_labels"
   ]
  },
  {
   "cell_type": "code",
   "execution_count": null,
   "id": "a91dfdd9-691b-4192-8af1-1f36309fa880",
   "metadata": {},
   "outputs": [],
   "source": []
  },
  {
   "cell_type": "code",
   "execution_count": null,
   "id": "de7fd162-c1d4-407c-ad85-86296f2c3c56",
   "metadata": {},
   "outputs": [],
   "source": []
  },
  {
   "cell_type": "code",
   "execution_count": 86,
   "id": "ad837e43-0e2e-41c8-87e3-cb9358fb98bf",
   "metadata": {},
   "outputs": [],
   "source": [
    "y=X['monetary']"
   ]
  },
  {
   "cell_type": "code",
   "execution_count": 106,
   "id": "2ed08310",
   "metadata": {},
   "outputs": [],
   "source": [
    "def gen_cluster(X: pd.DataFrame, X_train: pd.DataFrame, y: pd.Series, best_result: pd.DataFrame):\n",
    "    X_scaled     = eval(best_result_df['scaler'][0] + '()').fit_transform(X_train)\n",
    "    X_reducted   = eval(best_result_df['dim_reduction'][0] + '()').fit_transform(X_scaled)\n",
    "    model_final  = eval(best_result_df['model'][0])\n",
    "    final_labels = model_final.fit_predict(X_reducted)\n",
    "\n",
    "    # try:\n",
    "    #     idx_order = np.argsort(model_final.means_.sum(axis=1))\n",
    "    # except AttributeError:\n",
    "    #     'Wrong Model'\n",
    "    # else:\n",
    "    #     idx_order = np.argsort(model_final.cluster_centers_.sum(axis=1))\n",
    "\n",
    "    \n",
    "    df_final = X.copy()\n",
    "    df_final['cluster'] = final_labels\n",
    "    \n",
    "    return df_final"
   ]
  },
  {
   "cell_type": "code",
   "execution_count": 116,
   "id": "d7a278cc-8622-416c-92a8-85669010c59f",
   "metadata": {},
   "outputs": [],
   "source": [
    "df_final = gen_cluster(X, X_train, y, best_result_df)"
   ]
  },
  {
   "cell_type": "markdown",
   "id": "270ae1c8",
   "metadata": {},
   "source": [
    "## 5.8 Gera Relatorio"
   ]
  },
  {
   "cell_type": "code",
   "execution_count": 119,
   "id": "ae93cf2f-fb3b-456b-8651-fe04136dd4ad",
   "metadata": {},
   "outputs": [
    {
     "data": {
      "text/html": [
       "<div>\n",
       "<style scoped>\n",
       "    .dataframe tbody tr th:only-of-type {\n",
       "        vertical-align: middle;\n",
       "    }\n",
       "\n",
       "    .dataframe tbody tr th {\n",
       "        vertical-align: top;\n",
       "    }\n",
       "\n",
       "    .dataframe thead th {\n",
       "        text-align: right;\n",
       "    }\n",
       "</style>\n",
       "<table border=\"1\" class=\"dataframe\">\n",
       "  <thead>\n",
       "    <tr style=\"text-align: right;\">\n",
       "      <th></th>\n",
       "      <th>customer_id</th>\n",
       "      <th>monetary</th>\n",
       "      <th>recency</th>\n",
       "      <th>frequency</th>\n",
       "      <th>qtde_items</th>\n",
       "      <th>qtde_products</th>\n",
       "      <th>avg_ticket</th>\n",
       "      <th>avg_basket_size</th>\n",
       "      <th>avg_unique_basket_size</th>\n",
       "    </tr>\n",
       "  </thead>\n",
       "  <tbody>\n",
       "    <tr>\n",
       "      <th>0</th>\n",
       "      <td>17850</td>\n",
       "      <td>5,288.63</td>\n",
       "      <td>302</td>\n",
       "      <td>35</td>\n",
       "      <td>1693</td>\n",
       "      <td>312</td>\n",
       "      <td>16.95</td>\n",
       "      <td>48.37</td>\n",
       "      <td>0.69</td>\n",
       "    </tr>\n",
       "  </tbody>\n",
       "</table>\n",
       "</div>"
      ],
      "text/plain": [
       "   customer_id  monetary  recency  frequency  qtde_items  qtde_products  avg_ticket  avg_basket_size  avg_unique_basket_size\n",
       "0        17850  5,288.63      302         35        1693            312       16.95            48.37                    0.69"
      ]
     },
     "execution_count": 119,
     "metadata": {},
     "output_type": "execute_result"
    }
   ],
   "source": [
    "X.head(1)"
   ]
  },
  {
   "cell_type": "code",
   "execution_count": 143,
   "id": "9bfaf9d2",
   "metadata": {},
   "outputs": [],
   "source": [
    "def report_cluster(df_final):\n",
    "\n",
    "    pd.options.display.float_format = '{:,.2f}'.format\n",
    "\n",
    "    df_cluster_aux = df_final.groupby('cluster', as_index = False).agg( \n",
    "                                                    total_customers = ('customer_id', 'count'),\n",
    "                                                    avg_recency = ('recency', 'mean'),\n",
    "                                                    avg_frequency = ('frequency', 'mean'),\n",
    "                                                    avg_monetary = ('monetary', 'mean'),\n",
    "                                                    avg_total_items = ('qtde_products', 'mean'),\n",
    "                                        )\n",
    "\n",
    "    df_cluster_aux['pct_customers'] = (df_cluster_aux['total_customers'] / df_cluster_aux['total_customers'].sum()) * 100\n",
    "    df_cluster_aux = df_cluster_aux[['cluster', 'total_customers', 'pct_customers', 'avg_recency', 'avg_frequency', 'avg_monetary', 'avg_total_items']]\n",
    "    df_cluster_aux = df_cluster_aux.sort_values(by='avg_monetary', ascending=False)\n",
    "    best_cluster = np.argmax(df_cluster_aux['avg_monetary'])\n",
    "    \n",
    "    return df_cluster_aux, best_cluster    "
   ]
  },
  {
   "cell_type": "code",
   "execution_count": 144,
   "id": "bbc5dcb7",
   "metadata": {},
   "outputs": [],
   "source": [
    "df_clusters, best_cluster = report_cluster(df_final)"
   ]
  },
  {
   "cell_type": "code",
   "execution_count": 145,
   "id": "417ba13f-f912-4f96-bd31-d7f2f119d648",
   "metadata": {},
   "outputs": [
    {
     "data": {
      "text/html": [
       "<div>\n",
       "<style scoped>\n",
       "    .dataframe tbody tr th:only-of-type {\n",
       "        vertical-align: middle;\n",
       "    }\n",
       "\n",
       "    .dataframe tbody tr th {\n",
       "        vertical-align: top;\n",
       "    }\n",
       "\n",
       "    .dataframe thead th {\n",
       "        text-align: right;\n",
       "    }\n",
       "</style>\n",
       "<table border=\"1\" class=\"dataframe\">\n",
       "  <thead>\n",
       "    <tr style=\"text-align: right;\">\n",
       "      <th></th>\n",
       "      <th>cluster</th>\n",
       "      <th>total_customers</th>\n",
       "      <th>pct_customers</th>\n",
       "      <th>avg_recency</th>\n",
       "      <th>avg_frequency</th>\n",
       "      <th>avg_monetary</th>\n",
       "      <th>avg_total_items</th>\n",
       "    </tr>\n",
       "  </thead>\n",
       "  <tbody>\n",
       "    <tr>\n",
       "      <th>3</th>\n",
       "      <td>3</td>\n",
       "      <td>28</td>\n",
       "      <td>0.53</td>\n",
       "      <td>7.71</td>\n",
       "      <td>54.39</td>\n",
       "      <td>58,172.01</td>\n",
       "      <td>1,108.93</td>\n",
       "    </tr>\n",
       "    <tr>\n",
       "      <th>1</th>\n",
       "      <td>1</td>\n",
       "      <td>1</td>\n",
       "      <td>0.02</td>\n",
       "      <td>182.00</td>\n",
       "      <td>4.00</td>\n",
       "      <td>39,619.50</td>\n",
       "      <td>4.00</td>\n",
       "    </tr>\n",
       "    <tr>\n",
       "      <th>2</th>\n",
       "      <td>2</td>\n",
       "      <td>5</td>\n",
       "      <td>0.09</td>\n",
       "      <td>90.40</td>\n",
       "      <td>2.40</td>\n",
       "      <td>9,527.08</td>\n",
       "      <td>6.00</td>\n",
       "    </tr>\n",
       "    <tr>\n",
       "      <th>4</th>\n",
       "      <td>4</td>\n",
       "      <td>299</td>\n",
       "      <td>5.63</td>\n",
       "      <td>167.26</td>\n",
       "      <td>1.00</td>\n",
       "      <td>2,868.75</td>\n",
       "      <td>307.10</td>\n",
       "    </tr>\n",
       "    <tr>\n",
       "      <th>0</th>\n",
       "      <td>0</td>\n",
       "      <td>4982</td>\n",
       "      <td>93.73</td>\n",
       "      <td>116.31</td>\n",
       "      <td>3.84</td>\n",
       "      <td>1,148.38</td>\n",
       "      <td>73.91</td>\n",
       "    </tr>\n",
       "  </tbody>\n",
       "</table>\n",
       "</div>"
      ],
      "text/plain": [
       "   cluster  total_customers  pct_customers  avg_recency  avg_frequency  avg_monetary  avg_total_items\n",
       "3        3               28           0.53         7.71          54.39     58,172.01         1,108.93\n",
       "1        1                1           0.02       182.00           4.00     39,619.50             4.00\n",
       "2        2                5           0.09        90.40           2.40      9,527.08             6.00\n",
       "4        4              299           5.63       167.26           1.00      2,868.75           307.10\n",
       "0        0             4982          93.73       116.31           3.84      1,148.38            73.91"
      ]
     },
     "execution_count": 145,
     "metadata": {},
     "output_type": "execute_result"
    }
   ],
   "source": [
    "df_clusters"
   ]
  },
  {
   "cell_type": "code",
   "execution_count": null,
   "id": "64cb2e3c-021a-4685-a933-ef5de89a7516",
   "metadata": {},
   "outputs": [],
   "source": []
  },
  {
   "cell_type": "markdown",
   "id": "847de897-128e-424f-817a-a8ffa4600950",
   "metadata": {
    "heading_collapsed": true,
    "tags": [],
    "toc-hr-collapsed": true
   },
   "source": [
    "# 6.0 Kedro Pipeline"
   ]
  },
  {
   "cell_type": "markdown",
   "id": "598d2a64",
   "metadata": {},
   "source": [
    "1. DATA INGESTION\n",
    "1. DATA PREPROCESSING \n",
    "    1. WRANGLING \n",
    "        - renaming\n",
    "        - replacing NAs (cria ids de clientes para faturas que não o continham)\n",
    "        - drop NAs (registros sem description)\n",
    "    2. CHANGING DTYPES\n",
    "        - parse data, customer_id para int\n",
    "    3. DROP DUPLICATES\n",
    "        - drop customer_ids duplicados\n",
    "2. FEATURE FILTERING\n",
    "    1. NUMERICAL COLS\n",
    "        - unit_price > 0.04\n",
    "    2. CATEGORICAL COLS\n",
    "        - remove:\n",
    "            - stock_code estranhos\n",
    "            - description column (not necessary)\n",
    "            - filter ONLY UK country\n",
    "            - bad users (after Univariate Analysis)\n",
    "            - negative Quantity numbers (df_purchases & df_returns)\n",
    "            \n",
    "3. FEATURE ENGINEERING\n",
    "    1. RFM\n",
    "    2. BUSINESS FEATURES\n",
    "\n",
    "4. PIPELINE: FEATURE NORMALIZATION & SPACE CREATION & MODEL SELECTION\n",
    "\n",
    "5. FINAL MODEL & CLUSTER ASSIGNMENT\n"
   ]
  },
  {
   "attachments": {
    "image.png": {
     "image/png": "[encoded data removed]"
    }
   },
   "cell_type": "markdown",
   "id": "5f4dd7ff",
   "metadata": {},
   "source": [
    "![image.png](attachment:image.png)"
   ]
  },
  {
   "cell_type": "markdown",
   "id": "5301e97a",
   "metadata": {},
   "source": [
    "## 6.1 Data Ingestion"
   ]
  },
  {
   "cell_type": "code",
   "execution_count": null,
   "id": "ea40f9ec",
   "metadata": {},
   "outputs": [],
   "source": [
    "import pandas as pd\n",
    "from typing import Optional, Union, Literal\n",
    "from pathlib import Path\n",
    "\n",
    "\n",
    "def data_ingestion(\n",
    "    file_path: Union[str, Path], \n",
    "    file_type: Optional[Literal[\"csv\", \"excel\", \"parquet\"]] = None,\n",
    "    **kwargs) -> pd.DataFrame:\n",
    "    \"\"\"\n",
    "    Reads data from the specified file path and returns it as a pandas DataFrame.\n",
    "    \n",
    "    Args:\n",
    "        file_path (Union[str, Path]): Path to the data file.\n",
    "        file_type (Optional[Literal[\"csv\", \"excel\", \"parquet\"]]): Type of file to read.\n",
    "            If None, will be inferred from file extension.\n",
    "        **kwargs: Additional arguments to pass to the pandas read function.\n",
    "            \n",
    "    Returns:\n",
    "        pd.DataFrame: The loaded data as a pandas DataFrame.\n",
    "        \n",
    "    Raises:\n",
    "        ValueError: If the file type is not supported or cannot be inferred.\n",
    "        FileNotFoundError: If the specified file does not exist.\n",
    "    \"\"\"\n",
    "    # Convert string path to Path object for more robust handling\n",
    "    path = Path(file_path) if isinstance(file_path, str) else file_path\n",
    "    \n",
    "    # Check if file exists\n",
    "    if not path.exists():\n",
    "        raise FileNotFoundError(f\"File not found: {path}\")\n",
    "    \n",
    "    # Determine file type if not explicitly provided\n",
    "    if file_type is None:\n",
    "        suffix = path.suffix.lower()\n",
    "        if suffix in ['.csv', '.txt']:\n",
    "            file_type = 'csv'\n",
    "        elif suffix in ['.xlsx', '.xls']:\n",
    "            file_type = 'excel'\n",
    "        elif suffix == '.parquet':\n",
    "            file_type = 'parquet'\n",
    "        else:\n",
    "            raise ValueError(f\"Could not infer file type from extension: {suffix}\")\n",
    "    \n",
    "    # Read data based on file type\n",
    "    if file_type == 'csv':\n",
    "        return pd.read_csv(path, **kwargs)\n",
    "    elif file_type == 'excel':\n",
    "        return pd.read_excel(path, **kwargs)\n",
    "    elif file_type == 'parquet':\n",
    "        return pd.read_parquet(path, **kwargs)\n",
    "    else:\n",
    "        raise ValueError(f\"Unsupported file type: {file_type}\")"
   ]
  },
  {
   "cell_type": "markdown",
   "id": "1437a74e",
   "metadata": {},
   "source": [
    "## 6.2 Data Preprocessing"
   ]
  },
  {
   "cell_type": "code",
   "execution_count": null,
   "id": "a1a332eb",
   "metadata": {},
   "outputs": [],
   "source": [
    "import pandas as pd\n",
    "import numpy as np\n",
    "from typing import Dict, Optional, Union, Tuple, List, Literal\n",
    "\n",
    "def data_preprocessing(\n",
    "    df_raw: pd.DataFrame,\n",
    "    drop_columns: Optional[List[str]] = None,\n",
    "    new_column_names: Optional[List[str]] = None,\n",
    "    missing_id_start: int = 19000,\n",
    "    date_format: str = '%d-%b-%y'\n",
    ") -> pd.DataFrame:\n",
    "    \"\"\"\n",
    "    Preprocesses raw e-commerce data by cleaning, transforming, and standardizing it.\n",
    "    \n",
    "    Args:\n",
    "        df_raw (pd.DataFrame): Raw e-commerce data.\n",
    "        drop_columns (Optional[List[str]]): Columns to drop. Defaults to ['Unnamed: 8'].\n",
    "        new_column_names (Optional[List[str]]): New column names. Defaults to standard e-commerce column names.\n",
    "        missing_id_start (int): Starting ID for customers with missing IDs. Defaults to 19000.\n",
    "        date_format (str): Format string for date parsing. Defaults to '%d-%b-%y'.\n",
    "        \n",
    "    Returns:\n",
    "        pd.DataFrame: Preprocessed reference dataframe containing only customer_id.\n",
    "        \n",
    "    Raises:\n",
    "        ValueError: If required columns are missing from the dataframe.\n",
    "    \"\"\"\n",
    "    # Make a copy to avoid modifying the original dataframe\n",
    "    df = df_raw.copy()\n",
    "    \n",
    "    # Set default values if not provided\n",
    "    if drop_columns is None:\n",
    "        drop_columns = ['Unnamed: 8']\n",
    "    \n",
    "    if new_column_names is None:\n",
    "        new_column_names = [\n",
    "            'invoice_no', 'stock_code', 'description', 'quantity', \n",
    "            'invoice_date', 'unit_price', 'customer_id', 'country'\n",
    "        ]\n",
    "    \n",
    "    # Drop unwanted columns if they exist\n",
    "    columns_to_drop = [col for col in drop_columns if col in df.columns]\n",
    "    if columns_to_drop:\n",
    "        df.drop(columns=columns_to_drop, axis=1, inplace=True)\n",
    "    \n",
    "    # Validate column count matches expected names\n",
    "    if len(df.columns) != len(new_column_names):\n",
    "        raise ValueError(f\"DataFrame has {len(df.columns)} columns but {len(new_column_names)} names were provided\")\n",
    "    \n",
    "    # Rename columns\n",
    "    df.columns = new_column_names\n",
    "    \n",
    "    # Handle missing customer IDs\n",
    "    df_missing = df.loc[df['customer_id'].isna(), :]\n",
    "    \n",
    "    # Create reference dataframe for missing IDs\n",
    "    df_backup = pd.DataFrame(df_missing['invoice_no'].drop_duplicates())\n",
    "    df_backup['customer_id'] = np.arange(\n",
    "        missing_id_start, \n",
    "        missing_id_start + len(df_backup), \n",
    "        1\n",
    "    )\n",
    "    \n",
    "    # Merge original with reference dataframe\n",
    "    df2 = pd.merge(df, df_backup, on='invoice_no', how='left')\n",
    "    \n",
    "    # Coalesce customer_id columns\n",
    "    df2['customer_id'] = df2['customer_id_x'].combine_first(df2['customer_id_y'])\n",
    "    \n",
    "    # Drop extra columns\n",
    "    df2.drop(columns=['customer_id_x', 'customer_id_y'], axis=1, inplace=True)\n",
    "    \n",
    "    # Drop rows with missing essential data\n",
    "    df2.dropna(subset=['description', 'customer_id'], inplace=True)\n",
    "    \n",
    "    # Convert data types\n",
    "    df2['invoice_date'] = pd.to_datetime(df2['invoice_date'], format=date_format, errors='coerce')\n",
    "    df2['customer_id'] = df2['customer_id'].astype(int)\n",
    "    \n",
    "    # Create customer reference dataframe (only customer_id)\n",
    "    df_ref = df2[['customer_id']].drop_duplicates(ignore_index=True)\n",
    "    \n",
    "    return df_ref"
   ]
  },
  {
   "cell_type": "code",
   "execution_count": null,
   "id": "89a90ac4",
   "metadata": {},
   "outputs": [],
   "source": [
    "def feature_filtering(\n",
    "    df: pd.DataFrame,\n",
    "    min_unit_price: float = 0.04,\n",
    "    excluded_stock_codes: Optional[List[str]] = None,\n",
    "    excluded_countries: Optional[List[str]] = None,\n",
    "    excluded_customer_ids: Optional[List[int]] = None\n",
    ") -> Dict[str, pd.DataFrame]:\n",
    "    \"\"\"\n",
    "    Filters e-commerce data based on various criteria and splits into relevant subsets.\n",
    "    \n",
    "    Args:\n",
    "        df (pd.DataFrame): Preprocessed e-commerce data.\n",
    "        min_unit_price (float): Minimum unit price to include. Defaults to 0.04.\n",
    "        excluded_stock_codes (Optional[List[str]]): Stock codes to exclude. \n",
    "            Defaults to a list of common non-product codes.\n",
    "        excluded_countries (Optional[List[str]]): Countries to exclude.\n",
    "            Defaults to ['European Community', 'Unspecified'].\n",
    "        excluded_customer_ids (Optional[List[int]]): Customer IDs to exclude.\n",
    "            Defaults to [16464].\n",
    "            \n",
    "    Returns:\n",
    "        Dict[str, pd.DataFrame]: Dictionary containing:\n",
    "            - 'filtered_data': Main filtered dataframe\n",
    "            - 'returns': Dataframe with return transactions (negative quantities)\n",
    "            - 'purchases': Dataframe with purchase transactions (positive quantities)\n",
    "            \n",
    "    Raises:\n",
    "        ValueError: If required columns are missing from the dataframe.\n",
    "    \"\"\"\n",
    "    # Make a copy to avoid modifying the original dataframe\n",
    "    df_filtered = df.copy()\n",
    "    \n",
    "    # Set default values if not provided\n",
    "    if excluded_stock_codes is None:\n",
    "        excluded_stock_codes = [\n",
    "            'POST', 'D', 'DOT', 'M', 'S', 'AMAZONFEE', 'm', \n",
    "            'DCGSSBOY', 'DCGSSGIRL', 'PADS', 'B', 'CRUK'\n",
    "        ]\n",
    "    \n",
    "    if excluded_countries is None:\n",
    "        excluded_countries = ['European Community', 'Unspecified']\n",
    "    \n",
    "    if excluded_customer_ids is None:\n",
    "        excluded_customer_ids = [16464]\n",
    "    \n",
    "    # Check for required columns\n",
    "    required_columns = ['unit_price', 'stock_code', 'country', 'customer_id', 'quantity']\n",
    "    missing_columns = [col for col in required_columns if col not in df_filtered.columns]\n",
    "    if missing_columns:\n",
    "        raise ValueError(f\"Required columns missing: {missing_columns}\")\n",
    "    \n",
    "    # Filter by unit price\n",
    "    df_filtered = df_filtered.loc[df_filtered['unit_price'] > min_unit_price, :]\n",
    "    \n",
    "    # Filter by stock code\n",
    "    df_filtered = df_filtered.loc[~df_filtered['stock_code'].isin(excluded_stock_codes), :]\n",
    "    \n",
    "    # Remove description column if it exists\n",
    "    if 'description' in df_filtered.columns:\n",
    "        df_filtered = df_filtered.drop(columns='description', axis=1)\n",
    "    \n",
    "    # Filter by country\n",
    "    df_filtered = df_filtered[~df_filtered['country'].isin(excluded_countries)]\n",
    "    \n",
    "    # Filter out problematic customer IDs\n",
    "    df_filtered = df_filtered[~df_filtered['customer_id'].isin(excluded_customer_ids)]\n",
    "    \n",
    "    # Split by transaction type (purchase vs return)\n",
    "    df_returns = df_filtered.loc[df_filtered['quantity'] < 0, :].copy()\n",
    "    df_purchases = df_filtered.loc[df_filtered['quantity'] > 0, :].copy()\n",
    "    \n",
    "    # Return results as a dictionary with meaningful names\n",
    "    return {\n",
    "        'filtered_data': df_filtered,\n",
    "        'returns': df_returns,\n",
    "        'purchases': df_purchases\n",
    "    }"
   ]
  },
  {
   "cell_type": "code",
   "execution_count": 2,
   "id": "8ca77a06",
   "metadata": {},
   "outputs": [],
   "source": [
    "# # DEPRECATED\n",
    "\n",
    "# def preprocess_ecommerce(Ecommerce: pd.DataFrame) -> pd.DataFrame:\n",
    "#     \"\"\"Preprocesses the data for Ecommerce.\n",
    "\n",
    "#     Args:\n",
    "#         Ecommerce: Raw data.\n",
    "#     Returns:\n",
    "#         Dataframe preprocessado.\n",
    "#     \"\"\"\n",
    "    \n",
    "#     # Dropping unwanted columns\n",
    "#     Ecommerce.drop(columns=['Unnamed: 8'], axis=1, inplace=True)\n",
    "    \n",
    "#     # Rename columns\n",
    "#     cols_new = ['invoice_no', 'stock_code', 'description', 'quantity', 'invoice_date', 'unit_price', 'customer_id', 'country']\n",
    "#     Ecommerce.columns = cols_new\n",
    "    \n",
    "#     df_missing = Ecommerce.loc[Ecommerce['customer_id'].isna(), :]\n",
    "#     df_not_missing = Ecommerce.loc[~Ecommerce['customer_id'].isna(), :]\n",
    "    \n",
    "#     # create reference\n",
    "#     df_backup = pd.DataFrame(df_missing['invoice_no'].drop_duplicates())\n",
    "#     df_backup['customer_id'] = np.arange(19000, 19000+len(df_backup), 1)\n",
    "\n",
    "\n",
    "#     # merge original with reference dataframe\n",
    "#     df2 = pd.merge(Ecommerce, df_backup, on='invoice_no', how='left')\n",
    "#     # coalesce\n",
    "#     df2['customer_id'] = df2['customer_id_x'].combine_first(df2['customer_id_y'])\n",
    "#     # drop extra columns\n",
    "#     df2 = df2.drop(columns=['customer_id_x', 'customer_id_y'], axis=1)\n",
    "#     # drop na\n",
    "#     df2.dropna(subset=['description', 'customer_id'], inplace=True)\n",
    "\n",
    "#     # Change Dtypes\n",
    "#     df2['invoice_date'] = pd.to_datetime(df2['invoice_date'], format='%d-%b-%y')\n",
    "#     df2['customer_id'] = df2['customer_id'].astype(int)\n",
    "\n",
    "#     # Create DataFrame Reference\n",
    "#     df_ref = df2.drop(['invoice_no', 'stock_code', 'description', \n",
    "#                     'quantity', 'invoice_date', 'unit_price', \n",
    "#                     'country'], axis=1).drop_duplicates(ignore_index=True)\n",
    "    \n",
    "#     return df_ref\n",
    "\n",
    "\n",
    "# def feature_filtering(df_ref: pd.DataFrame) -> pd.DataFrame:    \n",
    "#     \"\"\"Filter features from the data.\n",
    "\n",
    "#     Args:\n",
    "#         df_ref: Reference data processed.\n",
    "#     Returns:\n",
    "#         Dataframe preprocessado.\n",
    "#     \"\"\"\n",
    "#     ###### Numerical Cols ######\n",
    "#     df_ref = df_ref.loc[df_ref['unit_price'] > 0.04, :]\n",
    "#     ###### Categorical Cols ######\n",
    "#     df_ref = df_ref.loc[~df_ref['stock_code'].isin(['POST', 'D', 'DOT', 'M', 'S', 'AMAZONFEE', 'm', 'DCGSSBOY','DCGSSGIRL', 'PADS', 'B', 'CRUK'])]\n",
    "\n",
    "\n",
    "#     # Description\n",
    "#     df_ref = df_ref.drop(columns='description', axis=1)\n",
    "\n",
    "#     # Map\n",
    "#     df_ref = df_ref[~df_ref['country'].isin(['European Community', 'Unspecified'])]\n",
    "\n",
    "#     # Bad Users - Atualizado após Análise Univariada\n",
    "#     df_filtered = df_ref[~df_ref['customer_id'].isin([16464])]\n",
    "\n",
    "#     # Quantity - negative numbers means product returns\n",
    "#     df_returns = df_ref.loc[df_ref['quantity'] < 0, :]\n",
    "#     df_purchases = df_ref.loc[df_ref['quantity'] > 0, :]\n",
    "    \n",
    "\n",
    "    \n",
    "#     # When returning many variables, it is a good practice to give them names\n",
    "#     return dict(\n",
    "#         filtered_Ecommerce = df_filtered,\n",
    "#         returns = df_returns,\n",
    "#         purchases = df_purchases\n",
    "#         )\n",
    "# # Aqui eu termino a seção \"3.0 - Feature Filtering\", retorno o DF principal (df_filtered) \n",
    "# # e tb retorno os df returns e purchases, que serão utilizados na seção \"4.0 - Feature Engineering\""
   ]
  },
  {
   "cell_type": "markdown",
   "id": "197e8c90",
   "metadata": {},
   "source": [
    "## 6.3 Feature Engineering"
   ]
  },
  {
   "cell_type": "code",
   "execution_count": null,
   "id": "60af730e",
   "metadata": {},
   "outputs": [],
   "source": [
    "\n",
    "\n",
    "def feature_filtering(df: pd.DataFrame) -> pd.DataFrame:\n",
    "\n",
    "    df = df.loc[df['unit_price'] > 0.04, :]\n",
    "    df = df.loc[~df['stock_code'].isin(['POST', 'D', 'DOT', 'M', 'S', 'AMAZONFEE', 'm', 'DCGSSBOY','DCGSSGIRL', 'PADS', 'B', 'CRUK'])]\n",
    "    df = df.drop(columns='description', axis=1)\n",
    "    df = df[df['country'].isin(['United Kingdom'])]\n",
    "    df = df[~df['customer_id'].isin([16464])]\n",
    "    \n",
    "    return df\n"
   ]
  },
  {
   "cell_type": "code",
   "execution_count": 37,
   "id": "67c510ae",
   "metadata": {},
   "outputs": [],
   "source": [
    "def create_features(df):\n",
    "    \"\"\"\n",
    "    Adds features to train set.   \n",
    "    \"\"\"\n",
    "    \n",
    "    df_ref = df.drop(['invoice_no', 'stock_code', 'quantity', 'invoice_date', 'unit_price', 'country'], axis=1).drop_duplicates(ignore_index=True)    \n",
    "    \n",
    "    # Gross Revenue (Faturamento = Quantidade * Preço)\n",
    "    df['gross_revenue'] = df['quantity'] * df['unit_price']\n",
    "    # Monetary\n",
    "    df_monetary = df.loc[:, ['customer_id', 'gross_revenue']].groupby('customer_id').sum().reset_index().copy()\n",
    "    \n",
    "    \n",
    "    # Recency: Dia da última compra\n",
    "    df_recency = df.groupby('customer_id')['invoice_date'].max().reset_index()\n",
    "    df_recency['recency'] = (df['invoice_date'].max() - df_recency['invoice_date']).dt.days\n",
    "    df_recency = df_recency[['customer_id', 'recency']].copy()\n",
    "    \n",
    "    \n",
    "    # Frequency - Contagem do número de compras feitas pelo cliente\n",
    "    df_freq = (df[['customer_id', 'invoice_no']].drop_duplicates()\n",
    "                                                          .groupby('customer_id')\n",
    "                                                          .count()\n",
    "                                                          .reset_index()\n",
    "                                                          .astype(int)\n",
    "                                                          .rename(columns={'invoice_no':'frequency'}))\n",
    "    \n",
    "    # Freq Quantity items\n",
    "    df_freq2 = (df[['customer_id', 'quantity']].groupby('customer_id').sum()\n",
    "                                                    .reset_index()\n",
    "                                                    .rename(columns={'quantity':'qtde_items'}))\n",
    "    \n",
    "    df_freq3 = (df[['customer_id', 'stock_code']].groupby('customer_id').count()\n",
    "                                                .reset_index()\n",
    "                                                .rename(columns={'stock_code':'qtde_products'}))\n",
    "    \n",
    "    # Avg Ticket - Ticket Médio\n",
    "    df_avg_ticket = (df[['customer_id', 'gross_revenue']].groupby('customer_id')\n",
    "                                                         .mean()\n",
    "                                                         .reset_index()\n",
    "                                                         .rename(columns={'gross_revenue':'avg_ticket'}))\n",
    "\n",
    "\n",
    "    df_aux49 = (df.loc[:, ['customer_id', 'invoice_no', 'quantity']].groupby('customer_id') \\\n",
    "                                                                              .agg(n_purchase=('invoice_no', 'nunique'),\n",
    "                                                                               n_products=('quantity', 'sum')) \\\n",
    "                                                                              .reset_index())\n",
    "    serie_49 = df_aux49['n_products'] / df_aux49['n_purchase']\n",
    "    df_aux49['avg_basket_size'] = serie_49\n",
    "\n",
    "    df_aux410 = (df.loc[:, ['customer_id', 'invoice_no', 'stock_code']].groupby('customer_id') \\\n",
    "                                                                          .agg(n_purchase=('invoice_no', 'nunique'),\n",
    "                                                                               n_products=('stock_code', 'nunique')) \\\n",
    "                                                                          .reset_index())\n",
    "    serie_410 = df_aux410['n_products'] / df_aux410['n_purchase']\n",
    "    df_aux410['avg_unique_basket_size'] = serie_410\n",
    "\n",
    "    \n",
    "    df_ref = pd.merge(df_ref, df_monetary, how='left', on='customer_id')\n",
    "    df_ref = pd.merge(df_ref, df_recency, how='left', on='customer_id')\n",
    "    df_ref = pd.merge(df_ref, df_freq, how='left', on='customer_id')\n",
    "    df_ref = pd.merge(df_ref, df_freq2, how='left', on='customer_id')\n",
    "    df_ref = pd.merge(df_ref, df_freq3, how='left', on='customer_id')\n",
    "    df_ref = pd.merge(df_ref, df_avg_ticket, on='customer_id', how='left')\n",
    "    df_ref = pd.merge(df_ref, df_aux49[['customer_id', 'avg_basket_size']], how='left', on='customer_id')\n",
    "    df_ref = pd.merge(df_ref, df_aux410[['customer_id', 'avg_unique_basket_size']], how='left', on='customer_id')\n",
    "    \n",
    "    df_ref.rename(columns={'gross_revenue':'monetary',\n",
    "    #                'invoice_no':'quantity'\n",
    "                          },\n",
    "                    inplace=True)\n",
    "    \n",
    "    \n",
    "    return df_ref"
   ]
  },
  {
   "cell_type": "code",
   "execution_count": null,
   "id": "b4f53de5",
   "metadata": {},
   "outputs": [],
   "source": []
  },
  {
   "cell_type": "markdown",
   "id": "2ff3ca7e",
   "metadata": {},
   "source": [
    "## 6.4 Model Training"
   ]
  },
  {
   "cell_type": "code",
   "execution_count": null,
   "id": "8f35e669",
   "metadata": {},
   "outputs": [],
   "source": [
    "def split_train(df):\n",
    "    X = df.copy()\n",
    "    X_train = X.drop(columns='customer_id', axis=1)    \n",
    "    \n",
    "    return X_train"
   ]
  },
  {
   "cell_type": "code",
   "execution_count": 39,
   "id": "b6ed1a61",
   "metadata": {},
   "outputs": [],
   "source": [
    "class TreeBasedEmbedding(BaseEstimator, TransformerMixin):\n",
    "    \"\"\"\n",
    "    Custom transformer that uses Random Forest's apply method to create tree-based embeddings.\n",
    "    This always will only use 2 components.\n",
    "    \"\"\"\n",
    "    def __init__(self, n_components=2, n_estimators=100, random_state=42):\n",
    "        self.n_components = 2  # Hardcoded to 2 as per your original implementation\n",
    "        self.n_estimators = n_estimators\n",
    "        self.random_state = random_state\n",
    "        self.rf = None\n",
    "        \n",
    "    def fit(self, X, y=None):\n",
    "        # Validate y\n",
    "        if y is None:\n",
    "            raise ValueError(\"A target variable is required for fitting\")\n",
    "        \n",
    "        # Ensure y is a Series or can be converted to one\n",
    "        if not isinstance(y, pd.Series):\n",
    "            y = pd.Series(y)\n",
    "        \n",
    "        # Handle DataFrame or numpy array input\n",
    "        if isinstance(X, pd.DataFrame):\n",
    "            X_features = X.drop(columns=[y.name])\n",
    "        else:\n",
    "            X_features = X\n",
    "        \n",
    "        # Train a RandomForestRegressor\n",
    "        self.rf = RandomForestRegressor(\n",
    "            n_estimators=self.n_estimators,\n",
    "            random_state=self.random_state\n",
    "        )\n",
    "        self.rf.fit(X_features, y)\n",
    "        return self\n",
    "    \n",
    "    def transform(self, X):\n",
    "        # Get leaf indices for each sample across all trees\n",
    "        if self.rf is None:\n",
    "            raise ValueError(\"Transformer not fitted. Call fit before transform.\")\n",
    "        \n",
    "        # Handle DataFrame or numpy array input\n",
    "        if isinstance(X, pd.DataFrame):\n",
    "            X_features = X.values\n",
    "        else:\n",
    "            X_features = X\n",
    "        \n",
    "        leaf_indices = self.rf.apply(X_features)\n",
    "        return leaf_indices\n",
    "    \n",
    "    def fit_transform(self, X, y):\n",
    "        # Validate y\n",
    "        if not isinstance(y, pd.Series):\n",
    "            y = pd.Series(y)\n",
    "        \n",
    "        # Handle DataFrame or numpy array input\n",
    "        if isinstance(X, pd.DataFrame):\n",
    "            X_features = X.drop(columns=[y.name])\n",
    "        else:\n",
    "            X_features = X\n",
    "        \n",
    "        # Train a RandomForestRegressor\n",
    "        self.rf = RandomForestRegressor(\n",
    "            n_estimators=self.n_estimators,\n",
    "            random_state=self.random_state\n",
    "        )\n",
    "        self.rf.fit(X_features, y)\n",
    "        \n",
    "        leaf_indices = self.rf.apply(X_features)\n",
    "        return leaf_indices\n",
    "    \n",
    "\n",
    "\n",
    "def making_preds(X, y, component_range, cluster_range, eps_range, n_estimators=100):\n",
    "    results = []\n",
    "    best_pipeline = None\n",
    "    best_score = -np.inf\n",
    "    best_params = None\n",
    "\n",
    "    scalers = {\n",
    "        \"StandardScaler\": StandardScaler(),\n",
    "        \"MinMaxScaler\": MinMaxScaler(),\n",
    "        \"RobustScaler\": RobustScaler(),\n",
    "    }\n",
    "    \n",
    "    reductors = {\n",
    "        'PCA': PCA,  \n",
    "        'UMAP': umap.UMAP, \n",
    "        'TreeBasedEmbedding': TreeBasedEmbedding, \n",
    "    }\n",
    "    \n",
    "    metrics = {\n",
    "        \"Silhouette Score\": silhouette_score,\n",
    "        \"Calinski Harabasz Score\": calinski_harabasz_score,\n",
    "        \"Davies Bouldin Score\": davies_bouldin_score,\n",
    "    }\n",
    "    \n",
    "    # Main loop\n",
    "    for scaler_name, scaler in tqdm(scalers.items(), desc=\"Scalers\"):\n",
    "        for red_name, reductor in tqdm(reductors.items()):\n",
    "            for model_name in tqdm(['DBSCAN', 'K-Means', 'Hierarchical', 'Gaussian Mixture']):\n",
    "                if model_name == 'DBSCAN':\n",
    "                    for component in component_range:\n",
    "                        X_scaled = scaler.fit_transform(X)\n",
    "                        \n",
    "                        # Properly instantiate reductor\n",
    "                        if red_name != 'TreeBasedEmbedding':\n",
    "                            X_pca = reductor(n_components=component, random_state=42).fit_transform(X_scaled)\n",
    "                        else:\n",
    "                            X_leaf = reductor(n_estimators=n_estimators).fit_transform(X, y)\n",
    "                            X_pca = PCA(n_components=2).fit_transform(X_leaf)\n",
    "                        \n",
    "                        for eps_val in eps_range:\n",
    "                            model = DBSCAN(eps=eps_val, min_samples=20)\n",
    "                            labels = model.fit_predict(X_pca)\n",
    "\n",
    "                            # Calculate only if at least 5 clusters exist, removing noise\n",
    "                            unique_labels = np.unique(labels)\n",
    "                            unique_labels = unique_labels[unique_labels != -1]\n",
    "\n",
    "                            if len(unique_labels) >= 5:\n",
    "                                sil = silhouette_score(X, labels)\n",
    "                                ch = calinski_harabasz_score(X, labels)\n",
    "                                db = davies_bouldin_score(X, labels)\n",
    "\n",
    "                                # Store results\n",
    "                                results.append({\n",
    "                                    'scaler': scaler_name,\n",
    "                                    'dim_reduction': red_name,\n",
    "                                    'n_components': component,\n",
    "                                    'model': model,\n",
    "                                    'n_clusters/eps': eps_val,\n",
    "                                    'silhouette': sil,\n",
    "                                    'calinski_harabasz': ch,\n",
    "                                    'davies_bouldin': db,\n",
    "#                                     'labels': labels\n",
    "                                })\n",
    "                else:\n",
    "                    for component in component_range:\n",
    "                        X_scaled = scaler.fit_transform(X)\n",
    "                        \n",
    "                        # Properly instantiate reductor\n",
    "                        if red_name != 'TreeBasedEmbedding':\n",
    "                            X_pca = reductor(n_components=component, random_state=42).fit_transform(X_scaled)\n",
    "                        else:\n",
    "                            X_leaf = reductor(n_estimators=n_estimators).fit_transform(X, y)\n",
    "                            X_pca = PCA(n_components=2).fit_transform(X_leaf)\n",
    "                        \n",
    "                        for cluster in cluster_range:\n",
    "                            if model_name == 'K-Means':\n",
    "                                model = KMeans(n_clusters=cluster, random_state=42, n_init=20)\n",
    "                            elif model_name == 'Hierarchical':\n",
    "                                model = AgglomerativeClustering(n_clusters=cluster)\n",
    "                            elif model_name == 'Gaussian Mixture':\n",
    "                                model = GaussianMixture(n_components=cluster, random_state=42)\n",
    "                            \n",
    "                            labels = model.fit_predict(X_pca)\n",
    "                            sil = silhouette_score(X, labels)\n",
    "                            ch = calinski_harabasz_score(X, labels)\n",
    "                            db = davies_bouldin_score(X, labels)\n",
    "                            \n",
    "                            results.append({\n",
    "                                'scaler': scaler_name,\n",
    "                                'dim_reduction': red_name,\n",
    "                                'n_components': component,\n",
    "                                'model': model,\n",
    "                                'n_clusters/eps': cluster,\n",
    "                                'silhouette': sil,\n",
    "                                'calinski_harabasz': ch,\n",
    "                                'davies_bouldin': db,\n",
    "#                                 'labels': labels\n",
    "                            })\n",
    "                            \n",
    "    results_no_pipeline = [{k: v for k, v in r.items() if k != 'pipeline' and k != 'labels'} for r in results]\n",
    "    results_pd = pd.DataFrame(results_no_pipeline)\n",
    "    best_result = results_pd.sort_values(['silhouette', 'calinski_harabasz', 'davies_bouldin'], ascending=[False, False, False])[0]\n",
    "    return pd.DataFrame(results_no_pipeline)"
   ]
  },
  {
   "cell_type": "code",
   "execution_count": 40,
   "id": "d3a535a0",
   "metadata": {},
   "outputs": [],
   "source": [
    "comp_range = np.arange(2, 9)\n",
    "clust_range = np.arange(5, 11)\n",
    "eps_range = np.arange(0.2, 1.0, 0.1)"
   ]
  },
  {
   "cell_type": "code",
   "execution_count": 196,
   "id": "a8421233",
   "metadata": {
    "collapsed": true,
    "jupyter": {
     "outputs_hidden": true
    },
    "tags": []
   },
   "outputs": [
    {
     "name": "stderr",
     "output_type": "stream",
     "text": [
      "Scalers:   0%|                                                                                    | 0/3 [00:00<?, ?it/s]\n",
      "  0%|                                                                                             | 0/3 [00:00<?, ?it/s]\u001b[A\n",
      "\n",
      "  0%|                                                                                             | 0/4 [00:00<?, ?it/s]\u001b[A\u001b[A\n",
      "\n",
      " 25%|█████████████████████▎                                                               | 1/4 [00:06<00:20,  6.72s/it]\u001b[A\u001b[A\n",
      "\n",
      " 50%|██████████████████████████████████████████▌                                          | 2/4 [01:12<01:23, 41.62s/it]\u001b[A\u001b[A\n",
      "\n",
      " 75%|███████████████████████████████████████████████████████████████▊                     | 3/4 [01:45<00:37, 37.47s/it]\u001b[A\u001b[A\n",
      "\n",
      "100%|█████████████████████████████████████████████████████████████████████████████████████| 4/4 [02:19<00:00, 34.88s/it]\u001b[A\u001b[A\n",
      "\n",
      " 33%|████████████████████████████                                                        | 1/3 [02:19<04:39, 139.50s/it]\u001b[A\n",
      "\n",
      "  0%|                                                                                             | 0/4 [00:00<?, ?it/s]\u001b[A\u001b[A\n",
      "\n",
      " 25%|█████████████████████▎                                                               | 1/4 [00:49<02:29, 49.94s/it]\u001b[A\u001b[A\n",
      "\n",
      " 50%|██████████████████████████████████████████▌                                          | 2/4 [01:41<01:41, 50.84s/it]\u001b[A\u001b[A\n",
      "\n",
      " 75%|███████████████████████████████████████████████████████████████▊                     | 3/4 [02:43<00:56, 56.15s/it]\u001b[A\u001b[A\n",
      "\n",
      "100%|█████████████████████████████████████████████████████████████████████████████████████| 4/4 [03:41<00:00, 55.31s/it]\u001b[A\u001b[A\n",
      "\n",
      " 67%|████████████████████████████████████████████████████████                            | 2/3 [06:00<03:07, 187.59s/it]\u001b[A\n",
      "\n",
      "  0%|                                                                                             | 0/4 [00:00<?, ?it/s]\u001b[A\u001b[A\n",
      "\n",
      " 25%|█████████████████████▎                                                               | 1/4 [00:14<00:42, 14.22s/it]\u001b[A\u001b[A\n",
      "\n",
      " 50%|██████████████████████████████████████████▌                                          | 2/4 [01:29<01:40, 50.24s/it]\u001b[A\u001b[A\n",
      "\n",
      " 75%|███████████████████████████████████████████████████████████████▊                     | 3/4 [02:11<00:46, 46.22s/it]\u001b[A\u001b[A\n",
      "\n",
      "100%|█████████████████████████████████████████████████████████████████████████████████████| 4/4 [02:40<00:00, 40.22s/it]\u001b[A\u001b[A\n",
      "\n",
      "100%|████████████████████████████████████████████████████████████████████████████████████| 3/3 [08:41<00:00, 173.88s/it]\u001b[A\n",
      "Scalers:  33%|█████████████████████████                                                  | 1/3 [08:41<17:23, 521.64s/it]\n",
      "  0%|                                                                                             | 0/3 [00:00<?, ?it/s]\u001b[A\n",
      "\n",
      "  0%|                                                                                             | 0/4 [00:00<?, ?it/s]\u001b[A\u001b[A\n",
      "\n",
      " 25%|█████████████████████▎                                                               | 1/4 [00:10<00:30, 10.15s/it]\u001b[A\u001b[A\n",
      "\n",
      " 50%|██████████████████████████████████████████▌                                          | 2/4 [01:16<01:26, 43.05s/it]\u001b[A\u001b[A\n",
      "\n",
      " 75%|███████████████████████████████████████████████████████████████▊                     | 3/4 [01:46<00:37, 37.14s/it]\u001b[A\u001b[A\n",
      "\n",
      "100%|█████████████████████████████████████████████████████████████████████████████████████| 4/4 [02:21<00:00, 35.32s/it]\u001b[A\u001b[A\n",
      "\n",
      " 33%|████████████████████████████                                                        | 1/3 [02:21<04:42, 141.30s/it]\u001b[A\n",
      "\n",
      "  0%|                                                                                             | 0/4 [00:00<?, ?it/s]\u001b[A\u001b[A\n",
      "\n",
      " 25%|█████████████████████▎                                                               | 1/4 [00:53<02:40, 53.48s/it]\u001b[A\u001b[A\n",
      "\n",
      " 50%|██████████████████████████████████████████▌                                          | 2/4 [01:45<01:45, 52.68s/it]\u001b[A\u001b[A\n",
      "\n",
      " 75%|███████████████████████████████████████████████████████████████▊                     | 3/4 [02:49<00:57, 57.59s/it]\u001b[A\u001b[A\n",
      "\n",
      "100%|█████████████████████████████████████████████████████████████████████████████████████| 4/4 [03:42<00:00, 55.75s/it]\u001b[A\u001b[A\n",
      "\n",
      " 67%|████████████████████████████████████████████████████████                            | 2/3 [06:04<03:09, 189.36s/it]\u001b[A\n",
      "\n",
      "  0%|                                                                                             | 0/4 [00:00<?, ?it/s]\u001b[A\u001b[A\n",
      "\n",
      " 25%|█████████████████████▎                                                               | 1/4 [00:13<00:41, 13.74s/it]\u001b[A\u001b[A\n",
      "\n",
      " 50%|██████████████████████████████████████████▌                                          | 2/4 [01:30<01:41, 50.85s/it]\u001b[A\u001b[A\n",
      "\n",
      " 75%|███████████████████████████████████████████████████████████████▊                     | 3/4 [02:11<00:46, 46.40s/it]\u001b[A\u001b[A\n",
      "\n",
      "100%|█████████████████████████████████████████████████████████████████████████████████████| 4/4 [02:42<00:00, 40.58s/it]\u001b[A\u001b[A\n",
      "\n",
      "100%|████████████████████████████████████████████████████████████████████████████████████| 3/3 [08:46<00:00, 175.54s/it]\u001b[A\n",
      "Scalers:  67%|██████████████████████████████████████████████████                         | 2/3 [17:28<08:44, 524.58s/it]\n",
      "  0%|                                                                                             | 0/3 [00:00<?, ?it/s]\u001b[A\n",
      "\n",
      "  0%|                                                                                             | 0/4 [00:00<?, ?it/s]\u001b[A\u001b[A\n",
      "\n",
      " 25%|█████████████████████▎                                                               | 1/4 [00:04<00:12,  4.32s/it]\u001b[A\u001b[A\n",
      "\n",
      " 50%|██████████████████████████████████████████▌                                          | 2/4 [01:05<01:15, 37.75s/it]\u001b[A\u001b[A\n",
      "\n",
      " 75%|███████████████████████████████████████████████████████████████▊                     | 3/4 [01:39<00:35, 35.91s/it]\u001b[A\u001b[A\n",
      "\n",
      "100%|█████████████████████████████████████████████████████████████████████████████████████| 4/4 [02:15<00:00, 33.95s/it]\u001b[A\u001b[A\n",
      "\n",
      " 33%|████████████████████████████                                                        | 1/3 [02:15<04:31, 135.82s/it]\u001b[A\n",
      "\n",
      "  0%|                                                                                             | 0/4 [00:00<?, ?it/s]\u001b[A\u001b[A\n",
      "\n",
      " 25%|█████████████████████▎                                                               | 1/4 [00:52<02:37, 52.60s/it]\u001b[A\u001b[A\n",
      "\n",
      " 50%|██████████████████████████████████████████▌                                          | 2/4 [01:42<01:41, 51.00s/it]\u001b[A\u001b[A\n",
      "\n",
      " 75%|███████████████████████████████████████████████████████████████▊                     | 3/4 [02:42<00:55, 55.10s/it]\u001b[A\u001b[A\n",
      "\n",
      "100%|█████████████████████████████████████████████████████████████████████████████████████| 4/4 [03:40<00:00, 55.05s/it]\u001b[A\u001b[A\n",
      "\n",
      " 67%|████████████████████████████████████████████████████████                            | 2/3 [05:56<03:05, 185.45s/it]\u001b[A\n",
      "\n",
      "  0%|                                                                                             | 0/4 [00:00<?, ?it/s]\u001b[A\u001b[A\n",
      "\n",
      " 25%|█████████████████████▎                                                               | 1/4 [00:13<00:40, 13.60s/it]\u001b[A\u001b[A\n",
      "\n",
      " 50%|██████████████████████████████████████████▌                                          | 2/4 [01:20<01:29, 44.86s/it]\u001b[A\u001b[A\n",
      "\n",
      " 75%|███████████████████████████████████████████████████████████████▊                     | 3/4 [02:01<00:42, 42.95s/it]\u001b[A\u001b[A\n",
      "\n",
      "100%|█████████████████████████████████████████████████████████████████████████████████████| 4/4 [02:31<00:00, 37.84s/it]\u001b[A\u001b[A\n",
      "\n",
      "100%|████████████████████████████████████████████████████████████████████████████████████| 3/3 [08:27<00:00, 169.12s/it]\u001b[A\n",
      "Scalers: 100%|███████████████████████████████████████████████████████████████████████████| 3/3 [25:55<00:00, 518.55s/it]"
     ]
    },
    {
     "name": "stdout",
     "output_type": "stream",
     "text": [
      "CPU times: user 1h 6min 25s, sys: 1h 8min 19s, total: 2h 14min 44s\n",
      "Wall time: 25min 55s\n"
     ]
    },
    {
     "name": "stderr",
     "output_type": "stream",
     "text": [
      "\n"
     ]
    }
   ],
   "source": [
    "%%time\n",
    "\n",
    "final_preds = making_preds(X=X_train, y=y, component_range=comp_range, cluster_range=clust_range, eps_range=eps_range)"
   ]
  },
  {
   "cell_type": "code",
   "execution_count": null,
   "id": "d20a9f92-8d32-49df-9f52-7971b2529a3b",
   "metadata": {},
   "outputs": [],
   "source": []
  },
  {
   "cell_type": "markdown",
   "id": "0c7cccd2",
   "metadata": {},
   "source": [
    "## 6.5 Model Predictions"
   ]
  },
  {
   "cell_type": "code",
   "execution_count": 201,
   "id": "e1c82c63",
   "metadata": {},
   "outputs": [],
   "source": [
    "results_no_pipeline = [{k: v for k, v in r.items() if k != 'pipeline' and k != 'labels'} for r in final_preds]\n",
    "final_preds_df = pd.DataFrame(results_no_pipeline)"
   ]
  },
  {
   "cell_type": "code",
   "execution_count": 208,
   "id": "b3bff524",
   "metadata": {},
   "outputs": [
    {
     "data": {
      "text/html": [
       "<div>\n",
       "<style scoped>\n",
       "    .dataframe tbody tr th:only-of-type {\n",
       "        vertical-align: middle;\n",
       "    }\n",
       "\n",
       "    .dataframe tbody tr th {\n",
       "        vertical-align: top;\n",
       "    }\n",
       "\n",
       "    .dataframe thead th {\n",
       "        text-align: right;\n",
       "    }\n",
       "</style>\n",
       "<table border=\"1\" class=\"dataframe\">\n",
       "  <thead>\n",
       "    <tr style=\"text-align: right;\">\n",
       "      <th></th>\n",
       "      <th>scaler</th>\n",
       "      <th>dim_reduction</th>\n",
       "      <th>n_components</th>\n",
       "      <th>model</th>\n",
       "      <th>n_clusters/eps</th>\n",
       "      <th>silhouette</th>\n",
       "      <th>calinski_harabasz</th>\n",
       "      <th>davies_bouldin</th>\n",
       "    </tr>\n",
       "  </thead>\n",
       "  <tbody>\n",
       "    <tr>\n",
       "      <th>872</th>\n",
       "      <td>RobustScaler</td>\n",
       "      <td>PCA</td>\n",
       "      <td>6</td>\n",
       "      <td>KMeans(n_clusters=5, n_init=20, random_state=42)</td>\n",
       "      <td>5.00</td>\n",
       "      <td>0.67</td>\n",
       "      <td>1446.53</td>\n",
       "      <td>1.57</td>\n",
       "    </tr>\n",
       "    <tr>\n",
       "      <th>848</th>\n",
       "      <td>RobustScaler</td>\n",
       "      <td>PCA</td>\n",
       "      <td>2</td>\n",
       "      <td>KMeans(n_clusters=5, n_init=20, random_state=42)</td>\n",
       "      <td>5.00</td>\n",
       "      <td>0.67</td>\n",
       "      <td>1440.64</td>\n",
       "      <td>1.60</td>\n",
       "    </tr>\n",
       "    <tr>\n",
       "      <th>878</th>\n",
       "      <td>RobustScaler</td>\n",
       "      <td>PCA</td>\n",
       "      <td>7</td>\n",
       "      <td>KMeans(n_clusters=5, n_init=20, random_state=42)</td>\n",
       "      <td>5.00</td>\n",
       "      <td>0.67</td>\n",
       "      <td>1479.89</td>\n",
       "      <td>1.64</td>\n",
       "    </tr>\n",
       "    <tr>\n",
       "      <th>850</th>\n",
       "      <td>RobustScaler</td>\n",
       "      <td>PCA</td>\n",
       "      <td>2</td>\n",
       "      <td>KMeans(n_clusters=7, n_init=20, random_state=42)</td>\n",
       "      <td>7.00</td>\n",
       "      <td>0.64</td>\n",
       "      <td>5835.54</td>\n",
       "      <td>1.17</td>\n",
       "    </tr>\n",
       "    <tr>\n",
       "      <th>6</th>\n",
       "      <td>StandardScaler</td>\n",
       "      <td>PCA</td>\n",
       "      <td>3</td>\n",
       "      <td>KMeans(n_clusters=5, n_init=20, random_state=42)</td>\n",
       "      <td>5.00</td>\n",
       "      <td>0.57</td>\n",
       "      <td>1767.84</td>\n",
       "      <td>1.34</td>\n",
       "    </tr>\n",
       "  </tbody>\n",
       "</table>\n",
       "</div>"
      ],
      "text/plain": [
       "             scaler dim_reduction  n_components                                             model  n_clusters/eps  silhouette  calinski_harabasz  davies_bouldin\n",
       "872    RobustScaler           PCA             6  KMeans(n_clusters=5, n_init=20, random_state=42)            5.00        0.67            1446.53            1.57\n",
       "848    RobustScaler           PCA             2  KMeans(n_clusters=5, n_init=20, random_state=42)            5.00        0.67            1440.64            1.60\n",
       "878    RobustScaler           PCA             7  KMeans(n_clusters=5, n_init=20, random_state=42)            5.00        0.67            1479.89            1.64\n",
       "850    RobustScaler           PCA             2  KMeans(n_clusters=7, n_init=20, random_state=42)            7.00        0.64            5835.54            1.17\n",
       "6    StandardScaler           PCA             3  KMeans(n_clusters=5, n_init=20, random_state=42)            5.00        0.57            1767.84            1.34"
      ]
     },
     "execution_count": 208,
     "metadata": {},
     "output_type": "execute_result"
    }
   ],
   "source": [
    "final_preds_df.sort_values(['silhouette', 'calinski_harabasz', 'davies_bouldin'], ascending=[False, False, False]).head()"
   ]
  },
  {
   "cell_type": "code",
   "execution_count": null,
   "id": "1ffdc0a8",
   "metadata": {},
   "outputs": [],
   "source": []
  },
  {
   "cell_type": "markdown",
   "id": "40173400",
   "metadata": {},
   "source": [
    "## 6.6 Clusters Assignment"
   ]
  },
  {
   "cell_type": "code",
   "execution_count": 106,
   "id": "03c98601",
   "metadata": {},
   "outputs": [],
   "source": [
    "def gen_cluster(X: pd.DataFrame, X_train: pd.DataFrame, y: pd.Series, best_result: pd.DataFrame) -> pd.DataFrame:\n",
    "    X_scaled     = eval(best_result_df['scaler'][0] + '()').fit_transform(X_train)\n",
    "    X_reducted   = eval(best_result_df['dim_reduction'][0] + '()').fit_transform(X_scaled)\n",
    "    model_final  = eval(best_result_df['model'][0])\n",
    "    final_labels = model_final.fit_predict(X_reducted)\n",
    "\n",
    "    # try:\n",
    "    #     idx_order = np.argsort(model_final.means_.sum(axis=1))\n",
    "    # except AttributeError:\n",
    "    #     'Wrong Model'\n",
    "    # else:\n",
    "    #     idx_order = np.argsort(model_final.cluster_centers_.sum(axis=1))\n",
    "\n",
    "    \n",
    "    df_final = X.copy()\n",
    "    df_final['cluster'] = final_labels\n",
    "    \n",
    "    return df_final"
   ]
  },
  {
   "cell_type": "code",
   "execution_count": 116,
   "id": "19d03238",
   "metadata": {},
   "outputs": [],
   "source": [
    "df_final = gen_cluster(X, X_train, y, best_result_df)"
   ]
  },
  {
   "cell_type": "code",
   "execution_count": null,
   "id": "945e533e",
   "metadata": {},
   "outputs": [],
   "source": []
  },
  {
   "cell_type": "code",
   "execution_count": null,
   "id": "b6efbb7e",
   "metadata": {},
   "outputs": [],
   "source": []
  }
 ],
 "metadata": {
  "kernelspec": {
   "display_name": "Python 3 (ipykernel)",
   "language": "python",
   "name": "python3"
  },
  "language_info": {
   "codemirror_mode": {
    "name": "ipython",
    "version": 3
   },
   "file_extension": ".py",
   "mimetype": "text/x-python",
   "name": "python",
   "nbconvert_exporter": "python",
   "pygments_lexer": "ipython3",
   "version": "3.9.21"
  }
 },
 "nbformat": 4,
 "nbformat_minor": 5
}
